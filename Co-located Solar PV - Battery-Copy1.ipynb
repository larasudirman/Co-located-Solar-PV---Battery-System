{
 "cells": [
  {
   "cell_type": "code",
   "execution_count": 1,
   "id": "d38c9139-7621-4015-a1fa-1210a7084f7f",
   "metadata": {},
   "outputs": [],
   "source": [
    "import pypsa\n",
    "import pandas as pd\n",
    "import numpy as np\n",
    "import numpy_financial as npf\n",
    "import matplotlib.pyplot as plt\n",
    "import gurobipy as gp\n",
    "import seaborn as sns\n",
    "import pyomo.environ as pyo\n",
    "import os"
   ]
  },
  {
   "cell_type": "code",
   "execution_count": 3,
   "id": "c2d6756b-f201-4a1c-8481-127204525116",
   "metadata": {},
   "outputs": [],
   "source": [
    "solar_data = pd.read_csv('solargenerationyear2023rev5.csv', delimiter=';')\n",
    "prices_data = pd.read_csv('electricitypricesyear2023rev1.csv', delimiter=';')\n",
    "load_data = pd.read_csv('loaddata2023rev3.csv', delimiter=';')\n",
    "BM_prices_data = pd.read_csv('BMprices2023rev1.csv', delimiter=';')\n",
    "strike_price = 55"
   ]
  },
  {
   "cell_type": "code",
   "execution_count": 5,
   "id": "2472398a-7ec5-48b5-8ac7-068f663e3e18",
   "metadata": {},
   "outputs": [],
   "source": [
    "prices_data['datetime'] = pd.to_datetime(prices_data['datetime'], format='%d/%m/%y %H.%M')\n",
    "prices_data.set_index('datetime', inplace=True)\n",
    "prices_data.replace([np.inf, -np.inf], np.nan, inplace=True)\n",
    "prices_data_ffill  = prices_data.ffill()\n",
    "prices_data = prices_data.resample('H').mean()\n",
    "\n",
    "load_data['datetime'] = pd.to_datetime(load_data['datetime'], format='%d/%m/%y %H.%M')\n",
    "load_data.set_index('datetime', inplace=True)\n",
    "load_data.replace([np.inf, -np.inf], np.nan, inplace=True)\n",
    "load_data = load_data.resample('H').mean()"
   ]
  },
  {
   "cell_type": "code",
   "execution_count": 7,
   "id": "41dc99ed-702e-415d-a86f-e1f1ae22813a",
   "metadata": {},
   "outputs": [],
   "source": [
    "BM_prices_data['datetime'] = pd.to_datetime(BM_prices_data['datetime'], format='%d/%m/%y %H.%M')\n",
    "BM_prices_data.set_index('datetime', inplace=True)\n",
    "BM_prices_data.replace([np.inf, -np.inf], np.nan, inplace=True)\n",
    "BM_prices_data = BM_prices_data.resample('H').mean()"
   ]
  },
  {
   "cell_type": "code",
   "execution_count": 9,
   "id": "d347c754-291d-435f-b82e-bc4ccfb2643a",
   "metadata": {},
   "outputs": [],
   "source": [
    "solar_data['timestamp'] = solar_data['date'] + solar_data['time']\n",
    "solar_data = solar_data.drop(['date', 'time'], axis=1)\n",
    "\n",
    "solar_data.to_csv('combined_data.csv', index=False)\n",
    "solar_data['timestamp'] = pd.to_datetime(solar_data['timestamp'], format='%d-%m-%Y%H.%M.%S')\n",
    "solar_data.set_index('timestamp', inplace=True)"
   ]
  },
  {
   "cell_type": "code",
   "execution_count": 11,
   "id": "8560b5a2-ea1d-4353-9344-c796f0e630f0",
   "metadata": {},
   "outputs": [],
   "source": [
    "network = pypsa.Network()\n",
    "\n",
    "hours_in_year = pd.date_range(\"2022-01-01 00:00\", \"2022-12-31 23:00\", freq=\"H\")\n",
    "network.set_snapshots(hours_in_year)\n",
    "\n",
    "network.add(\"Bus\", \"Solar\")\n",
    "network.add(\"Bus\", \"Battery\")\n",
    "network.add(\"Bus\", \"Grid\")\n",
    "\n",
    "network.add(\"Load\",\n",
    "            \"load\",\n",
    "            bus=\"Grid\",\n",
    "            p_set=load_data['demand'].values)\n",
    "\n",
    "network.add(\"Generator\", \n",
    "            \"solar\", \n",
    "            bus=\"Solar\",\n",
    "            p_nom=20,\n",
    "            lifetime=20,\n",
    "            p_set=solar_data['generation'].values,\n",
    "            capital_cost=0,\n",
    "            marginal_cost=0,\n",
    "            p_nom_extendable=True,\n",
    "            carrier=\"solar\",\n",
    "           )\n",
    "\n",
    "network.add(\"Generator\",\n",
    "            \"Backup Generator\",\n",
    "            bus=\"Grid\",\n",
    "            capital_cost=1000000,\n",
    "            marginal_cost=prices_data['prices'].values,\n",
    "            p_nom_extendable=True,\n",
    "            )\n",
    "\n",
    "network.add(\"StorageUnit\",\n",
    "            \"battery\",\n",
    "            bus=\"Battery\",\n",
    "            lifetime=10, \n",
    "            marginal_cost=0,\n",
    "            max_hours=2,\n",
    "            state_of_charge_initial=0,\n",
    "            p_nom_extendable=True,\n",
    "            cyclic_state_of_charge=True,\n",
    "            capital_cost=700000,#perMW\n",
    "            efficiency_store=0.95,\n",
    "            efficiency_dispatch=0.95)\n",
    "\n",
    "network.add(\"Link\", \"solar_grid\", bus0=\"Solar\", bus1=\"Grid\", p_nom=20, marginal_cost=0)\n",
    "network.add(\"Link\", \"solar_battery\", bus0=\"Solar\", bus1=\"Battery\", p_nom=20)\n",
    "network.add(\"Link\", \"battery_grid\", bus0=\"Battery\", bus1=\"Grid\", p_nom=20, marginal_cost=0)\n",
    "network.add(\"Link\", \"grid_battery\", bus0=\"Grid\", bus1=\"Battery\", p_nom=20, marginal_cost=1)"
   ]
  },
  {
   "cell_type": "code",
   "execution_count": 13,
   "id": "88cf3eef-fbb8-44ff-9935-522b8baaa07c",
   "metadata": {
    "scrolled": true
   },
   "outputs": [
    {
     "name": "stderr",
     "output_type": "stream",
     "text": [
      "INFO:linopy.model: Solve problem using Gurobi solver\n"
     ]
    },
    {
     "name": "stdout",
     "output_type": "stream",
     "text": [
      "Set parameter Username\n"
     ]
    },
    {
     "name": "stderr",
     "output_type": "stream",
     "text": [
      "INFO:gurobipy:Set parameter Username\n"
     ]
    },
    {
     "name": "stdout",
     "output_type": "stream",
     "text": [
      "Academic license - for non-commercial use only - expires 2025-06-14\n"
     ]
    },
    {
     "name": "stderr",
     "output_type": "stream",
     "text": [
      "INFO:gurobipy:Academic license - for non-commercial use only - expires 2025-06-14\n",
      "INFO:linopy.io:Writing objective.\n",
      "Writing constraints.: 100%|\u001b[38;2;128;191;255m█████████████████████\u001b[0m| 18/18 [00:00<00:00, 27.34it/s]\u001b[0m\n",
      "Writing continuous variables.: 100%|\u001b[38;2;128;191;255m██████████████\u001b[0m| 7/7 [00:00<00:00, 64.83it/s]\u001b[0m\n",
      "INFO:linopy.io: Writing time: 0.83s\n"
     ]
    },
    {
     "name": "stdout",
     "output_type": "stream",
     "text": [
      "Read LP format model from file /private/var/folders/ng/xnmfplc57n51cnr7htdqb6g00000gn/T/linopy-problem-dbqxl5dz.lp\n"
     ]
    },
    {
     "name": "stderr",
     "output_type": "stream",
     "text": [
      "INFO:gurobipy:Read LP format model from file /private/var/folders/ng/xnmfplc57n51cnr7htdqb6g00000gn/T/linopy-problem-dbqxl5dz.lp\n"
     ]
    },
    {
     "name": "stdout",
     "output_type": "stream",
     "text": [
      "Reading time = 0.41 seconds\n"
     ]
    },
    {
     "name": "stderr",
     "output_type": "stream",
     "text": [
      "INFO:gurobipy:Reading time = 0.41 seconds\n"
     ]
    },
    {
     "name": "stdout",
     "output_type": "stream",
     "text": [
      "obj: 210243 rows, 78843 columns, 367923 nonzeros\n"
     ]
    },
    {
     "name": "stderr",
     "output_type": "stream",
     "text": [
      "INFO:gurobipy:obj: 210243 rows, 78843 columns, 367923 nonzeros\n"
     ]
    },
    {
     "name": "stdout",
     "output_type": "stream",
     "text": [
      "Gurobi Optimizer version 11.0.2 build v11.0.2rc0 (mac64[rosetta2] - Darwin 23.5.0 23F79)\n"
     ]
    },
    {
     "name": "stderr",
     "output_type": "stream",
     "text": [
      "INFO:gurobipy:Gurobi Optimizer version 11.0.2 build v11.0.2rc0 (mac64[rosetta2] - Darwin 23.5.0 23F79)\n"
     ]
    },
    {
     "name": "stdout",
     "output_type": "stream",
     "text": [
      "\n"
     ]
    },
    {
     "name": "stderr",
     "output_type": "stream",
     "text": [
      "INFO:gurobipy:\n"
     ]
    },
    {
     "name": "stdout",
     "output_type": "stream",
     "text": [
      "CPU model: Apple M1\n"
     ]
    },
    {
     "name": "stderr",
     "output_type": "stream",
     "text": [
      "INFO:gurobipy:CPU model: Apple M1\n"
     ]
    },
    {
     "name": "stdout",
     "output_type": "stream",
     "text": [
      "Thread count: 8 physical cores, 8 logical processors, using up to 8 threads\n"
     ]
    },
    {
     "name": "stderr",
     "output_type": "stream",
     "text": [
      "INFO:gurobipy:Thread count: 8 physical cores, 8 logical processors, using up to 8 threads\n"
     ]
    },
    {
     "name": "stdout",
     "output_type": "stream",
     "text": [
      "\n"
     ]
    },
    {
     "name": "stderr",
     "output_type": "stream",
     "text": [
      "INFO:gurobipy:\n"
     ]
    },
    {
     "name": "stdout",
     "output_type": "stream",
     "text": [
      "Optimize a model with 210243 rows, 78843 columns and 367923 nonzeros\n"
     ]
    },
    {
     "name": "stderr",
     "output_type": "stream",
     "text": [
      "INFO:gurobipy:Optimize a model with 210243 rows, 78843 columns and 367923 nonzeros\n"
     ]
    },
    {
     "name": "stdout",
     "output_type": "stream",
     "text": [
      "Model fingerprint: 0x3da28895\n"
     ]
    },
    {
     "name": "stderr",
     "output_type": "stream",
     "text": [
      "INFO:gurobipy:Model fingerprint: 0x3da28895\n"
     ]
    },
    {
     "name": "stdout",
     "output_type": "stream",
     "text": [
      "Coefficient statistics:\n"
     ]
    },
    {
     "name": "stderr",
     "output_type": "stream",
     "text": [
      "INFO:gurobipy:Coefficient statistics:\n"
     ]
    },
    {
     "name": "stdout",
     "output_type": "stream",
     "text": [
      "  Matrix range     [9e-01, 2e+00]\n"
     ]
    },
    {
     "name": "stderr",
     "output_type": "stream",
     "text": [
      "INFO:gurobipy:  Matrix range     [9e-01, 2e+00]\n"
     ]
    },
    {
     "name": "stdout",
     "output_type": "stream",
     "text": [
      "  Objective range  [5e-03, 1e+06]\n"
     ]
    },
    {
     "name": "stderr",
     "output_type": "stream",
     "text": [
      "INFO:gurobipy:  Objective range  [5e-03, 1e+06]\n"
     ]
    },
    {
     "name": "stdout",
     "output_type": "stream",
     "text": [
      "  Bounds range     [0e+00, 0e+00]\n"
     ]
    },
    {
     "name": "stderr",
     "output_type": "stream",
     "text": [
      "INFO:gurobipy:  Bounds range     [0e+00, 0e+00]\n"
     ]
    },
    {
     "name": "stdout",
     "output_type": "stream",
     "text": [
      "  RHS range        [2e-02, 2e+03]\n"
     ]
    },
    {
     "name": "stderr",
     "output_type": "stream",
     "text": [
      "INFO:gurobipy:  RHS range        [2e-02, 2e+03]\n"
     ]
    },
    {
     "name": "stdout",
     "output_type": "stream",
     "text": [
      "Presolve removed 166435 rows and 35047 columns\n"
     ]
    },
    {
     "name": "stderr",
     "output_type": "stream",
     "text": [
      "INFO:gurobipy:Presolve removed 166435 rows and 35047 columns\n"
     ]
    },
    {
     "name": "stdout",
     "output_type": "stream",
     "text": [
      "Presolve time: 0.33s\n"
     ]
    },
    {
     "name": "stderr",
     "output_type": "stream",
     "text": [
      "INFO:gurobipy:Presolve time: 0.33s\n"
     ]
    },
    {
     "name": "stdout",
     "output_type": "stream",
     "text": [
      "Presolved: 43808 rows, 43796 columns, 122664 nonzeros\n"
     ]
    },
    {
     "name": "stderr",
     "output_type": "stream",
     "text": [
      "INFO:gurobipy:Presolved: 43808 rows, 43796 columns, 122664 nonzeros\n"
     ]
    },
    {
     "name": "stdout",
     "output_type": "stream",
     "text": [
      "\n"
     ]
    },
    {
     "name": "stderr",
     "output_type": "stream",
     "text": [
      "INFO:gurobipy:\n"
     ]
    },
    {
     "name": "stdout",
     "output_type": "stream",
     "text": [
      "Concurrent LP optimizer: primal simplex, dual simplex, and barrier\n"
     ]
    },
    {
     "name": "stderr",
     "output_type": "stream",
     "text": [
      "INFO:gurobipy:Concurrent LP optimizer: primal simplex, dual simplex, and barrier\n"
     ]
    },
    {
     "name": "stdout",
     "output_type": "stream",
     "text": [
      "Showing barrier log only...\n"
     ]
    },
    {
     "name": "stderr",
     "output_type": "stream",
     "text": [
      "INFO:gurobipy:Showing barrier log only...\n"
     ]
    },
    {
     "name": "stdout",
     "output_type": "stream",
     "text": [
      "\n"
     ]
    },
    {
     "name": "stderr",
     "output_type": "stream",
     "text": [
      "INFO:gurobipy:\n"
     ]
    },
    {
     "name": "stdout",
     "output_type": "stream",
     "text": [
      "Ordering time: 0.01s\n"
     ]
    },
    {
     "name": "stderr",
     "output_type": "stream",
     "text": [
      "INFO:gurobipy:Ordering time: 0.01s\n"
     ]
    },
    {
     "name": "stdout",
     "output_type": "stream",
     "text": [
      "\n"
     ]
    },
    {
     "name": "stderr",
     "output_type": "stream",
     "text": [
      "INFO:gurobipy:\n"
     ]
    },
    {
     "name": "stdout",
     "output_type": "stream",
     "text": [
      "Barrier statistics:\n"
     ]
    },
    {
     "name": "stderr",
     "output_type": "stream",
     "text": [
      "INFO:gurobipy:Barrier statistics:\n"
     ]
    },
    {
     "name": "stdout",
     "output_type": "stream",
     "text": [
      " Dense cols : 1\n"
     ]
    },
    {
     "name": "stderr",
     "output_type": "stream",
     "text": [
      "INFO:gurobipy: Dense cols : 1\n"
     ]
    },
    {
     "name": "stdout",
     "output_type": "stream",
     "text": [
      " AA' NZ     : 9.642e+04\n"
     ]
    },
    {
     "name": "stderr",
     "output_type": "stream",
     "text": [
      "INFO:gurobipy: AA' NZ     : 9.642e+04\n"
     ]
    },
    {
     "name": "stdout",
     "output_type": "stream",
     "text": [
      " Factor NZ  : 4.818e+05 (roughly 40 MB of memory)\n"
     ]
    },
    {
     "name": "stderr",
     "output_type": "stream",
     "text": [
      "INFO:gurobipy: Factor NZ  : 4.818e+05 (roughly 40 MB of memory)\n"
     ]
    },
    {
     "name": "stdout",
     "output_type": "stream",
     "text": [
      " Factor Ops : 6.116e+06 (less than 1 second per iteration)\n"
     ]
    },
    {
     "name": "stderr",
     "output_type": "stream",
     "text": [
      "INFO:gurobipy: Factor Ops : 6.116e+06 (less than 1 second per iteration)\n"
     ]
    },
    {
     "name": "stdout",
     "output_type": "stream",
     "text": [
      " Threads    : 1\n"
     ]
    },
    {
     "name": "stderr",
     "output_type": "stream",
     "text": [
      "INFO:gurobipy: Threads    : 1\n"
     ]
    },
    {
     "name": "stdout",
     "output_type": "stream",
     "text": [
      "\n"
     ]
    },
    {
     "name": "stderr",
     "output_type": "stream",
     "text": [
      "INFO:gurobipy:\n"
     ]
    },
    {
     "name": "stdout",
     "output_type": "stream",
     "text": [
      "                  Objective                Residual\n"
     ]
    },
    {
     "name": "stderr",
     "output_type": "stream",
     "text": [
      "INFO:gurobipy:                  Objective                Residual\n"
     ]
    },
    {
     "name": "stdout",
     "output_type": "stream",
     "text": [
      "Iter       Primal          Dual         Primal    Dual     Compl     Time\n"
     ]
    },
    {
     "name": "stderr",
     "output_type": "stream",
     "text": [
      "INFO:gurobipy:Iter       Primal          Dual         Primal    Dual     Compl     Time\n"
     ]
    },
    {
     "name": "stdout",
     "output_type": "stream",
     "text": [
      "   0   3.98319097e+09 -8.76762951e+09  3.54e+02 3.50e-12  6.38e+06     1s\n"
     ]
    },
    {
     "name": "stderr",
     "output_type": "stream",
     "text": [
      "INFO:gurobipy:   0   3.98319097e+09 -8.76762951e+09  3.54e+02 3.50e-12  6.38e+06     1s\n"
     ]
    },
    {
     "name": "stdout",
     "output_type": "stream",
     "text": [
      "   1   3.99086001e+09 -8.13402414e+09  8.37e+01 1.87e+03  8.24e+05     1s\n"
     ]
    },
    {
     "name": "stderr",
     "output_type": "stream",
     "text": [
      "INFO:gurobipy:   1   3.99086001e+09 -8.13402414e+09  8.37e+01 1.87e+03  8.24e+05     1s\n"
     ]
    },
    {
     "name": "stdout",
     "output_type": "stream",
     "text": [
      "   2   3.93870354e+09 -3.54706987e+09  1.28e+01 1.57e+02  1.44e+05     1s\n"
     ]
    },
    {
     "name": "stderr",
     "output_type": "stream",
     "text": [
      "INFO:gurobipy:   2   3.93870354e+09 -3.54706987e+09  1.28e+01 1.57e+02  1.44e+05     1s\n"
     ]
    },
    {
     "name": "stdout",
     "output_type": "stream",
     "text": [
      "   3   3.86865115e+09  3.05888052e+09  1.73e+00 1.95e-09  9.50e+03     1s\n"
     ]
    },
    {
     "name": "stderr",
     "output_type": "stream",
     "text": [
      "INFO:gurobipy:   3   3.86865115e+09  3.05888052e+09  1.73e+00 1.95e-09  9.50e+03     1s\n"
     ]
    },
    {
     "name": "stdout",
     "output_type": "stream",
     "text": [
      "   4   3.66555493e+09  3.41751607e+09  1.27e-01 1.89e-09  2.84e+03     1s\n"
     ]
    },
    {
     "name": "stderr",
     "output_type": "stream",
     "text": [
      "INFO:gurobipy:   4   3.66555493e+09  3.41751607e+09  1.27e-01 1.89e-09  2.84e+03     1s\n"
     ]
    },
    {
     "name": "stdout",
     "output_type": "stream",
     "text": [
      "   5   3.64348036e+09  3.52212313e+09  9.43e-02 2.44e-10  1.39e+03     1s\n"
     ]
    },
    {
     "name": "stderr",
     "output_type": "stream",
     "text": [
      "INFO:gurobipy:   5   3.64348036e+09  3.52212313e+09  9.43e-02 2.44e-10  1.39e+03     1s\n"
     ]
    },
    {
     "name": "stdout",
     "output_type": "stream",
     "text": [
      "   6   3.58818774e+09  3.55229057e+09  2.23e-02 2.65e-09  4.10e+02     1s\n"
     ]
    },
    {
     "name": "stderr",
     "output_type": "stream",
     "text": [
      "INFO:gurobipy:   6   3.58818774e+09  3.55229057e+09  2.23e-02 2.65e-09  4.10e+02     1s\n"
     ]
    },
    {
     "name": "stdout",
     "output_type": "stream",
     "text": [
      "   7   3.58399894e+09  3.56604401e+09  1.74e-02 4.07e-10  2.05e+02     1s\n"
     ]
    },
    {
     "name": "stderr",
     "output_type": "stream",
     "text": [
      "INFO:gurobipy:   7   3.58399894e+09  3.56604401e+09  1.74e-02 4.07e-10  2.05e+02     1s\n"
     ]
    },
    {
     "name": "stdout",
     "output_type": "stream",
     "text": [
      "   8   3.58548636e+09  3.56703604e+09  1.69e-02 1.16e-10  2.11e+02     1s\n"
     ]
    },
    {
     "name": "stderr",
     "output_type": "stream",
     "text": [
      "INFO:gurobipy:   8   3.58548636e+09  3.56703604e+09  1.69e-02 1.16e-10  2.11e+02     1s\n"
     ]
    },
    {
     "name": "stdout",
     "output_type": "stream",
     "text": [
      "   9   3.58288828e+09  3.57704773e+09  2.31e-03 4.07e-10  6.67e+01     1s\n"
     ]
    },
    {
     "name": "stderr",
     "output_type": "stream",
     "text": [
      "INFO:gurobipy:   9   3.58288828e+09  3.57704773e+09  2.31e-03 4.07e-10  6.67e+01     1s\n"
     ]
    },
    {
     "name": "stdout",
     "output_type": "stream",
     "text": [
      "  10   3.58211731e+09  3.58025243e+09  7.54e-04 4.37e-10  2.13e+01     1s\n"
     ]
    },
    {
     "name": "stderr",
     "output_type": "stream",
     "text": [
      "INFO:gurobipy:  10   3.58211731e+09  3.58025243e+09  7.54e-04 4.37e-10  2.13e+01     1s\n"
     ]
    },
    {
     "name": "stdout",
     "output_type": "stream",
     "text": [
      "  11   3.58162770e+09  3.58096969e+09  1.96e-04 2.60e-11  7.51e+00     1s\n"
     ]
    },
    {
     "name": "stderr",
     "output_type": "stream",
     "text": [
      "INFO:gurobipy:  11   3.58162770e+09  3.58096969e+09  1.96e-04 2.60e-11  7.51e+00     1s\n"
     ]
    },
    {
     "name": "stdout",
     "output_type": "stream",
     "text": [
      "  12   3.58142022e+09  3.58120974e+09  6.04e-05 1.16e-10  2.40e+00     1s\n"
     ]
    },
    {
     "name": "stderr",
     "output_type": "stream",
     "text": [
      "INFO:gurobipy:  12   3.58142022e+09  3.58120974e+09  6.04e-05 1.16e-10  2.40e+00     1s\n"
     ]
    },
    {
     "name": "stdout",
     "output_type": "stream",
     "text": [
      "  13   3.58135510e+09  3.58127543e+09  2.11e-05 6.40e-10  9.10e-01     1s\n"
     ]
    },
    {
     "name": "stderr",
     "output_type": "stream",
     "text": [
      "INFO:gurobipy:  13   3.58135510e+09  3.58127543e+09  2.11e-05 6.40e-10  9.10e-01     1s\n"
     ]
    },
    {
     "name": "stdout",
     "output_type": "stream",
     "text": [
      "  14   3.58133696e+09  3.58129907e+09  4.15e-05 1.16e-10  4.33e-01     1s\n"
     ]
    },
    {
     "name": "stderr",
     "output_type": "stream",
     "text": [
      "INFO:gurobipy:  14   3.58133696e+09  3.58129907e+09  4.15e-05 1.16e-10  4.33e-01     1s\n"
     ]
    },
    {
     "name": "stdout",
     "output_type": "stream",
     "text": [
      "  15   3.58132577e+09  3.58130943e+09  1.02e-04 2.33e-10  1.87e-01     1s\n"
     ]
    },
    {
     "name": "stderr",
     "output_type": "stream",
     "text": [
      "INFO:gurobipy:  15   3.58132577e+09  3.58130943e+09  1.02e-04 2.33e-10  1.87e-01     1s\n"
     ]
    },
    {
     "name": "stdout",
     "output_type": "stream",
     "text": [
      "  16   3.58131959e+09  3.58131467e+09  7.20e-05 3.20e-10  5.67e-02     1s\n"
     ]
    },
    {
     "name": "stderr",
     "output_type": "stream",
     "text": [
      "INFO:gurobipy:  16   3.58131959e+09  3.58131467e+09  7.20e-05 3.20e-10  5.67e-02     1s\n"
     ]
    },
    {
     "name": "stdout",
     "output_type": "stream",
     "text": [
      "  17   3.58131671e+09  3.58131574e+09  2.58e-05 1.19e-09  1.12e-02     1s\n"
     ]
    },
    {
     "name": "stderr",
     "output_type": "stream",
     "text": [
      "INFO:gurobipy:  17   3.58131671e+09  3.58131574e+09  2.58e-05 1.19e-09  1.12e-02     1s\n"
     ]
    },
    {
     "name": "stdout",
     "output_type": "stream",
     "text": [
      "  18   3.58131615e+09  3.58131592e+09  1.21e-05 1.66e-09  2.76e-03     1s\n"
     ]
    },
    {
     "name": "stderr",
     "output_type": "stream",
     "text": [
      "INFO:gurobipy:  18   3.58131615e+09  3.58131592e+09  1.21e-05 1.66e-09  2.76e-03     1s\n"
     ]
    },
    {
     "name": "stdout",
     "output_type": "stream",
     "text": [
      "  19   3.58131604e+09  3.58131599e+09  5.40e-06 6.98e-10  6.36e-04     1s\n"
     ]
    },
    {
     "name": "stderr",
     "output_type": "stream",
     "text": [
      "INFO:gurobipy:  19   3.58131604e+09  3.58131599e+09  5.40e-06 6.98e-10  6.36e-04     1s\n"
     ]
    },
    {
     "name": "stdout",
     "output_type": "stream",
     "text": [
      "  20   3.58131603e+09  3.58131603e+09  1.78e-06 2.12e-11  1.75e-05     1s\n"
     ]
    },
    {
     "name": "stderr",
     "output_type": "stream",
     "text": [
      "INFO:gurobipy:  20   3.58131603e+09  3.58131603e+09  1.78e-06 2.12e-11  1.75e-05     1s\n"
     ]
    },
    {
     "name": "stdout",
     "output_type": "stream",
     "text": [
      "  21   3.58131603e+09  3.58131603e+09  3.10e-08 5.90e-11  7.26e-08     1s\n"
     ]
    },
    {
     "name": "stderr",
     "output_type": "stream",
     "text": [
      "INFO:gurobipy:  21   3.58131603e+09  3.58131603e+09  3.10e-08 5.90e-11  7.26e-08     1s\n"
     ]
    },
    {
     "name": "stdout",
     "output_type": "stream",
     "text": [
      "  22   3.58131603e+09  3.58131603e+09  7.78e-11 2.59e-08  7.26e-11     2s\n"
     ]
    },
    {
     "name": "stderr",
     "output_type": "stream",
     "text": [
      "INFO:gurobipy:  22   3.58131603e+09  3.58131603e+09  7.78e-11 2.59e-08  7.26e-11     2s\n"
     ]
    },
    {
     "name": "stdout",
     "output_type": "stream",
     "text": [
      "\n"
     ]
    },
    {
     "name": "stderr",
     "output_type": "stream",
     "text": [
      "INFO:gurobipy:\n"
     ]
    },
    {
     "name": "stdout",
     "output_type": "stream",
     "text": [
      "Barrier solved model in 22 iterations and 1.54 seconds (1.03 work units)\n"
     ]
    },
    {
     "name": "stderr",
     "output_type": "stream",
     "text": [
      "INFO:gurobipy:Barrier solved model in 22 iterations and 1.54 seconds (1.03 work units)\n"
     ]
    },
    {
     "name": "stdout",
     "output_type": "stream",
     "text": [
      "Optimal objective 3.58131603e+09\n"
     ]
    },
    {
     "name": "stderr",
     "output_type": "stream",
     "text": [
      "INFO:gurobipy:Optimal objective 3.58131603e+09\n"
     ]
    },
    {
     "name": "stdout",
     "output_type": "stream",
     "text": [
      "\n"
     ]
    },
    {
     "name": "stderr",
     "output_type": "stream",
     "text": [
      "INFO:gurobipy:\n"
     ]
    },
    {
     "name": "stdout",
     "output_type": "stream",
     "text": [
      "Crossover log...\n"
     ]
    },
    {
     "name": "stderr",
     "output_type": "stream",
     "text": [
      "INFO:gurobipy:Crossover log...\n"
     ]
    },
    {
     "name": "stdout",
     "output_type": "stream",
     "text": [
      "\n"
     ]
    },
    {
     "name": "stderr",
     "output_type": "stream",
     "text": [
      "INFO:gurobipy:\n"
     ]
    },
    {
     "name": "stdout",
     "output_type": "stream",
     "text": [
      "    8012 DPushes remaining with DInf 0.0000000e+00                 2s\n"
     ]
    },
    {
     "name": "stderr",
     "output_type": "stream",
     "text": [
      "INFO:gurobipy:    8012 DPushes remaining with DInf 0.0000000e+00                 2s\n"
     ]
    },
    {
     "name": "stdout",
     "output_type": "stream",
     "text": [
      "       0 DPushes remaining with DInf 0.0000000e+00                 2s\n"
     ]
    },
    {
     "name": "stderr",
     "output_type": "stream",
     "text": [
      "INFO:gurobipy:       0 DPushes remaining with DInf 0.0000000e+00                 2s\n"
     ]
    },
    {
     "name": "stdout",
     "output_type": "stream",
     "text": [
      "\n"
     ]
    },
    {
     "name": "stderr",
     "output_type": "stream",
     "text": [
      "INFO:gurobipy:\n"
     ]
    },
    {
     "name": "stdout",
     "output_type": "stream",
     "text": [
      "       2 PPushes remaining with PInf 0.0000000e+00                 2s\n"
     ]
    },
    {
     "name": "stderr",
     "output_type": "stream",
     "text": [
      "INFO:gurobipy:       2 PPushes remaining with PInf 0.0000000e+00                 2s\n"
     ]
    },
    {
     "name": "stdout",
     "output_type": "stream",
     "text": [
      "       0 PPushes remaining with PInf 0.0000000e+00                 2s\n"
     ]
    },
    {
     "name": "stderr",
     "output_type": "stream",
     "text": [
      "INFO:gurobipy:       0 PPushes remaining with PInf 0.0000000e+00                 2s\n"
     ]
    },
    {
     "name": "stdout",
     "output_type": "stream",
     "text": [
      "\n"
     ]
    },
    {
     "name": "stderr",
     "output_type": "stream",
     "text": [
      "INFO:gurobipy:\n"
     ]
    },
    {
     "name": "stdout",
     "output_type": "stream",
     "text": [
      "  Push phase complete: Pinf 0.0000000e+00, Dinf 1.2315524e-10      2s\n"
     ]
    },
    {
     "name": "stderr",
     "output_type": "stream",
     "text": [
      "INFO:gurobipy:  Push phase complete: Pinf 0.0000000e+00, Dinf 1.2315524e-10      2s\n"
     ]
    },
    {
     "name": "stdout",
     "output_type": "stream",
     "text": [
      "\n"
     ]
    },
    {
     "name": "stderr",
     "output_type": "stream",
     "text": [
      "INFO:gurobipy:\n"
     ]
    },
    {
     "name": "stdout",
     "output_type": "stream",
     "text": [
      "\n"
     ]
    },
    {
     "name": "stderr",
     "output_type": "stream",
     "text": [
      "INFO:gurobipy:\n"
     ]
    },
    {
     "name": "stdout",
     "output_type": "stream",
     "text": [
      "Solved with barrier\n"
     ]
    },
    {
     "name": "stderr",
     "output_type": "stream",
     "text": [
      "INFO:gurobipy:Solved with barrier\n"
     ]
    },
    {
     "name": "stdout",
     "output_type": "stream",
     "text": [
      "Extra simplex iterations after uncrush: 712\n"
     ]
    },
    {
     "name": "stderr",
     "output_type": "stream",
     "text": [
      "INFO:gurobipy:Extra simplex iterations after uncrush: 712\n"
     ]
    },
    {
     "name": "stdout",
     "output_type": "stream",
     "text": [
      "Iteration    Objective       Primal Inf.    Dual Inf.      Time\n"
     ]
    },
    {
     "name": "stderr",
     "output_type": "stream",
     "text": [
      "INFO:gurobipy:Iteration    Objective       Primal Inf.    Dual Inf.      Time\n"
     ]
    },
    {
     "name": "stdout",
     "output_type": "stream",
     "text": [
      "    8680    3.5813160e+09   0.000000e+00   0.000000e+00      2s\n"
     ]
    },
    {
     "name": "stderr",
     "output_type": "stream",
     "text": [
      "INFO:gurobipy:    8680    3.5813160e+09   0.000000e+00   0.000000e+00      2s\n"
     ]
    },
    {
     "name": "stdout",
     "output_type": "stream",
     "text": [
      "\n"
     ]
    },
    {
     "name": "stderr",
     "output_type": "stream",
     "text": [
      "INFO:gurobipy:\n"
     ]
    },
    {
     "name": "stdout",
     "output_type": "stream",
     "text": [
      "Solved in 8680 iterations and 1.78 seconds (1.34 work units)\n"
     ]
    },
    {
     "name": "stderr",
     "output_type": "stream",
     "text": [
      "INFO:gurobipy:Solved in 8680 iterations and 1.78 seconds (1.34 work units)\n"
     ]
    },
    {
     "name": "stdout",
     "output_type": "stream",
     "text": [
      "Optimal objective  3.581316028e+09\n"
     ]
    },
    {
     "name": "stderr",
     "output_type": "stream",
     "text": [
      "INFO:gurobipy:Optimal objective  3.581316028e+09\n",
      "INFO:linopy.constants: Optimization successful: \n",
      "Status: ok\n",
      "Termination condition: optimal\n",
      "Solution: 78843 primals, 210243 duals\n",
      "Objective: 3.58e+09\n",
      "Solver model: available\n",
      "Solver message: 2\n",
      "\n",
      "INFO:pypsa.optimization.optimize:The shadow-prices of the constraints Generator-ext-p-lower, Generator-ext-p-upper, Generator-p_set, Link-fix-p-lower, Link-fix-p-upper, StorageUnit-ext-p_dispatch-lower, StorageUnit-ext-p_dispatch-upper, StorageUnit-ext-p_store-lower, StorageUnit-ext-p_store-upper, StorageUnit-ext-state_of_charge-lower, StorageUnit-ext-state_of_charge-upper, StorageUnit-energy_balance, max_export_constraints were not assigned to the network.\n"
     ]
    },
    {
     "data": {
      "text/plain": [
       "('ok', 'optimal')"
      ]
     },
     "execution_count": 13,
     "metadata": {},
     "output_type": "execute_result"
    }
   ],
   "source": [
    "# Create the model instance\n",
    "network.optimize.create_model()\n",
    "\n",
    "# Modify the model to include the custom constraint\n",
    "def extra_functionality(n, snapshots):\n",
    "    from linopy import Model\n",
    "\n",
    "    m = n.model\n",
    "\n",
    "    # Retrieve the link power variables\n",
    "    link_p = m.variables['Link-p']\n",
    "\n",
    "    # Define the constraint for each snapshot\n",
    "    max_export_constraints = (\n",
    "        link_p[:, n.links.index.get_loc(\"solar_grid\")] + link_p[:, n.links.index.get_loc(\"battery_grid\")] <= 20\n",
    "    )\n",
    "    \n",
    "    m.add_constraints(max_export_constraints, name=\"max_export_constraints\")\n",
    "\n",
    "# Solve the modified model with the custom constraint\n",
    "network.optimize.solve_model(solver_name='gurobi', extra_functionality=extra_functionality)"
   ]
  },
  {
   "cell_type": "code",
   "execution_count": 17,
   "id": "a63e7c5a-2ee3-46d0-8da7-3fb77717db8f",
   "metadata": {},
   "outputs": [],
   "source": [
    "# Access optimized values\n",
    "initial_pv_nom_opt = network.generators.p_nom_opt['solar']\n",
    "initial_battery_nom_opt = network.storage_units.p_nom_opt['battery']\n",
    "battery_max_hours = network.storage_units.at[\"battery\", \"max_hours\"]\n",
    "battery_capacity = initial_battery_nom_opt * battery_max_hours\n",
    "back_up_generator = network.generators.p_nom_opt['Backup Generator']\n",
    "\n",
    "# Flows\n",
    "solar_grid_flow = network.links_t.p0[\"solar_grid\"]\n",
    "solar_battery_flow = network.links_t.p0[\"solar_battery\"]\n",
    "battery_grid_flow = network.links_t.p0[\"battery_grid\"]\n",
    "grid_battery_flow = network.links_t.p0[\"grid_battery\"]\n",
    "soc = network.storage_units_t.state_of_charge[\"battery\"]\n",
    "soc_percentage = (soc / battery_capacity) * 100\n",
    "\n",
    "# Total energy flow\n",
    "total_solar_grid = solar_grid_flow.sum()\n",
    "total_solar_battery = solar_battery_flow.sum()\n",
    "total_battery_grid = battery_grid_flow.sum()\n",
    "total_grid_battery = grid_battery_flow.sum()\n",
    "\n",
    "\n",
    "# Total energy generated by PV\n",
    "energy_generated_pv = network.generators_t.p[\"solar\"]\n",
    "total_energy_generated_pv = network.generators_t.p[\"solar\"].sum()\n",
    "\n",
    "# Total energy discharged by the battery over the year (in MWh)\n",
    "total_energy_discharged_battery = network.storage_units_t.p_dispatch[\"battery\"].sum()\n",
    "\n",
    "# Total energy charged by the battery over the year (in MWh)\n",
    "total_energy_charged_battery = network.storage_units_t.p_store[\"battery\"].sum()\n",
    "\n",
    "arbitrage_state_of_charge = network.storage_units_t.state_of_charge[\"battery\"].copy()\n",
    "arbitrage_p_dispatch = network.storage_units_t.p_dispatch[\"battery\"].copy()\n",
    "arbitrage_p_store = network.storage_units_t.p_store[\"battery\"].copy()\n",
    "\n",
    "# Create a DataFrame to save the results\n",
    "results = {\n",
    "    \"Initial Optimal Battery Size (MW)\": [initial_battery_nom_opt],\n",
    "    \"Initial Optimal Battery Capacity (MWh)\": [battery_capacity],\n",
    "    \"Initial Solar Size (MW)\": [initial_pv_nom_opt],\n",
    "    \"Backup Generator Size (MW)\": [back_up_generator],\n",
    "    \"Total Solar to Grid (MWh)\": [total_solar_grid],\n",
    "    \"Total Solar to Battery (MWh)\": [total_solar_battery],\n",
    "    \"Total Battery to Grid (MWh)\": [total_battery_grid],\n",
    "    \"Total Grid to Battery (MWh)\": [total_grid_battery],\n",
    "    \"Total Energy Generated by PV (MWh)\": [total_energy_generated_pv],\n",
    "    \"Total Energy Discharged by Battery (MWh)\": [total_energy_discharged_battery],\n",
    "    \"Total Energy Charged by Battery (MWh)\": [total_energy_charged_battery]\n",
    "}\n",
    "\n",
    "results_df = pd.DataFrame(results)\n",
    "\n",
    "# Save the state of charge, dispatch, and store data to separate sheets\n",
    "with pd.ExcelWriter(\"3busessetlink2023most.xlsx\") as writer:\n",
    "    results_df.to_excel(writer, sheet_name=\"Summary\", index=False)\n",
    "    energy_generated_pv.to_frame(name=\"Solar generated\").to_excel(writer, sheet_name=\"Solar generated\")\n",
    "    solar_grid_flow.to_frame(name=\"Solar to Grid (MW)\").to_excel(writer, sheet_name=\"Solar to Grid\")\n",
    "    solar_battery_flow.to_frame(name=\"Solar to Battery (MW)\").to_excel(writer, sheet_name=\"Solar to Battery\")\n",
    "    battery_grid_flow.to_frame(name=\"Battery to Grid (MW)\").to_excel(writer, sheet_name=\"Battery to Grid\")\n",
    "    grid_battery_flow.to_frame(name=\"Grid to Battery (MW)\").to_excel(writer, sheet_name=\"Grid to Battery\")\n",
    "    soc.to_frame(name=\"State of Charge (MWh)\").to_excel(writer, sheet_name=\"State of Charge\")\n",
    "    soc_percentage.to_frame(name=\"State of Charge (%)\").to_excel(writer, sheet_name=\"State of Charge %\")\n",
    "    arbitrage_p_dispatch.to_frame(name=\"Battery Dispatch (MW)\").to_excel(writer, sheet_name=\"Battery Dispatch\")\n",
    "    arbitrage_p_store.to_frame(name=\"Battery Store (MW)\").to_excel(writer, sheet_name=\"Battery Store\")"
   ]
  },
  {
   "cell_type": "code",
   "execution_count": 19,
   "id": "7dc4b24c-dd70-4f20-9a8b-b6dce71943e7",
   "metadata": {},
   "outputs": [
    {
     "data": {
      "image/png": "[encoded data removed]",
      "text/plain": [
       "<Figure size 1200x600 with 2 Axes>"
      ]
     },
     "metadata": {},
     "output_type": "display_data"
    }
   ],
   "source": [
    "soc = arbitrage_state_of_charge\n",
    "prices = prices_data.loc[network.snapshots, \"prices\"]\n",
    "\n",
    "# Calculate the maximum capacity of the battery\n",
    "max_capacity = network.storage_units.at['battery', 'p_nom_opt'] * network.storage_units.at['battery', 'max_hours']\n",
    "\n",
    "# Convert SoC to percentage\n",
    "soc_percentage = (soc / max_capacity) * 100\n",
    "\n",
    "start_date = \"2022-05-02\"\n",
    "end_date = \"2022-05-04\"\n",
    "    \n",
    "# Filter the data for the specific time range\n",
    "soc_filtered = soc_percentage.loc[start_date:end_date]\n",
    "prices_filtered = prices.loc[start_date:end_date]\n",
    "\n",
    "# Create a figure and axis objects\n",
    "fig, ax1 = plt.subplots(figsize=(12, 6))\n",
    "\n",
    "# Plot State of Charge (SoC) percentage with the first y-axis\n",
    "ax1.plot(soc_filtered.index, soc_filtered.values, label='State of Charge (SoC) %', color='blue')\n",
    "ax1.set_xlabel('Time')\n",
    "ax1.set_ylabel('State of Charge (%)', color='blue')\n",
    "ax1.tick_params(axis='y', labelcolor='blue')\n",
    "\n",
    "# Create a second y-axis to plot prices\n",
    "ax2 = ax1.twinx()\n",
    "ax2.step(prices_filtered.index, prices_filtered.values, label='Electricity Prices (GBP/MWh)', color='orange', where='mid', linestyle=\"--\")\n",
    "ax2.set_ylabel('Electricity Prices (GBP)', color='orange')\n",
    "ax2.tick_params(axis='y', labelcolor='orange')\n",
    "\n",
    "# Add a title and legend\n",
    "plt.title(f'State of Charge (%) and Electricity Prices')\n",
    "fig.tight_layout()\n",
    "\n",
    "# Show the plot\n",
    "plt.show()"
   ]
  },
  {
   "cell_type": "code",
   "execution_count": 21,
   "id": "d9bad1c6-1f8b-4bbf-b1f2-39a31da7c1bc",
   "metadata": {},
   "outputs": [
    {
     "data": {
      "image/png": "[encoded data removed]",
      "text/plain": [
       "<Figure size 1200x600 with 2 Axes>"
      ]
     },
     "metadata": {},
     "output_type": "display_data"
    }
   ],
   "source": [
    "battery_charge = network.storage_units_t.p_store[\"battery\"]\n",
    "battery_discharge = arbitrage_p_dispatch\n",
    "prices = prices_data.loc[network.snapshots, \"prices\"]\n",
    "charge_flow = network.links_t.p0[\"grid_battery\"]\n",
    "\n",
    "# Define the start and end dates for the plot\n",
    "start_date = \"2022-05-02\"\n",
    "end_date = \"2022-05-04\"\n",
    "    \n",
    "# Filter the data for the specific time range\n",
    "battery_charge_filtered = charge_flow.loc[start_date:end_date]\n",
    "battery_discharge_filtered = battery_discharge.loc[start_date:end_date]\n",
    "prices_filtered = prices.loc[start_date:end_date]\n",
    "\n",
    "# Create a figure and axis objects\n",
    "fig, ax1 = plt.subplots(figsize=(12, 6))\n",
    "\n",
    "# Plot Battery Charge and Discharge with the first y-axis\n",
    "ax1.fill_between(battery_charge_filtered.index, 0, battery_charge_filtered.values, label='Battery Charge', color='green', step='mid', alpha=0.6)\n",
    "ax1.fill_between(battery_discharge_filtered.index, 0, -battery_discharge_filtered.values, label='Battery Discharge', color='red', step='mid', alpha=0.6)\n",
    "ax1.set_xlabel('Time')\n",
    "ax1.set_ylabel('Power (MW)', color='black')\n",
    "ax1.tick_params(axis='y', labelcolor='black')\n",
    "ax1.legend(loc='upper left')\n",
    "\n",
    "# Create a second y-axis to plot prices\n",
    "ax2 = ax1.twinx()\n",
    "ax2.step(prices_filtered.index, prices_filtered.values, label='Electricity Prices (GBP)', color='orange', where='mid', linestyle=\"--\")\n",
    "ax2.set_ylabel('Electricity Prices (GBP)', color='orange')\n",
    "ax2.tick_params(axis='y', labelcolor='orange')\n",
    "ax2.legend(loc='upper right')\n",
    "\n",
    "# Add a title and tight layout\n",
    "plt.title('Battery Charge, Discharge, and Electricity Prices')\n",
    "fig.tight_layout()\n",
    "\n",
    "# Show the plot\n",
    "plt.show()"
   ]
  },
  {
   "cell_type": "code",
   "execution_count": 23,
   "id": "ff9df7b1-7be4-4d09-bdbb-377693dee2db",
   "metadata": {},
   "outputs": [
    {
     "data": {
      "image/png": "[encoded data removed]",
      "text/plain": [
       "<Figure size 1200x600 with 2 Axes>"
      ]
     },
     "metadata": {},
     "output_type": "display_data"
    }
   ],
   "source": [
    "import matplotlib.pyplot as plt\n",
    "charge_flow = link_charge\n",
    "battery_discharge = arbitrage_p_dispatch\n",
    "prices = prices_data.loc[network.snapshots, \"prices\"]\n",
    "solar_generation = network.generators_t.p[\"solar\"]\n",
    "# Define the start and end dates for the plot\n",
    "start_date = \"2022-05-02\"\n",
    "end_date = \"2022-05-04\"\n",
    "    \n",
    "# Filter the data for the specific time range\n",
    "charge_flow_filtered = charge_flow.loc[start_date:end_date]\n",
    "discharge_filtered = arbitrage_p_dispatch.loc[start_date:end_date]\n",
    "prices_filtered = prices.loc[start_date:end_date]\n",
    "solar_generation_filtered = solar_generation.loc[start_date:end_date]\n",
    "\n",
    "# Create a figure and axis objects\n",
    "fig, ax1 = plt.subplots(figsize=(12, 6))\n",
    "\n",
    "# Stacked area plot for Solar Generation and Battery Charge/Discharge\n",
    "ax1.fill_between(solar_generation_filtered.index, 0, solar_generation_filtered.values, label='Solar Generation', color='orange', step='mid', alpha=0.8)\n",
    "ax1.fill_between(charge_flow_filtered.index, solar_generation_filtered.values, solar_generation_filtered.values + charge_flow_filtered.values, label='Battery Charge', color='green', step='mid', alpha=0.7)\n",
    "ax1.fill_between(discharge_filtered.index, solar_generation_filtered.values, solar_generation_filtered.values + discharge_filtered.values, label='Battery Discharge', color='red', step='mid', alpha=0.7)\n",
    "\n",
    "\n",
    "# Plot customization\n",
    "ax1.set_xlabel('Time')\n",
    "ax1.set_ylabel('Power (MW)', color='black')\n",
    "ax1.tick_params(axis='y', labelcolor='black')\n",
    "ax1.legend(loc='upper left')\n",
    "\n",
    "# Create a second y-axis to plot prices\n",
    "ax2 = ax1.twinx()\n",
    "ax2.plot(prices_filtered.index, prices_filtered.values, label='Electricity Prices (GBP)', color='blue', linestyle='--')\n",
    "ax2.set_ylabel('Electricity Prices (GBP)', color='blue')\n",
    "ax2.tick_params(axis='y', labelcolor='blue')\n",
    "ax2.legend(loc='upper right')\n",
    "\n",
    "# Add a title and tight layout\n",
    "plt.title('Battery Charge, Discharge, Solar Generation, and Electricity Prices')\n",
    "fig.tight_layout()\n",
    "\n",
    "# Show the plot\n",
    "plt.show()\n"
   ]
  },
  {
   "cell_type": "code",
   "execution_count": 25,
   "id": "f138bbe1-e410-42a9-8f72-bff483d7ae61",
   "metadata": {},
   "outputs": [
    {
     "data": {
      "image/png": "[encoded data removed]",
      "text/plain": [
       "<Figure size 1200x600 with 2 Axes>"
      ]
     },
     "metadata": {},
     "output_type": "display_data"
    }
   ],
   "source": [
    "soc = network.storage_units_t.state_of_charge[\"battery\"]\n",
    "prices = prices_data.loc[network.snapshots, \"prices\"]\n",
    "battery_discharge = network.storage_units_t.p_dispatch[\"battery\"] * network.storage_units.at['battery', 'max_hours']\n",
    "charge_flow = network.links_t.p0[\"grid_battery\"] * network.storage_units.at['battery', 'max_hours']\n",
    "\n",
    "# Calculate the maximum capacity of the battery\n",
    "max_capacity = network.storage_units.at['battery', 'p_nom_opt'] * network.storage_units.at['battery', 'max_hours']\n",
    "\n",
    "# Convert SoC to percentage\n",
    "soc_percentage = (soc / max_capacity) * 100\n",
    "\n",
    "start_date = \"2022-05-02\"\n",
    "end_date = \"2022-05-04\"\n",
    "    \n",
    "# Filter the data for the specific time range\n",
    "soc_filtered = soc.loc[start_date:end_date]\n",
    "prices_filtered = prices.loc[start_date:end_date]\n",
    "battery_charge_filtered = charge_flow.loc[start_date:end_date]\n",
    "battery_discharge_filtered = battery_discharge.loc[start_date:end_date]\n",
    "\n",
    "# Create a figure and axis objects\n",
    "fig, ax1 = plt.subplots(figsize=(12, 6))\n",
    "\n",
    "# Plot State of Charge (SoC) percentage with the first y-axis\n",
    "ax1.plot(soc_filtered.index, soc_filtered.values, label='State of Charge (SoC)', color='blue')\n",
    "ax1.set_xlabel('Time')\n",
    "ax1.set_ylabel('State of Charge (%)', color='blue')\n",
    "ax1.tick_params(axis='y', labelcolor='blue')\n",
    "\n",
    "# Plot Battery Charge and Discharge with the first y-axis\n",
    "ax1.fill_between(battery_charge_filtered.index, 0, battery_charge_filtered.values, label='Battery Charge', color='green', step='mid', alpha=0.6)\n",
    "ax1.fill_between(battery_discharge_filtered.index, 0, battery_discharge_filtered.values, label='Battery Discharge', color='red', step='mid', alpha=0.6)\n",
    "ax1.set_xlabel('Time')\n",
    "ax1.set_ylabel('Energy (MWh)', color='black')\n",
    "ax1.tick_params(axis='y', labelcolor='black')\n",
    "ax1.legend(loc='upper left')\n",
    "\n",
    "# Create a second y-axis to plot prices\n",
    "ax2 = ax1.twinx()\n",
    "ax2.step(prices_filtered.index, prices_filtered.values, label='Electricity Prices (GBP)', color='magenta', where='mid', linestyle=\"--\")\n",
    "ax2.set_ylabel('Electricity Prices (GBP)', color='orange')\n",
    "ax2.tick_params(axis='y', labelcolor='orange')\n",
    "ax2.legend(loc='upper right')\n",
    "\n",
    "# Add a title and legend\n",
    "plt.title(f'Battery Schedulling Discharge and Charge')\n",
    "fig.tight_layout()\n",
    "\n",
    "# Show the plot\n",
    "plt.show()"
   ]
  },
  {
   "cell_type": "code",
   "execution_count": 35,
   "id": "da2eda23-6bee-4673-a644-f827d077172f",
   "metadata": {},
   "outputs": [],
   "source": [
    "# Extract the correct flows for charging and discharging\n",
    "charge_flow = network.links_t.p0[\"grid_battery\"]\n",
    "discharge_flow = network.links_t.p1[\"battery_grid\"]\n",
    "prices = prices_data.loc[network.snapshots, \"prices\"]\n",
    "solar_generation = network.generators_t.p[\"solar\"]\n",
    "p_dispatch = network.storage_units_t.p_dispatch[\"battery\"]\n",
    "p_store = network.storage_units_t.p_store[\"battery\"]\n",
    "initial_pv_nom_opt = network.generators.p_nom_opt['solar']\n",
    "\n",
    "# Define the strike price (example value)\n",
    "strike_price = 55\n",
    "revenue_solar_cfd = (network.generators_t.p[\"solar\"] * strike_price).sum()\n",
    "\n",
    "#Arbitrage Scenario\n",
    "# Calculate revenue from discharging\n",
    "discharge_revenue = (p_dispatch * prices).sum()\n",
    "# Calculate cost from charging\n",
    "charge_cost = (charge_flow * prices).sum()\n",
    "\n",
    "# Calculate net revenue from arbitrage\n",
    "net_arbitrage_revenue = discharge_revenue - charge_cost\n",
    "\n",
    "#Total Revenue\n",
    "total_revenue_gross = revenue_solar_cfd + discharge_revenue\n",
    "total_revenue = revenue_solar_cfd + net_arbitrage_revenue"
   ]
  },
  {
   "cell_type": "code",
   "execution_count": 37,
   "id": "a426060f-b7ed-4398-84df-b849ab7f03f6",
   "metadata": {},
   "outputs": [],
   "source": [
    "# Assumptions\n",
    "battery_capex_per_mw = 700000  \n",
    "battery_replacement = 580000\n",
    "# Operational Expenditure (OPEX)\n",
    "battery_opex_per_mw_per_year = 15000 \n",
    "# System Sizes\n",
    "battery_capacity_mw = network.storage_units.at['battery', 'p_nom_opt']\n",
    "battery_capacity_mwh = battery_capacity_mw * network.storage_units.at['battery', 'max_hours']\n",
    "# Capital Expenditure (CAPEX)\n",
    "battery_capex = (battery_capacity_mw * battery_capex_per_mw)\n",
    "total_replacement = battery_capacity_mw * battery_replacement \n",
    "# Operational Expenditure (OPEX)\n",
    "battery_opex = battery_capacity_mw * battery_opex_per_mw_per_year"
   ]
  },
  {
   "cell_type": "code",
   "execution_count": 41,
   "id": "ec19d513-bb2c-45a8-a146-30b1729c4060",
   "metadata": {},
   "outputs": [
    {
     "name": "stdout",
     "output_type": "stream",
     "text": [
      "Net Present Value (NPV): GBP-1917672.13\n",
      "Internal Rate of Return (IRR): 3.50%\n",
      "Payback Period: 19 years\n"
     ]
    },
    {
     "data": {
      "image/png": "[encoded data removed]",
      "text/plain": [
       "<Figure size 1200x600 with 1 Axes>"
      ]
     },
     "metadata": {},
     "output_type": "display_data"
    }
   ],
   "source": [
    "C_battery = battery_capex # Initial cost of battery in GBP\n",
    "R_battery = total_replacement  # Replacement cost of battery in GBP\n",
    "O_battery = battery_opex # Annual O&M cost of battery in GBP\n",
    "discount_rate = 0.05  # Discount rate\n",
    "battery_lifetime = 10  # Battery lifetime in years\n",
    "project_lifetime = 20  # Project lifetime in years\n",
    "construction_phase_years = 2\n",
    "price_escalation_rate = 0.02  # Annual price escalation rate\n",
    "\n",
    "# Provided annual revenues \n",
    "initial_arbitrage_revenue = net_arbitrage_revenue  # Initial arbitrage revenue in GBP\n",
    "\n",
    "# Calculate escalated revenues\n",
    "escalated_arbitrage_revenue = [initial_arbitrage_revenue * ((1 + price_escalation_rate) ** t) for t in range(project_lifetime + construction_phase_years)]\n",
    "annual_revenue = [escalated_arbitrage_revenue[t] for t in range(project_lifetime + construction_phase_years)]\n",
    "\n",
    "# Initialize cash flows list\n",
    "cash_flows = []\n",
    "\n",
    "# Construction phase (Years 0 and 1)\n",
    "C_battery_annual = C_battery / construction_phase_years\n",
    "cash_flows.append(-C_battery_annual)  # Year 0\n",
    "cash_flows.append(-C_battery_annual)  # Year 1\n",
    "\n",
    "# Operational phase (Years 2 to 16)\n",
    "for t in range(2, battery_lifetime + construction_phase_years):\n",
    "    cash_flow = annual_revenue[t-1] - O_battery\n",
    "    cash_flows.append(cash_flow)\n",
    "\n",
    "# Year 17 (Battery replacement, year 17 corresponds to year 16 of operation)\n",
    "cash_flow = annual_revenue[battery_lifetime + construction_phase_years - 1] - (R_battery + O_battery)\n",
    "cash_flows.append(cash_flow)\n",
    "\n",
    "# Operational phase continued (Years 18 to 32)\n",
    "for t in range(battery_lifetime + construction_phase_years + 1, project_lifetime + construction_phase_years + 1):\n",
    "    cash_flow = annual_revenue[t-1] - O_battery\n",
    "    cash_flows.append(cash_flow)\n",
    "\n",
    "# Calculate NPV\n",
    "npv = npf.npv(discount_rate, cash_flows)\n",
    "print(f\"Net Present Value (NPV): GBP{npv:.2f}\")\n",
    "\n",
    "# Calculate IRR\n",
    "irr = npf.irr(cash_flows)\n",
    "print(f\"Internal Rate of Return (IRR): {irr * 100:.2f}%\")\n",
    "\n",
    "# Calculate Payback Period\n",
    "cumulative_cash_flows = np.cumsum(cash_flows)\n",
    "payback_period = np.argmax(cumulative_cash_flows >= 0)\n",
    "\n",
    "# If the project never pays back, set payback period to None\n",
    "if cumulative_cash_flows[payback_period] < 0:\n",
    "    payback_period = None\n",
    "print(f\"Payback Period: {payback_period if payback_period is not None else 'Project does not pay back within the project lifetime'} years\")\n",
    "\n",
    "# Create a DataFrame for visualization\n",
    "years = list(range(project_lifetime + construction_phase_years + 1))\n",
    "df = pd.DataFrame({'Year': years, 'Cash Flow': cash_flows, 'Cumulative Cash Flow': cumulative_cash_flows})\n",
    "\n",
    "# Plotting\n",
    "plt.figure(figsize=(12, 6))\n",
    "plt.bar(df['Year'], df['Cash Flow'], color='blue', label='Annual Cash Flow')\n",
    "#plt.plot(df['Year'], df['Cumulative Cash Flow'], color='red', marker='o', linestyle='-', label='Cumulative Cash Flow')\n",
    "plt.axhline(0, color='black', linewidth=0.8)\n",
    "plt.axvline(payback_period, color='green', linestyle='--', label='Payback Period' if payback_period is not None else '')\n",
    "plt.title('Annual and Cumulative Cash Flows of the PV-Battery Colocated Project Stage 1')\n",
    "plt.xlabel('Year')\n",
    "plt.ylabel('Cash Flow (GBP)')\n",
    "plt.legend()\n",
    "plt.grid(True)\n",
    "plt.show()"
   ]
  },
  {
   "cell_type": "code",
   "execution_count": 43,
   "id": "ed26bd01-6d41-4c8b-a225-ea93a9e0a5cb",
   "metadata": {
    "scrolled": true
   },
   "outputs": [
    {
     "name": "stderr",
     "output_type": "stream",
     "text": [
      "INFO:linopy.model: Solve problem using Gurobi solver\n"
     ]
    },
    {
     "name": "stdout",
     "output_type": "stream",
     "text": [
      "Set parameter Username\n"
     ]
    },
    {
     "name": "stderr",
     "output_type": "stream",
     "text": [
      "INFO:gurobipy:Set parameter Username\n"
     ]
    },
    {
     "name": "stdout",
     "output_type": "stream",
     "text": [
      "Academic license - for non-commercial use only - expires 2025-06-14\n"
     ]
    },
    {
     "name": "stderr",
     "output_type": "stream",
     "text": [
      "INFO:gurobipy:Academic license - for non-commercial use only - expires 2025-06-14\n",
      "INFO:linopy.io:Writing objective.\n",
      "Writing constraints.: 100%|\u001b[38;2;128;191;255m█████████████████████\u001b[0m| 17/17 [00:00<00:00, 25.77it/s]\u001b[0m\n",
      "Writing continuous variables.: 100%|\u001b[38;2;128;191;255m██████████████\u001b[0m| 7/7 [00:00<00:00, 50.91it/s]\u001b[0m\n",
      "INFO:linopy.io: Writing time: 0.83s\n"
     ]
    },
    {
     "name": "stdout",
     "output_type": "stream",
     "text": [
      "Read LP format model from file /private/var/folders/ng/xnmfplc57n51cnr7htdqb6g00000gn/T/linopy-problem-yl75d6kj.lp\n"
     ]
    },
    {
     "name": "stderr",
     "output_type": "stream",
     "text": [
      "INFO:gurobipy:Read LP format model from file /private/var/folders/ng/xnmfplc57n51cnr7htdqb6g00000gn/T/linopy-problem-yl75d6kj.lp\n"
     ]
    },
    {
     "name": "stdout",
     "output_type": "stream",
     "text": [
      "Reading time = 0.53 seconds\n"
     ]
    },
    {
     "name": "stderr",
     "output_type": "stream",
     "text": [
      "INFO:gurobipy:Reading time = 0.53 seconds\n"
     ]
    },
    {
     "name": "stdout",
     "output_type": "stream",
     "text": [
      "obj: 201483 rows, 78843 columns, 350403 nonzeros\n"
     ]
    },
    {
     "name": "stderr",
     "output_type": "stream",
     "text": [
      "INFO:gurobipy:obj: 201483 rows, 78843 columns, 350403 nonzeros\n"
     ]
    },
    {
     "name": "stdout",
     "output_type": "stream",
     "text": [
      "Gurobi Optimizer version 11.0.2 build v11.0.2rc0 (mac64[rosetta2] - Darwin 23.5.0 23F79)\n"
     ]
    },
    {
     "name": "stderr",
     "output_type": "stream",
     "text": [
      "INFO:gurobipy:Gurobi Optimizer version 11.0.2 build v11.0.2rc0 (mac64[rosetta2] - Darwin 23.5.0 23F79)\n"
     ]
    },
    {
     "name": "stdout",
     "output_type": "stream",
     "text": [
      "\n"
     ]
    },
    {
     "name": "stderr",
     "output_type": "stream",
     "text": [
      "INFO:gurobipy:\n"
     ]
    },
    {
     "name": "stdout",
     "output_type": "stream",
     "text": [
      "CPU model: Apple M1\n"
     ]
    },
    {
     "name": "stderr",
     "output_type": "stream",
     "text": [
      "INFO:gurobipy:CPU model: Apple M1\n"
     ]
    },
    {
     "name": "stdout",
     "output_type": "stream",
     "text": [
      "Thread count: 8 physical cores, 8 logical processors, using up to 8 threads\n"
     ]
    },
    {
     "name": "stderr",
     "output_type": "stream",
     "text": [
      "INFO:gurobipy:Thread count: 8 physical cores, 8 logical processors, using up to 8 threads\n"
     ]
    },
    {
     "name": "stdout",
     "output_type": "stream",
     "text": [
      "\n"
     ]
    },
    {
     "name": "stderr",
     "output_type": "stream",
     "text": [
      "INFO:gurobipy:\n"
     ]
    },
    {
     "name": "stdout",
     "output_type": "stream",
     "text": [
      "Optimize a model with 201483 rows, 78843 columns and 350403 nonzeros\n"
     ]
    },
    {
     "name": "stderr",
     "output_type": "stream",
     "text": [
      "INFO:gurobipy:Optimize a model with 201483 rows, 78843 columns and 350403 nonzeros\n"
     ]
    },
    {
     "name": "stdout",
     "output_type": "stream",
     "text": [
      "Model fingerprint: 0x3664bc70\n"
     ]
    },
    {
     "name": "stderr",
     "output_type": "stream",
     "text": [
      "INFO:gurobipy:Model fingerprint: 0x3664bc70\n"
     ]
    },
    {
     "name": "stdout",
     "output_type": "stream",
     "text": [
      "Coefficient statistics:\n"
     ]
    },
    {
     "name": "stderr",
     "output_type": "stream",
     "text": [
      "INFO:gurobipy:Coefficient statistics:\n"
     ]
    },
    {
     "name": "stdout",
     "output_type": "stream",
     "text": [
      "  Matrix range     [9e-01, 2e+00]\n"
     ]
    },
    {
     "name": "stderr",
     "output_type": "stream",
     "text": [
      "INFO:gurobipy:  Matrix range     [9e-01, 2e+00]\n"
     ]
    },
    {
     "name": "stdout",
     "output_type": "stream",
     "text": [
      "  Objective range  [5e-03, 1e+06]\n"
     ]
    },
    {
     "name": "stderr",
     "output_type": "stream",
     "text": [
      "INFO:gurobipy:  Objective range  [5e-03, 1e+06]\n"
     ]
    },
    {
     "name": "stdout",
     "output_type": "stream",
     "text": [
      "  Bounds range     [0e+00, 0e+00]\n"
     ]
    },
    {
     "name": "stderr",
     "output_type": "stream",
     "text": [
      "INFO:gurobipy:  Bounds range     [0e+00, 0e+00]\n"
     ]
    },
    {
     "name": "stdout",
     "output_type": "stream",
     "text": [
      "  RHS range        [2e-02, 2e+03]\n"
     ]
    },
    {
     "name": "stderr",
     "output_type": "stream",
     "text": [
      "INFO:gurobipy:  RHS range        [2e-02, 2e+03]\n"
     ]
    },
    {
     "name": "stdout",
     "output_type": "stream",
     "text": [
      "Presolve removed 157675 rows and 35047 columns\n"
     ]
    },
    {
     "name": "stderr",
     "output_type": "stream",
     "text": [
      "INFO:gurobipy:Presolve removed 157675 rows and 35047 columns\n"
     ]
    },
    {
     "name": "stdout",
     "output_type": "stream",
     "text": [
      "Presolve time: 0.42s\n"
     ]
    },
    {
     "name": "stderr",
     "output_type": "stream",
     "text": [
      "INFO:gurobipy:Presolve time: 0.42s\n"
     ]
    },
    {
     "name": "stdout",
     "output_type": "stream",
     "text": [
      "Presolved: 43808 rows, 43796 columns, 122664 nonzeros\n"
     ]
    },
    {
     "name": "stderr",
     "output_type": "stream",
     "text": [
      "INFO:gurobipy:Presolved: 43808 rows, 43796 columns, 122664 nonzeros\n"
     ]
    },
    {
     "name": "stdout",
     "output_type": "stream",
     "text": [
      "\n"
     ]
    },
    {
     "name": "stderr",
     "output_type": "stream",
     "text": [
      "INFO:gurobipy:\n"
     ]
    },
    {
     "name": "stdout",
     "output_type": "stream",
     "text": [
      "Concurrent LP optimizer: primal simplex, dual simplex, and barrier\n"
     ]
    },
    {
     "name": "stderr",
     "output_type": "stream",
     "text": [
      "INFO:gurobipy:Concurrent LP optimizer: primal simplex, dual simplex, and barrier\n"
     ]
    },
    {
     "name": "stdout",
     "output_type": "stream",
     "text": [
      "Showing barrier log only...\n"
     ]
    },
    {
     "name": "stderr",
     "output_type": "stream",
     "text": [
      "INFO:gurobipy:Showing barrier log only...\n"
     ]
    },
    {
     "name": "stdout",
     "output_type": "stream",
     "text": [
      "\n"
     ]
    },
    {
     "name": "stderr",
     "output_type": "stream",
     "text": [
      "INFO:gurobipy:\n"
     ]
    },
    {
     "name": "stdout",
     "output_type": "stream",
     "text": [
      "Ordering time: 0.04s\n"
     ]
    },
    {
     "name": "stderr",
     "output_type": "stream",
     "text": [
      "INFO:gurobipy:Ordering time: 0.04s\n"
     ]
    },
    {
     "name": "stdout",
     "output_type": "stream",
     "text": [
      "\n"
     ]
    },
    {
     "name": "stderr",
     "output_type": "stream",
     "text": [
      "INFO:gurobipy:\n"
     ]
    },
    {
     "name": "stdout",
     "output_type": "stream",
     "text": [
      "Barrier statistics:\n"
     ]
    },
    {
     "name": "stderr",
     "output_type": "stream",
     "text": [
      "INFO:gurobipy:Barrier statistics:\n"
     ]
    },
    {
     "name": "stdout",
     "output_type": "stream",
     "text": [
      " Dense cols : 1\n"
     ]
    },
    {
     "name": "stderr",
     "output_type": "stream",
     "text": [
      "INFO:gurobipy: Dense cols : 1\n"
     ]
    },
    {
     "name": "stdout",
     "output_type": "stream",
     "text": [
      " AA' NZ     : 9.642e+04\n"
     ]
    },
    {
     "name": "stderr",
     "output_type": "stream",
     "text": [
      "INFO:gurobipy: AA' NZ     : 9.642e+04\n"
     ]
    },
    {
     "name": "stdout",
     "output_type": "stream",
     "text": [
      " Factor NZ  : 4.818e+05 (roughly 40 MB of memory)\n"
     ]
    },
    {
     "name": "stderr",
     "output_type": "stream",
     "text": [
      "INFO:gurobipy: Factor NZ  : 4.818e+05 (roughly 40 MB of memory)\n"
     ]
    },
    {
     "name": "stdout",
     "output_type": "stream",
     "text": [
      " Factor Ops : 6.116e+06 (less than 1 second per iteration)\n"
     ]
    },
    {
     "name": "stderr",
     "output_type": "stream",
     "text": [
      "INFO:gurobipy: Factor Ops : 6.116e+06 (less than 1 second per iteration)\n"
     ]
    },
    {
     "name": "stdout",
     "output_type": "stream",
     "text": [
      " Threads    : 1\n"
     ]
    },
    {
     "name": "stderr",
     "output_type": "stream",
     "text": [
      "INFO:gurobipy: Threads    : 1\n"
     ]
    },
    {
     "name": "stdout",
     "output_type": "stream",
     "text": [
      "\n"
     ]
    },
    {
     "name": "stderr",
     "output_type": "stream",
     "text": [
      "INFO:gurobipy:\n"
     ]
    },
    {
     "name": "stdout",
     "output_type": "stream",
     "text": [
      "                  Objective                Residual\n"
     ]
    },
    {
     "name": "stderr",
     "output_type": "stream",
     "text": [
      "INFO:gurobipy:                  Objective                Residual\n"
     ]
    },
    {
     "name": "stdout",
     "output_type": "stream",
     "text": [
      "Iter       Primal          Dual         Primal    Dual     Compl     Time\n"
     ]
    },
    {
     "name": "stderr",
     "output_type": "stream",
     "text": [
      "INFO:gurobipy:Iter       Primal          Dual         Primal    Dual     Compl     Time\n"
     ]
    },
    {
     "name": "stdout",
     "output_type": "stream",
     "text": [
      "   0   4.06373411e+09 -2.12391452e+10  3.56e+02 3.50e-12  1.21e+07     1s\n"
     ]
    },
    {
     "name": "stderr",
     "output_type": "stream",
     "text": [
      "INFO:gurobipy:   0   4.06373411e+09 -2.12391452e+10  3.56e+02 3.50e-12  1.21e+07     1s\n"
     ]
    },
    {
     "name": "stdout",
     "output_type": "stream",
     "text": [
      "   1   4.04878229e+09 -1.97639701e+10  8.41e+01 3.30e+03  1.52e+06     1s\n"
     ]
    },
    {
     "name": "stderr",
     "output_type": "stream",
     "text": [
      "INFO:gurobipy:   1   4.04878229e+09 -1.97639701e+10  8.41e+01 3.30e+03  1.52e+06     1s\n"
     ]
    },
    {
     "name": "stdout",
     "output_type": "stream",
     "text": [
      "   2   3.97508777e+09 -9.73620847e+09  1.20e+01 2.53e+02  2.53e+05     1s\n"
     ]
    },
    {
     "name": "stderr",
     "output_type": "stream",
     "text": [
      "INFO:gurobipy:   2   3.97508777e+09 -9.73620847e+09  1.20e+01 2.53e+02  2.53e+05     1s\n"
     ]
    },
    {
     "name": "stdout",
     "output_type": "stream",
     "text": [
      "   3   3.92291716e+09  2.34817018e+09  1.44e+00 6.98e-10  1.85e+04     1s\n"
     ]
    },
    {
     "name": "stderr",
     "output_type": "stream",
     "text": [
      "INFO:gurobipy:   3   3.92291716e+09  2.34817018e+09  1.44e+00 6.98e-10  1.85e+04     1s\n"
     ]
    },
    {
     "name": "stdout",
     "output_type": "stream",
     "text": [
      "   4   3.70698646e+09  3.36521280e+09  1.14e-01 9.96e-11  3.92e+03     1s\n"
     ]
    },
    {
     "name": "stderr",
     "output_type": "stream",
     "text": [
      "INFO:gurobipy:   4   3.70698646e+09  3.36521280e+09  1.14e-01 9.96e-11  3.92e+03     1s\n"
     ]
    },
    {
     "name": "stdout",
     "output_type": "stream",
     "text": [
      "   5   3.65952611e+09  3.49695256e+09  5.31e-02 4.80e-11  1.86e+03     1s\n"
     ]
    },
    {
     "name": "stderr",
     "output_type": "stream",
     "text": [
      "INFO:gurobipy:   5   3.65952611e+09  3.49695256e+09  5.31e-02 4.80e-11  1.86e+03     1s\n"
     ]
    },
    {
     "name": "stdout",
     "output_type": "stream",
     "text": [
      "   6   3.62332439e+09  3.56897314e+09  2.16e-02 3.20e-10  6.21e+02     1s\n"
     ]
    },
    {
     "name": "stderr",
     "output_type": "stream",
     "text": [
      "INFO:gurobipy:   6   3.62332439e+09  3.56897314e+09  2.16e-02 3.20e-10  6.21e+02     1s\n"
     ]
    },
    {
     "name": "stdout",
     "output_type": "stream",
     "text": [
      "   7   3.61395379e+09  3.58418809e+09  1.34e-02 2.33e-10  3.40e+02     1s\n"
     ]
    },
    {
     "name": "stderr",
     "output_type": "stream",
     "text": [
      "INFO:gurobipy:   7   3.61395379e+09  3.58418809e+09  1.34e-02 2.33e-10  3.40e+02     1s\n"
     ]
    },
    {
     "name": "stdout",
     "output_type": "stream",
     "text": [
      "   8   3.61058410e+09  3.59326800e+09  1.08e-02 4.55e-13  1.98e+02     1s\n"
     ]
    },
    {
     "name": "stderr",
     "output_type": "stream",
     "text": [
      "INFO:gurobipy:   8   3.61058410e+09  3.59326800e+09  1.08e-02 4.55e-13  1.98e+02     1s\n"
     ]
    },
    {
     "name": "stdout",
     "output_type": "stream",
     "text": [
      "   9   3.60921715e+09  3.60461359e+09  2.11e-03 1.63e-09  5.26e+01     1s\n"
     ]
    },
    {
     "name": "stderr",
     "output_type": "stream",
     "text": [
      "INFO:gurobipy:   9   3.60921715e+09  3.60461359e+09  2.11e-03 1.63e-09  5.26e+01     1s\n"
     ]
    },
    {
     "name": "stdout",
     "output_type": "stream",
     "text": [
      "  10   3.60839476e+09  3.60634675e+09  1.08e-03 1.16e-10  2.34e+01     1s\n"
     ]
    },
    {
     "name": "stderr",
     "output_type": "stream",
     "text": [
      "INFO:gurobipy:  10   3.60839476e+09  3.60634675e+09  1.08e-03 1.16e-10  2.34e+01     1s\n"
     ]
    },
    {
     "name": "stdout",
     "output_type": "stream",
     "text": [
      "  11   3.60781635e+09  3.60693396e+09  4.21e-04 1.46e-09  1.01e+01     1s\n"
     ]
    },
    {
     "name": "stderr",
     "output_type": "stream",
     "text": [
      "INFO:gurobipy:  11   3.60781635e+09  3.60693396e+09  4.21e-04 1.46e-09  1.01e+01     1s\n"
     ]
    },
    {
     "name": "stdout",
     "output_type": "stream",
     "text": [
      "  12   3.60755613e+09  3.60714918e+09  1.68e-04 9.72e-11  4.65e+00     1s\n"
     ]
    },
    {
     "name": "stderr",
     "output_type": "stream",
     "text": [
      "INFO:gurobipy:  12   3.60755613e+09  3.60714918e+09  1.68e-04 9.72e-11  4.65e+00     1s\n"
     ]
    },
    {
     "name": "stdout",
     "output_type": "stream",
     "text": [
      "  13   3.60746341e+09  3.60728547e+09  7.91e-05 1.40e-09  2.03e+00     1s\n"
     ]
    },
    {
     "name": "stderr",
     "output_type": "stream",
     "text": [
      "INFO:gurobipy:  13   3.60746341e+09  3.60728547e+09  7.91e-05 1.40e-09  2.03e+00     1s\n"
     ]
    },
    {
     "name": "stdout",
     "output_type": "stream",
     "text": [
      "  14   3.60741476e+09  3.60733756e+09  3.47e-05 1.16e-10  8.82e-01     1s\n"
     ]
    },
    {
     "name": "stderr",
     "output_type": "stream",
     "text": [
      "INFO:gurobipy:  14   3.60741476e+09  3.60733756e+09  3.47e-05 1.16e-10  8.82e-01     1s\n"
     ]
    },
    {
     "name": "stdout",
     "output_type": "stream",
     "text": [
      "  15   3.60738898e+09  3.60736336e+09  4.03e-05 5.82e-11  2.93e-01     1s\n"
     ]
    },
    {
     "name": "stderr",
     "output_type": "stream",
     "text": [
      "INFO:gurobipy:  15   3.60738898e+09  3.60736336e+09  4.03e-05 5.82e-11  2.93e-01     1s\n"
     ]
    },
    {
     "name": "stdout",
     "output_type": "stream",
     "text": [
      "  16   3.60737827e+09  3.60737269e+09  9.29e-05 1.37e-09  6.43e-02     1s\n"
     ]
    },
    {
     "name": "stderr",
     "output_type": "stream",
     "text": [
      "INFO:gurobipy:  16   3.60737827e+09  3.60737269e+09  9.29e-05 1.37e-09  6.43e-02     1s\n"
     ]
    },
    {
     "name": "stdout",
     "output_type": "stream",
     "text": [
      "  17   3.60737512e+09  3.60737357e+09  6.61e-05 1.16e-10  1.81e-02     1s\n"
     ]
    },
    {
     "name": "stderr",
     "output_type": "stream",
     "text": [
      "INFO:gurobipy:  17   3.60737512e+09  3.60737357e+09  6.61e-05 1.16e-10  1.81e-02     1s\n"
     ]
    },
    {
     "name": "stdout",
     "output_type": "stream",
     "text": [
      "  18   3.60737450e+09  3.60737399e+09  3.22e-05 2.04e-10  6.00e-03     1s\n"
     ]
    },
    {
     "name": "stderr",
     "output_type": "stream",
     "text": [
      "INFO:gurobipy:  18   3.60737450e+09  3.60737399e+09  3.22e-05 2.04e-10  6.00e-03     1s\n"
     ]
    },
    {
     "name": "stdout",
     "output_type": "stream",
     "text": [
      "  19   3.60737425e+09  3.60737418e+09  1.06e-05 1.08e-09  9.56e-04     2s\n"
     ]
    },
    {
     "name": "stderr",
     "output_type": "stream",
     "text": [
      "INFO:gurobipy:  19   3.60737425e+09  3.60737418e+09  1.06e-05 1.08e-09  9.56e-04     2s\n"
     ]
    },
    {
     "name": "stdout",
     "output_type": "stream",
     "text": [
      "  20   3.60737421e+09  3.60737421e+09  3.60e-06 1.16e-10  7.33e-05     2s\n"
     ]
    },
    {
     "name": "stderr",
     "output_type": "stream",
     "text": [
      "INFO:gurobipy:  20   3.60737421e+09  3.60737421e+09  3.60e-06 1.16e-10  7.33e-05     2s\n"
     ]
    },
    {
     "name": "stdout",
     "output_type": "stream",
     "text": [
      "  21   3.60737421e+09  3.60737421e+09  1.54e-07 3.73e-11  2.44e-06     2s\n"
     ]
    },
    {
     "name": "stderr",
     "output_type": "stream",
     "text": [
      "INFO:gurobipy:  21   3.60737421e+09  3.60737421e+09  1.54e-07 3.73e-11  2.44e-06     2s\n"
     ]
    },
    {
     "name": "stdout",
     "output_type": "stream",
     "text": [
      "  22   3.60737421e+09  3.60737421e+09  1.50e-10 5.11e-08  2.44e-09     2s\n"
     ]
    },
    {
     "name": "stderr",
     "output_type": "stream",
     "text": [
      "INFO:gurobipy:  22   3.60737421e+09  3.60737421e+09  1.50e-10 5.11e-08  2.44e-09     2s\n"
     ]
    },
    {
     "name": "stdout",
     "output_type": "stream",
     "text": [
      "\n"
     ]
    },
    {
     "name": "stderr",
     "output_type": "stream",
     "text": [
      "INFO:gurobipy:\n"
     ]
    },
    {
     "name": "stdout",
     "output_type": "stream",
     "text": [
      "Barrier solved model in 22 iterations and 1.67 seconds (1.00 work units)\n"
     ]
    },
    {
     "name": "stderr",
     "output_type": "stream",
     "text": [
      "INFO:gurobipy:Barrier solved model in 22 iterations and 1.67 seconds (1.00 work units)\n"
     ]
    },
    {
     "name": "stdout",
     "output_type": "stream",
     "text": [
      "Optimal objective 3.60737421e+09\n"
     ]
    },
    {
     "name": "stderr",
     "output_type": "stream",
     "text": [
      "INFO:gurobipy:Optimal objective 3.60737421e+09\n"
     ]
    },
    {
     "name": "stdout",
     "output_type": "stream",
     "text": [
      "\n"
     ]
    },
    {
     "name": "stderr",
     "output_type": "stream",
     "text": [
      "INFO:gurobipy:\n"
     ]
    },
    {
     "name": "stdout",
     "output_type": "stream",
     "text": [
      "Crossover log...\n"
     ]
    },
    {
     "name": "stderr",
     "output_type": "stream",
     "text": [
      "INFO:gurobipy:Crossover log...\n"
     ]
    },
    {
     "name": "stdout",
     "output_type": "stream",
     "text": [
      "\n"
     ]
    },
    {
     "name": "stderr",
     "output_type": "stream",
     "text": [
      "INFO:gurobipy:\n"
     ]
    },
    {
     "name": "stdout",
     "output_type": "stream",
     "text": [
      "    5999 DPushes remaining with DInf 0.0000000e+00                 2s\n"
     ]
    },
    {
     "name": "stderr",
     "output_type": "stream",
     "text": [
      "INFO:gurobipy:    5999 DPushes remaining with DInf 0.0000000e+00                 2s\n"
     ]
    },
    {
     "name": "stdout",
     "output_type": "stream",
     "text": [
      "       0 DPushes remaining with DInf 0.0000000e+00                 2s\n"
     ]
    },
    {
     "name": "stderr",
     "output_type": "stream",
     "text": [
      "INFO:gurobipy:       0 DPushes remaining with DInf 0.0000000e+00                 2s\n"
     ]
    },
    {
     "name": "stdout",
     "output_type": "stream",
     "text": [
      "\n"
     ]
    },
    {
     "name": "stderr",
     "output_type": "stream",
     "text": [
      "INFO:gurobipy:\n"
     ]
    },
    {
     "name": "stdout",
     "output_type": "stream",
     "text": [
      "     352 PPushes remaining with PInf 0.0000000e+00                 2s\n"
     ]
    },
    {
     "name": "stderr",
     "output_type": "stream",
     "text": [
      "INFO:gurobipy:     352 PPushes remaining with PInf 0.0000000e+00                 2s\n"
     ]
    },
    {
     "name": "stdout",
     "output_type": "stream",
     "text": [
      "       0 PPushes remaining with PInf 0.0000000e+00                 2s\n"
     ]
    },
    {
     "name": "stderr",
     "output_type": "stream",
     "text": [
      "INFO:gurobipy:       0 PPushes remaining with PInf 0.0000000e+00                 2s\n"
     ]
    },
    {
     "name": "stdout",
     "output_type": "stream",
     "text": [
      "\n"
     ]
    },
    {
     "name": "stderr",
     "output_type": "stream",
     "text": [
      "INFO:gurobipy:\n"
     ]
    },
    {
     "name": "stdout",
     "output_type": "stream",
     "text": [
      "  Push phase complete: Pinf 0.0000000e+00, Dinf 6.5881892e-10      2s\n"
     ]
    },
    {
     "name": "stderr",
     "output_type": "stream",
     "text": [
      "INFO:gurobipy:  Push phase complete: Pinf 0.0000000e+00, Dinf 6.5881892e-10      2s\n"
     ]
    },
    {
     "name": "stdout",
     "output_type": "stream",
     "text": [
      "\n"
     ]
    },
    {
     "name": "stderr",
     "output_type": "stream",
     "text": [
      "INFO:gurobipy:\n"
     ]
    },
    {
     "name": "stdout",
     "output_type": "stream",
     "text": [
      "\n"
     ]
    },
    {
     "name": "stderr",
     "output_type": "stream",
     "text": [
      "INFO:gurobipy:\n"
     ]
    },
    {
     "name": "stdout",
     "output_type": "stream",
     "text": [
      "Solved with barrier\n"
     ]
    },
    {
     "name": "stderr",
     "output_type": "stream",
     "text": [
      "INFO:gurobipy:Solved with barrier\n"
     ]
    },
    {
     "name": "stdout",
     "output_type": "stream",
     "text": [
      "Iteration    Objective       Primal Inf.    Dual Inf.      Time\n"
     ]
    },
    {
     "name": "stderr",
     "output_type": "stream",
     "text": [
      "INFO:gurobipy:Iteration    Objective       Primal Inf.    Dual Inf.      Time\n"
     ]
    },
    {
     "name": "stdout",
     "output_type": "stream",
     "text": [
      "    5974    3.6073742e+09   0.000000e+00   0.000000e+00      2s\n"
     ]
    },
    {
     "name": "stderr",
     "output_type": "stream",
     "text": [
      "INFO:gurobipy:    5974    3.6073742e+09   0.000000e+00   0.000000e+00      2s\n"
     ]
    },
    {
     "name": "stdout",
     "output_type": "stream",
     "text": [
      "\n"
     ]
    },
    {
     "name": "stderr",
     "output_type": "stream",
     "text": [
      "INFO:gurobipy:\n"
     ]
    },
    {
     "name": "stdout",
     "output_type": "stream",
     "text": [
      "Solved in 5974 iterations and 2.01 seconds (1.42 work units)\n"
     ]
    },
    {
     "name": "stderr",
     "output_type": "stream",
     "text": [
      "INFO:gurobipy:Solved in 5974 iterations and 2.01 seconds (1.42 work units)\n"
     ]
    },
    {
     "name": "stdout",
     "output_type": "stream",
     "text": [
      "Optimal objective  3.607374210e+09\n"
     ]
    },
    {
     "name": "stderr",
     "output_type": "stream",
     "text": [
      "INFO:gurobipy:Optimal objective  3.607374210e+09\n",
      "INFO:linopy.constants: Optimization successful: \n",
      "Status: ok\n",
      "Termination condition: optimal\n",
      "Solution: 78843 primals, 201483 duals\n",
      "Objective: 3.61e+09\n",
      "Solver model: available\n",
      "Solver message: 2\n",
      "\n",
      "INFO:pypsa.optimization.optimize:The shadow-prices of the constraints Generator-ext-p-lower, Generator-ext-p-upper, Generator-p_set, Link-fix-p-lower, Link-fix-p-upper, StorageUnit-ext-p_dispatch-lower, StorageUnit-ext-p_dispatch-upper, StorageUnit-ext-p_store-lower, StorageUnit-ext-p_store-upper, StorageUnit-ext-state_of_charge-lower, StorageUnit-ext-state_of_charge-upper, StorageUnit-energy_balance were not assigned to the network.\n"
     ]
    },
    {
     "data": {
      "text/plain": [
       "('ok', 'optimal')"
      ]
     },
     "execution_count": 43,
     "metadata": {},
     "output_type": "execute_result"
    }
   ],
   "source": [
    "# Extract the state of charge (SOC) after the first optimization\n",
    "soc_first_optimization = arbitrage_state_of_charge\n",
    "\n",
    "# Update the time series marginal costs to the BM prices\n",
    "bm_prices = BM_prices_data['sell prices'].values\n",
    "network.generators_t['marginal_cost'] = pd.DataFrame(bm_prices, index=network.snapshots, columns=['Backup Generator'])\n",
    "\n",
    "network.optimize(solver_name='gurobi')"
   ]
  },
  {
   "cell_type": "code",
   "execution_count": 45,
   "id": "6dc3c0b6-b249-4e12-bae9-04d435684b94",
   "metadata": {},
   "outputs": [],
   "source": [
    "# Create the model instance for the second optimization\n",
    "model_bm = network.optimize.create_model()"
   ]
  },
  {
   "cell_type": "code",
   "execution_count": 47,
   "id": "ac7ccd48-fc7f-4776-9869-67319e1a74c8",
   "metadata": {},
   "outputs": [
    {
     "data": {
      "text/plain": [
       "(128.1925, 93.975)"
      ]
     },
     "execution_count": 47,
     "metadata": {},
     "output_type": "execute_result"
    }
   ],
   "source": [
    "# Define higher charging threshold and lower discharging threshold\n",
    "higher_charge_threshold = BM_prices_data['buy prices'].quantile(0.75)  # Upper quartile for negative NIV\n",
    "lower_discharge_threshold = BM_prices_data['sell prices'].quantile(0.50)  # Median for positive NIV\n",
    "higher_charge_threshold, lower_discharge_threshold"
   ]
  },
  {
   "cell_type": "code",
   "execution_count": 49,
   "id": "a3c561f6-b488-4853-aa6c-6025da732658",
   "metadata": {
    "scrolled": true
   },
   "outputs": [
    {
     "name": "stderr",
     "output_type": "stream",
     "text": [
      "INFO:linopy.model: Solve problem using Gurobi solver\n"
     ]
    },
    {
     "name": "stdout",
     "output_type": "stream",
     "text": [
      "Set parameter Username\n"
     ]
    },
    {
     "name": "stderr",
     "output_type": "stream",
     "text": [
      "INFO:gurobipy:Set parameter Username\n"
     ]
    },
    {
     "name": "stdout",
     "output_type": "stream",
     "text": [
      "Academic license - for non-commercial use only - expires 2025-06-14\n"
     ]
    },
    {
     "name": "stderr",
     "output_type": "stream",
     "text": [
      "INFO:gurobipy:Academic license - for non-commercial use only - expires 2025-06-14\n",
      "INFO:linopy.io:Writing objective.\n",
      "Writing constraints.: 100%|\u001b[38;2;128;191;255m████████████████\u001b[0m| 8778/8778 [00:15<00:00, 574.23it/s]\u001b[0m\n",
      "Writing continuous variables.: 100%|\u001b[38;2;128;191;255m██████████████\u001b[0m| 7/7 [00:00<00:00, 62.32it/s]\u001b[0m\n",
      "INFO:linopy.io: Writing time: 15.43s\n"
     ]
    },
    {
     "name": "stdout",
     "output_type": "stream",
     "text": [
      "Read LP format model from file /private/var/folders/ng/xnmfplc57n51cnr7htdqb6g00000gn/T/linopy-problem-bgmuvvlr.lp\n"
     ]
    },
    {
     "name": "stderr",
     "output_type": "stream",
     "text": [
      "INFO:gurobipy:Read LP format model from file /private/var/folders/ng/xnmfplc57n51cnr7htdqb6g00000gn/T/linopy-problem-bgmuvvlr.lp\n"
     ]
    },
    {
     "name": "stdout",
     "output_type": "stream",
     "text": [
      "Reading time = 0.40 seconds\n"
     ]
    },
    {
     "name": "stderr",
     "output_type": "stream",
     "text": [
      "INFO:gurobipy:Reading time = 0.40 seconds\n"
     ]
    },
    {
     "name": "stdout",
     "output_type": "stream",
     "text": [
      "obj: 210244 rows, 78843 columns, 367228 nonzeros\n"
     ]
    },
    {
     "name": "stderr",
     "output_type": "stream",
     "text": [
      "INFO:gurobipy:obj: 210244 rows, 78843 columns, 367228 nonzeros\n"
     ]
    },
    {
     "name": "stdout",
     "output_type": "stream",
     "text": [
      "Gurobi Optimizer version 11.0.2 build v11.0.2rc0 (mac64[rosetta2] - Darwin 23.5.0 23F79)\n"
     ]
    },
    {
     "name": "stderr",
     "output_type": "stream",
     "text": [
      "INFO:gurobipy:Gurobi Optimizer version 11.0.2 build v11.0.2rc0 (mac64[rosetta2] - Darwin 23.5.0 23F79)\n"
     ]
    },
    {
     "name": "stdout",
     "output_type": "stream",
     "text": [
      "\n"
     ]
    },
    {
     "name": "stderr",
     "output_type": "stream",
     "text": [
      "INFO:gurobipy:\n"
     ]
    },
    {
     "name": "stdout",
     "output_type": "stream",
     "text": [
      "CPU model: Apple M1\n"
     ]
    },
    {
     "name": "stderr",
     "output_type": "stream",
     "text": [
      "INFO:gurobipy:CPU model: Apple M1\n"
     ]
    },
    {
     "name": "stdout",
     "output_type": "stream",
     "text": [
      "Thread count: 8 physical cores, 8 logical processors, using up to 8 threads\n"
     ]
    },
    {
     "name": "stderr",
     "output_type": "stream",
     "text": [
      "INFO:gurobipy:Thread count: 8 physical cores, 8 logical processors, using up to 8 threads\n"
     ]
    },
    {
     "name": "stdout",
     "output_type": "stream",
     "text": [
      "\n"
     ]
    },
    {
     "name": "stderr",
     "output_type": "stream",
     "text": [
      "INFO:gurobipy:\n"
     ]
    },
    {
     "name": "stdout",
     "output_type": "stream",
     "text": [
      "Optimize a model with 210244 rows, 78843 columns and 367228 nonzeros\n"
     ]
    },
    {
     "name": "stderr",
     "output_type": "stream",
     "text": [
      "INFO:gurobipy:Optimize a model with 210244 rows, 78843 columns and 367228 nonzeros\n"
     ]
    },
    {
     "name": "stdout",
     "output_type": "stream",
     "text": [
      "Model fingerprint: 0x106c4d5d\n"
     ]
    },
    {
     "name": "stderr",
     "output_type": "stream",
     "text": [
      "INFO:gurobipy:Model fingerprint: 0x106c4d5d\n"
     ]
    },
    {
     "name": "stdout",
     "output_type": "stream",
     "text": [
      "Coefficient statistics:\n"
     ]
    },
    {
     "name": "stderr",
     "output_type": "stream",
     "text": [
      "INFO:gurobipy:Coefficient statistics:\n"
     ]
    },
    {
     "name": "stdout",
     "output_type": "stream",
     "text": [
      "  Matrix range     [9e-01, 2e+00]\n"
     ]
    },
    {
     "name": "stderr",
     "output_type": "stream",
     "text": [
      "INFO:gurobipy:  Matrix range     [9e-01, 2e+00]\n"
     ]
    },
    {
     "name": "stdout",
     "output_type": "stream",
     "text": [
      "  Objective range  [5e-03, 1e+06]\n"
     ]
    },
    {
     "name": "stderr",
     "output_type": "stream",
     "text": [
      "INFO:gurobipy:  Objective range  [5e-03, 1e+06]\n"
     ]
    },
    {
     "name": "stdout",
     "output_type": "stream",
     "text": [
      "  Bounds range     [0e+00, 0e+00]\n"
     ]
    },
    {
     "name": "stderr",
     "output_type": "stream",
     "text": [
      "INFO:gurobipy:  Bounds range     [0e+00, 0e+00]\n"
     ]
    },
    {
     "name": "stdout",
     "output_type": "stream",
     "text": [
      "  RHS range        [2e-02, 2e+03]\n"
     ]
    },
    {
     "name": "stderr",
     "output_type": "stream",
     "text": [
      "INFO:gurobipy:  RHS range        [2e-02, 2e+03]\n"
     ]
    },
    {
     "name": "stdout",
     "output_type": "stream",
     "text": [
      "Presolve removed 166380 rows and 43523 columns\n"
     ]
    },
    {
     "name": "stderr",
     "output_type": "stream",
     "text": [
      "INFO:gurobipy:Presolve removed 166380 rows and 43523 columns\n"
     ]
    },
    {
     "name": "stdout",
     "output_type": "stream",
     "text": [
      "Presolve time: 0.29s\n"
     ]
    },
    {
     "name": "stderr",
     "output_type": "stream",
     "text": [
      "INFO:gurobipy:Presolve time: 0.29s\n"
     ]
    },
    {
     "name": "stdout",
     "output_type": "stream",
     "text": [
      "Presolved: 43864 rows, 35320 columns, 162824 nonzeros\n"
     ]
    },
    {
     "name": "stderr",
     "output_type": "stream",
     "text": [
      "INFO:gurobipy:Presolved: 43864 rows, 35320 columns, 162824 nonzeros\n"
     ]
    },
    {
     "name": "stdout",
     "output_type": "stream",
     "text": [
      "\n"
     ]
    },
    {
     "name": "stderr",
     "output_type": "stream",
     "text": [
      "INFO:gurobipy:\n"
     ]
    },
    {
     "name": "stdout",
     "output_type": "stream",
     "text": [
      "Concurrent LP optimizer: primal simplex, dual simplex, and barrier\n"
     ]
    },
    {
     "name": "stderr",
     "output_type": "stream",
     "text": [
      "INFO:gurobipy:Concurrent LP optimizer: primal simplex, dual simplex, and barrier\n"
     ]
    },
    {
     "name": "stdout",
     "output_type": "stream",
     "text": [
      "Showing barrier log only...\n"
     ]
    },
    {
     "name": "stderr",
     "output_type": "stream",
     "text": [
      "INFO:gurobipy:Showing barrier log only...\n"
     ]
    },
    {
     "name": "stdout",
     "output_type": "stream",
     "text": [
      "\n"
     ]
    },
    {
     "name": "stderr",
     "output_type": "stream",
     "text": [
      "INFO:gurobipy:\n"
     ]
    },
    {
     "name": "stdout",
     "output_type": "stream",
     "text": [
      "Ordering time: 0.02s\n"
     ]
    },
    {
     "name": "stderr",
     "output_type": "stream",
     "text": [
      "INFO:gurobipy:Ordering time: 0.02s\n"
     ]
    },
    {
     "name": "stdout",
     "output_type": "stream",
     "text": [
      "\n"
     ]
    },
    {
     "name": "stderr",
     "output_type": "stream",
     "text": [
      "INFO:gurobipy:\n"
     ]
    },
    {
     "name": "stdout",
     "output_type": "stream",
     "text": [
      "Barrier statistics:\n"
     ]
    },
    {
     "name": "stderr",
     "output_type": "stream",
     "text": [
      "INFO:gurobipy:Barrier statistics:\n"
     ]
    },
    {
     "name": "stdout",
     "output_type": "stream",
     "text": [
      " Dense cols : 1\n"
     ]
    },
    {
     "name": "stderr",
     "output_type": "stream",
     "text": [
      "INFO:gurobipy: Dense cols : 1\n"
     ]
    },
    {
     "name": "stdout",
     "output_type": "stream",
     "text": [
      " AA' NZ     : 2.507e+05\n"
     ]
    },
    {
     "name": "stderr",
     "output_type": "stream",
     "text": [
      "INFO:gurobipy: AA' NZ     : 2.507e+05\n"
     ]
    },
    {
     "name": "stdout",
     "output_type": "stream",
     "text": [
      " Factor NZ  : 5.194e+05 (roughly 36 MB of memory)\n"
     ]
    },
    {
     "name": "stderr",
     "output_type": "stream",
     "text": [
      "INFO:gurobipy: Factor NZ  : 5.194e+05 (roughly 36 MB of memory)\n"
     ]
    },
    {
     "name": "stdout",
     "output_type": "stream",
     "text": [
      " Factor Ops : 7.496e+06 (less than 1 second per iteration)\n"
     ]
    },
    {
     "name": "stderr",
     "output_type": "stream",
     "text": [
      "INFO:gurobipy: Factor Ops : 7.496e+06 (less than 1 second per iteration)\n"
     ]
    },
    {
     "name": "stdout",
     "output_type": "stream",
     "text": [
      " Threads    : 6\n"
     ]
    },
    {
     "name": "stderr",
     "output_type": "stream",
     "text": [
      "INFO:gurobipy: Threads    : 6\n"
     ]
    },
    {
     "name": "stdout",
     "output_type": "stream",
     "text": [
      "\n"
     ]
    },
    {
     "name": "stderr",
     "output_type": "stream",
     "text": [
      "INFO:gurobipy:\n"
     ]
    },
    {
     "name": "stdout",
     "output_type": "stream",
     "text": [
      "                  Objective                Residual\n"
     ]
    },
    {
     "name": "stderr",
     "output_type": "stream",
     "text": [
      "INFO:gurobipy:                  Objective                Residual\n"
     ]
    },
    {
     "name": "stdout",
     "output_type": "stream",
     "text": [
      "Iter       Primal          Dual         Primal    Dual     Compl     Time\n"
     ]
    },
    {
     "name": "stderr",
     "output_type": "stream",
     "text": [
      "INFO:gurobipy:Iter       Primal          Dual         Primal    Dual     Compl     Time\n"
     ]
    },
    {
     "name": "stdout",
     "output_type": "stream",
     "text": [
      "   0   4.11228687e+09 -9.75825687e+09  1.19e+03 3.50e-12  1.49e+07     0s\n"
     ]
    },
    {
     "name": "stderr",
     "output_type": "stream",
     "text": [
      "INFO:gurobipy:   0   4.11228687e+09 -9.75825687e+09  1.19e+03 3.50e-12  1.49e+07     0s\n"
     ]
    },
    {
     "name": "stdout",
     "output_type": "stream",
     "text": [
      "   1   4.21899209e+09 -9.52188760e+09  4.76e+02 1.12e+04  6.30e+06     1s\n"
     ]
    },
    {
     "name": "stderr",
     "output_type": "stream",
     "text": [
      "INFO:gurobipy:   1   4.21899209e+09 -9.52188760e+09  4.76e+02 1.12e+04  6.30e+06     1s\n"
     ]
    },
    {
     "name": "stdout",
     "output_type": "stream",
     "text": [
      "   2   4.27349266e+09 -8.57071728e+09  1.24e+02 1.76e+03  1.32e+06     1s\n"
     ]
    },
    {
     "name": "stderr",
     "output_type": "stream",
     "text": [
      "INFO:gurobipy:   2   4.27349266e+09 -8.57071728e+09  1.24e+02 1.76e+03  1.32e+06     1s\n"
     ]
    },
    {
     "name": "stdout",
     "output_type": "stream",
     "text": [
      "   3   4.22481838e+09 -5.14289418e+09  9.42e+00 7.76e+01  1.68e+05     1s\n"
     ]
    },
    {
     "name": "stderr",
     "output_type": "stream",
     "text": [
      "INFO:gurobipy:   3   4.22481838e+09 -5.14289418e+09  9.42e+00 7.76e+01  1.68e+05     1s\n"
     ]
    },
    {
     "name": "stdout",
     "output_type": "stream",
     "text": [
      "   4   4.05377277e+09  1.75510644e+09  1.87e+00 9.17e+00  3.09e+04     1s\n"
     ]
    },
    {
     "name": "stderr",
     "output_type": "stream",
     "text": [
      "INFO:gurobipy:   4   4.05377277e+09  1.75510644e+09  1.87e+00 9.17e+00  3.09e+04     1s\n"
     ]
    },
    {
     "name": "stdout",
     "output_type": "stream",
     "text": [
      "\n"
     ]
    },
    {
     "name": "stderr",
     "output_type": "stream",
     "text": [
      "INFO:gurobipy:\n"
     ]
    },
    {
     "name": "stdout",
     "output_type": "stream",
     "text": [
      "Barrier performed 4 iterations in 0.67 seconds (0.55 work units)\n"
     ]
    },
    {
     "name": "stderr",
     "output_type": "stream",
     "text": [
      "INFO:gurobipy:Barrier performed 4 iterations in 0.67 seconds (0.55 work units)\n"
     ]
    },
    {
     "name": "stdout",
     "output_type": "stream",
     "text": [
      "Barrier solve interrupted - model solved by another algorithm\n"
     ]
    },
    {
     "name": "stderr",
     "output_type": "stream",
     "text": [
      "INFO:gurobipy:Barrier solve interrupted - model solved by another algorithm\n"
     ]
    },
    {
     "name": "stdout",
     "output_type": "stream",
     "text": [
      "\n"
     ]
    },
    {
     "name": "stderr",
     "output_type": "stream",
     "text": [
      "INFO:gurobipy:\n"
     ]
    },
    {
     "name": "stdout",
     "output_type": "stream",
     "text": [
      "\n"
     ]
    },
    {
     "name": "stderr",
     "output_type": "stream",
     "text": [
      "INFO:gurobipy:\n"
     ]
    },
    {
     "name": "stdout",
     "output_type": "stream",
     "text": [
      "Solved with dual simplex\n"
     ]
    },
    {
     "name": "stderr",
     "output_type": "stream",
     "text": [
      "INFO:gurobipy:Solved with dual simplex\n"
     ]
    },
    {
     "name": "stdout",
     "output_type": "stream",
     "text": [
      "Extra simplex iterations after uncrush: 534\n"
     ]
    },
    {
     "name": "stderr",
     "output_type": "stream",
     "text": [
      "INFO:gurobipy:Extra simplex iterations after uncrush: 534\n"
     ]
    },
    {
     "name": "stdout",
     "output_type": "stream",
     "text": [
      "Iteration    Objective       Primal Inf.    Dual Inf.      Time\n"
     ]
    },
    {
     "name": "stderr",
     "output_type": "stream",
     "text": [
      "INFO:gurobipy:Iteration    Objective       Primal Inf.    Dual Inf.      Time\n"
     ]
    },
    {
     "name": "stdout",
     "output_type": "stream",
     "text": [
      "   26117    3.6083568e+09   0.000000e+00   0.000000e+00      1s\n"
     ]
    },
    {
     "name": "stderr",
     "output_type": "stream",
     "text": [
      "INFO:gurobipy:   26117    3.6083568e+09   0.000000e+00   0.000000e+00      1s\n"
     ]
    },
    {
     "name": "stdout",
     "output_type": "stream",
     "text": [
      "\n"
     ]
    },
    {
     "name": "stderr",
     "output_type": "stream",
     "text": [
      "INFO:gurobipy:\n"
     ]
    },
    {
     "name": "stdout",
     "output_type": "stream",
     "text": [
      "Solved in 26117 iterations and 0.77 seconds (0.94 work units)\n"
     ]
    },
    {
     "name": "stderr",
     "output_type": "stream",
     "text": [
      "INFO:gurobipy:Solved in 26117 iterations and 0.77 seconds (0.94 work units)\n"
     ]
    },
    {
     "name": "stdout",
     "output_type": "stream",
     "text": [
      "Optimal objective  3.608356808e+09\n"
     ]
    },
    {
     "name": "stderr",
     "output_type": "stream",
     "text": [
      "INFO:gurobipy:Optimal objective  3.608356808e+09\n",
      "INFO:linopy.constants: Optimization successful: \n",
      "Status: ok\n",
      "Termination condition: optimal\n",
      "Solution: 78843 primals, 210244 duals\n",
      "Objective: 3.61e+09\n",
      "Solver model: available\n",
      "Solver message: 2\n",
      "\n",
      "INFO:pypsa.optimization.optimize:The shadow-prices of the constraints Generator-ext-p-lower, Generator-ext-p-upper, Generator-p_set, Link-fix-p-lower, Link-fix-p-upper, StorageUnit-ext-p_dispatch-lower, StorageUnit-ext-p_dispatch-upper, StorageUnit-ext-p_store-lower, StorageUnit-ext-p_store-upper, StorageUnit-ext-state_of_charge-lower, StorageUnit-ext-state_of_charge-upper, StorageUnit-energy_balance, con0, con1, con2, con3, con4, con5, con6, con7, con8, con9, con10, con11, con12, con13, con14, con15, con16, con17, con18, con19, con20, con21, con22, con23, con24, con25, con26, con27, con28, con29, con30, con31, con32, con33, con34, con35, con36, con37, con38, con39, con40, con41, con42, con43, con44, con45, con46, con47, con48, con49, con50, con51, con52, con53, con54, con55, con56, con57, con58, con59, con60, con61, con62, con63, con64, con65, con66, con67, con68, con69, con70, con71, con72, con73, con74, con75, con76, con77, con78, con79, con80, con81, con82, con83, con84, con85, con86, con87, con88, con89, con90, con91, con92, con93, con94, con95, con96, con97, con98, con99, con100, con101, con102, con103, con104, con105, con106, con107, con108, con109, con110, con111, con112, con113, con114, con115, con116, con117, con118, con119, con120, con121, con122, con123, con124, con125, con126, con127, con128, con129, con130, con131, con132, con133, con134, con135, con136, con137, con138, con139, con140, con141, con142, con143, con144, con145, con146, con147, con148, con149, con150, con151, con152, con153, con154, con155, con156, con157, con158, con159, con160, con161, con162, con163, con164, con165, con166, con167, con168, con169, con170, con171, con172, con173, con174, con175, con176, con177, con178, con179, con180, con181, con182, con183, con184, con185, con186, con187, con188, con189, con190, con191, con192, con193, con194, con195, con196, con197, con198, con199, con200, con201, con202, con203, con204, con205, con206, con207, con208, con209, con210, con211, con212, con213, con214, con215, con216, con217, con218, con219, con220, con221, con222, con223, con224, con225, con226, con227, con228, con229, con230, con231, con232, con233, con234, con235, con236, con237, con238, con239, con240, con241, con242, con243, con244, con245, con246, con247, con248, con249, con250, con251, con252, con253, con254, con255, con256, con257, con258, con259, con260, con261, con262, con263, con264, con265, con266, con267, con268, con269, con270, con271, con272, con273, con274, con275, con276, con277, con278, con279, con280, con281, con282, con283, con284, con285, con286, con287, con288, con289, con290, con291, con292, con293, con294, con295, con296, con297, con298, con299, con300, con301, con302, con303, con304, con305, con306, con307, con308, con309, con310, con311, con312, con313, con314, con315, con316, con317, con318, con319, con320, con321, con322, con323, con324, con325, con326, con327, con328, con329, con330, con331, con332, con333, con334, con335, con336, con337, con338, con339, con340, con341, con342, con343, con344, con345, con346, con347, con348, con349, con350, con351, con352, con353, con354, con355, con356, con357, con358, con359, con360, con361, con362, con363, con364, con365, con366, con367, con368, con369, con370, con371, con372, con373, con374, con375, con376, con377, con378, con379, con380, con381, con382, con383, con384, con385, con386, con387, con388, con389, con390, con391, con392, con393, con394, con395, con396, con397, con398, con399, con400, con401, con402, con403, con404, con405, con406, con407, con408, con409, con410, con411, con412, con413, con414, con415, con416, con417, con418, con419, con420, con421, con422, con423, con424, con425, con426, con427, con428, con429, con430, con431, con432, con433, con434, con435, con436, con437, con438, con439, con440, con441, con442, con443, con444, con445, con446, con447, con448, con449, con450, con451, con452, con453, con454, con455, con456, con457, con458, con459, con460, con461, con462, con463, con464, con465, con466, con467, con468, con469, con470, con471, con472, con473, con474, con475, con476, con477, con478, con479, con480, con481, con482, con483, con484, con485, con486, con487, con488, con489, con490, con491, con492, con493, con494, con495, con496, con497, con498, con499, con500, con501, con502, con503, con504, con505, con506, con507, con508, con509, con510, con511, con512, con513, con514, con515, con516, con517, con518, con519, con520, con521, con522, con523, con524, con525, con526, con527, con528, con529, con530, con531, con532, con533, con534, con535, con536, con537, con538, con539, con540, con541, con542, con543, con544, con545, con546, con547, con548, con549, con550, con551, con552, con553, con554, con555, con556, con557, con558, con559, con560, con561, con562, con563, con564, con565, con566, con567, con568, con569, con570, con571, con572, con573, con574, con575, con576, con577, con578, con579, con580, con581, con582, con583, con584, con585, con586, con587, con588, con589, con590, con591, con592, con593, con594, con595, con596, con597, con598, con599, con600, con601, con602, con603, con604, con605, con606, con607, con608, con609, con610, con611, con612, con613, con614, con615, con616, con617, con618, con619, con620, con621, con622, con623, con624, con625, con626, con627, con628, con629, con630, con631, con632, con633, con634, con635, con636, con637, con638, con639, con640, con641, con642, con643, con644, con645, con646, con647, con648, con649, con650, con651, con652, con653, con654, con655, con656, con657, con658, con659, con660, con661, con662, con663, con664, con665, con666, con667, con668, con669, con670, con671, con672, con673, con674, con675, con676, con677, con678, con679, con680, con681, con682, con683, con684, con685, con686, con687, con688, con689, con690, con691, con692, con693, con694, con695, con696, con697, con698, con699, con700, con701, con702, con703, con704, con705, con706, con707, con708, con709, con710, con711, con712, con713, con714, con715, con716, con717, con718, con719, con720, con721, con722, con723, con724, con725, con726, con727, con728, con729, con730, con731, con732, con733, con734, con735, con736, con737, con738, con739, con740, con741, con742, con743, con744, con745, con746, con747, con748, con749, con750, con751, con752, con753, con754, con755, con756, con757, con758, con759, con760, con761, con762, con763, con764, con765, con766, con767, con768, con769, con770, con771, con772, con773, con774, con775, con776, con777, con778, con779, con780, con781, con782, con783, con784, con785, con786, con787, con788, con789, con790, con791, con792, con793, con794, con795, con796, con797, con798, con799, con800, con801, con802, con803, con804, con805, con806, con807, con808, con809, con810, con811, con812, con813, con814, con815, con816, con817, con818, con819, con820, con821, con822, con823, con824, con825, con826, con827, con828, con829, con830, con831, con832, con833, con834, con835, con836, con837, con838, con839, con840, con841, con842, con843, con844, con845, con846, con847, con848, con849, con850, con851, con852, con853, con854, con855, con856, con857, con858, con859, con860, con861, con862, con863, con864, con865, con866, con867, con868, con869, con870, con871, con872, con873, con874, con875, con876, con877, con878, con879, con880, con881, con882, con883, con884, con885, con886, con887, con888, con889, con890, con891, con892, con893, con894, con895, con896, con897, con898, con899, con900, con901, con902, con903, con904, con905, con906, con907, con908, con909, con910, con911, con912, con913, con914, con915, con916, con917, con918, con919, con920, con921, con922, con923, con924, con925, con926, con927, con928, con929, con930, con931, con932, con933, con934, con935, con936, con937, con938, con939, con940, con941, con942, con943, con944, con945, con946, con947, con948, con949, con950, con951, con952, con953, con954, con955, con956, con957, con958, con959, con960, con961, con962, con963, con964, con965, con966, con967, con968, con969, con970, con971, con972, con973, con974, con975, con976, con977, con978, con979, con980, con981, con982, con983, con984, con985, con986, con987, con988, con989, con990, con991, con992, con993, con994, con995, con996, con997, con998, con999, con1000, con1001, con1002, con1003, con1004, con1005, con1006, con1007, con1008, con1009, con1010, con1011, con1012, con1013, con1014, con1015, con1016, con1017, con1018, con1019, con1020, con1021, con1022, con1023, con1024, con1025, con1026, con1027, con1028, con1029, con1030, con1031, con1032, con1033, con1034, con1035, con1036, con1037, con1038, con1039, con1040, con1041, con1042, con1043, con1044, con1045, con1046, con1047, con1048, con1049, con1050, con1051, con1052, con1053, con1054, con1055, con1056, con1057, con1058, con1059, con1060, con1061, con1062, con1063, con1064, con1065, con1066, con1067, con1068, con1069, con1070, con1071, con1072, con1073, con1074, con1075, con1076, con1077, con1078, con1079, con1080, con1081, con1082, con1083, con1084, con1085, con1086, con1087, con1088, con1089, con1090, con1091, con1092, con1093, con1094, con1095, con1096, con1097, con1098, con1099, con1100, con1101, con1102, con1103, con1104, con1105, con1106, con1107, con1108, con1109, con1110, con1111, con1112, con1113, con1114, con1115, con1116, con1117, con1118, con1119, con1120, con1121, con1122, con1123, con1124, con1125, con1126, con1127, con1128, con1129, con1130, con1131, con1132, con1133, con1134, con1135, con1136, con1137, con1138, con1139, con1140, con1141, con1142, con1143, con1144, con1145, con1146, con1147, con1148, con1149, con1150, con1151, con1152, con1153, con1154, con1155, con1156, con1157, con1158, con1159, con1160, con1161, con1162, con1163, con1164, con1165, con1166, con1167, con1168, con1169, con1170, con1171, con1172, con1173, con1174, con1175, con1176, con1177, con1178, con1179, con1180, con1181, con1182, con1183, con1184, con1185, con1186, con1187, con1188, con1189, con1190, con1191, con1192, con1193, con1194, con1195, con1196, con1197, con1198, con1199, con1200, con1201, con1202, con1203, con1204, con1205, con1206, con1207, con1208, con1209, con1210, con1211, con1212, con1213, con1214, con1215, con1216, con1217, con1218, con1219, con1220, con1221, con1222, con1223, con1224, con1225, con1226, con1227, con1228, con1229, con1230, con1231, con1232, con1233, con1234, con1235, con1236, con1237, con1238, con1239, con1240, con1241, con1242, con1243, con1244, con1245, con1246, con1247, con1248, con1249, con1250, con1251, con1252, con1253, con1254, con1255, con1256, con1257, con1258, con1259, con1260, con1261, con1262, con1263, con1264, con1265, con1266, con1267, con1268, con1269, con1270, con1271, con1272, con1273, con1274, con1275, con1276, con1277, con1278, con1279, con1280, con1281, con1282, con1283, con1284, con1285, con1286, con1287, con1288, con1289, con1290, con1291, con1292, con1293, con1294, con1295, con1296, con1297, con1298, con1299, con1300, con1301, con1302, con1303, con1304, con1305, con1306, con1307, con1308, con1309, con1310, con1311, con1312, con1313, con1314, con1315, con1316, con1317, con1318, con1319, con1320, con1321, con1322, con1323, con1324, con1325, con1326, con1327, con1328, con1329, con1330, con1331, con1332, con1333, con1334, con1335, con1336, con1337, con1338, con1339, con1340, con1341, con1342, con1343, con1344, con1345, con1346, con1347, con1348, con1349, con1350, con1351, con1352, con1353, con1354, con1355, con1356, con1357, con1358, con1359, con1360, con1361, con1362, con1363, con1364, con1365, con1366, con1367, con1368, con1369, con1370, con1371, con1372, con1373, con1374, con1375, con1376, con1377, con1378, con1379, con1380, con1381, con1382, con1383, con1384, con1385, con1386, con1387, con1388, con1389, con1390, con1391, con1392, con1393, con1394, con1395, con1396, con1397, con1398, con1399, con1400, con1401, con1402, con1403, con1404, con1405, con1406, con1407, con1408, con1409, con1410, con1411, con1412, con1413, con1414, con1415, con1416, con1417, con1418, con1419, con1420, con1421, con1422, con1423, con1424, con1425, con1426, con1427, con1428, con1429, con1430, con1431, con1432, con1433, con1434, con1435, con1436, con1437, con1438, con1439, con1440, con1441, con1442, con1443, con1444, con1445, con1446, con1447, con1448, con1449, con1450, con1451, con1452, con1453, con1454, con1455, con1456, con1457, con1458, con1459, con1460, con1461, con1462, con1463, con1464, con1465, con1466, con1467, con1468, con1469, con1470, con1471, con1472, con1473, con1474, con1475, con1476, con1477, con1478, con1479, con1480, con1481, con1482, con1483, con1484, con1485, con1486, con1487, con1488, con1489, con1490, con1491, con1492, con1493, con1494, con1495, con1496, con1497, con1498, con1499, con1500, con1501, con1502, con1503, con1504, con1505, con1506, con1507, con1508, con1509, con1510, con1511, con1512, con1513, con1514, con1515, con1516, con1517, con1518, con1519, con1520, con1521, con1522, con1523, con1524, con1525, con1526, con1527, con1528, con1529, con1530, con1531, con1532, con1533, con1534, con1535, con1536, con1537, con1538, con1539, con1540, con1541, con1542, con1543, con1544, con1545, con1546, con1547, con1548, con1549, con1550, con1551, con1552, con1553, con1554, con1555, con1556, con1557, con1558, con1559, con1560, con1561, con1562, con1563, con1564, con1565, con1566, con1567, con1568, con1569, con1570, con1571, con1572, con1573, con1574, con1575, con1576, con1577, con1578, con1579, con1580, con1581, con1582, con1583, con1584, con1585, con1586, con1587, con1588, con1589, con1590, con1591, con1592, con1593, con1594, con1595, con1596, con1597, con1598, con1599, con1600, con1601, con1602, con1603, con1604, con1605, con1606, con1607, con1608, con1609, con1610, con1611, con1612, con1613, con1614, con1615, con1616, con1617, con1618, con1619, con1620, con1621, con1622, con1623, con1624, con1625, con1626, con1627, con1628, con1629, con1630, con1631, con1632, con1633, con1634, con1635, con1636, con1637, con1638, con1639, con1640, con1641, con1642, con1643, con1644, con1645, con1646, con1647, con1648, con1649, con1650, con1651, con1652, con1653, con1654, con1655, con1656, con1657, con1658, con1659, con1660, con1661, con1662, con1663, con1664, con1665, con1666, con1667, con1668, con1669, con1670, con1671, con1672, con1673, con1674, con1675, con1676, con1677, con1678, con1679, con1680, con1681, con1682, con1683, con1684, con1685, con1686, con1687, con1688, con1689, con1690, con1691, con1692, con1693, con1694, con1695, con1696, con1697, con1698, con1699, con1700, con1701, con1702, con1703, con1704, con1705, con1706, con1707, con1708, con1709, con1710, con1711, con1712, con1713, con1714, con1715, con1716, con1717, con1718, con1719, con1720, con1721, con1722, con1723, con1724, con1725, con1726, con1727, con1728, con1729, con1730, con1731, con1732, con1733, con1734, con1735, con1736, con1737, con1738, con1739, con1740, con1741, con1742, con1743, con1744, con1745, con1746, con1747, con1748, con1749, con1750, con1751, con1752, con1753, con1754, con1755, con1756, con1757, con1758, con1759, con1760, con1761, con1762, con1763, con1764, con1765, con1766, con1767, con1768, con1769, con1770, con1771, con1772, con1773, con1774, con1775, con1776, con1777, con1778, con1779, con1780, con1781, con1782, con1783, con1784, con1785, con1786, con1787, con1788, con1789, con1790, con1791, con1792, con1793, con1794, con1795, con1796, con1797, con1798, con1799, con1800, con1801, con1802, con1803, con1804, con1805, con1806, con1807, con1808, con1809, con1810, con1811, con1812, con1813, con1814, con1815, con1816, con1817, con1818, con1819, con1820, con1821, con1822, con1823, con1824, con1825, con1826, con1827, con1828, con1829, con1830, con1831, con1832, con1833, con1834, con1835, con1836, con1837, con1838, con1839, con1840, con1841, con1842, con1843, con1844, con1845, con1846, con1847, con1848, con1849, con1850, con1851, con1852, con1853, con1854, con1855, con1856, con1857, con1858, con1859, con1860, con1861, con1862, con1863, con1864, con1865, con1866, con1867, con1868, con1869, con1870, con1871, con1872, con1873, con1874, con1875, con1876, con1877, con1878, con1879, con1880, con1881, con1882, con1883, con1884, con1885, con1886, con1887, con1888, con1889, con1890, con1891, con1892, con1893, con1894, con1895, con1896, con1897, con1898, con1899, con1900, con1901, con1902, con1903, con1904, con1905, con1906, con1907, con1908, con1909, con1910, con1911, con1912, con1913, con1914, con1915, con1916, con1917, con1918, con1919, con1920, con1921, con1922, con1923, con1924, con1925, con1926, con1927, con1928, con1929, con1930, con1931, con1932, con1933, con1934, con1935, con1936, con1937, con1938, con1939, con1940, con1941, con1942, con1943, con1944, con1945, con1946, con1947, con1948, con1949, con1950, con1951, con1952, con1953, con1954, con1955, con1956, con1957, con1958, con1959, con1960, con1961, con1962, con1963, con1964, con1965, con1966, con1967, con1968, con1969, con1970, con1971, con1972, con1973, con1974, con1975, con1976, con1977, con1978, con1979, con1980, con1981, con1982, con1983, con1984, con1985, con1986, con1987, con1988, con1989, con1990, con1991, con1992, con1993, con1994, con1995, con1996, con1997, con1998, con1999, con2000, con2001, con2002, con2003, con2004, con2005, con2006, con2007, con2008, con2009, con2010, con2011, con2012, con2013, con2014, con2015, con2016, con2017, con2018, con2019, con2020, con2021, con2022, con2023, con2024, con2025, con2026, con2027, con2028, con2029, con2030, con2031, con2032, con2033, con2034, con2035, con2036, con2037, con2038, con2039, con2040, con2041, con2042, con2043, con2044, con2045, con2046, con2047, con2048, con2049, con2050, con2051, con2052, con2053, con2054, con2055, con2056, con2057, con2058, con2059, con2060, con2061, con2062, con2063, con2064, con2065, con2066, con2067, con2068, con2069, con2070, con2071, con2072, con2073, con2074, con2075, con2076, con2077, con2078, con2079, con2080, con2081, con2082, con2083, con2084, con2085, con2086, con2087, con2088, con2089, con2090, con2091, con2092, con2093, con2094, con2095, con2096, con2097, con2098, con2099, con2100, con2101, con2102, con2103, con2104, con2105, con2106, con2107, con2108, con2109, con2110, con2111, con2112, con2113, con2114, con2115, con2116, con2117, con2118, con2119, con2120, con2121, con2122, con2123, con2124, con2125, con2126, con2127, con2128, con2129, con2130, con2131, con2132, con2133, con2134, con2135, con2136, con2137, con2138, con2139, con2140, con2141, con2142, con2143, con2144, con2145, con2146, con2147, con2148, con2149, con2150, con2151, con2152, con2153, con2154, con2155, con2156, con2157, con2158, con2159, con2160, con2161, con2162, con2163, con2164, con2165, con2166, con2167, con2168, con2169, con2170, con2171, con2172, con2173, con2174, con2175, con2176, con2177, con2178, con2179, con2180, con2181, con2182, con2183, con2184, con2185, con2186, con2187, con2188, con2189, con2190, con2191, con2192, con2193, con2194, con2195, con2196, con2197, con2198, con2199, con2200, con2201, con2202, con2203, con2204, con2205, con2206, con2207, con2208, con2209, con2210, con2211, con2212, con2213, con2214, con2215, con2216, con2217, con2218, con2219, con2220, con2221, con2222, con2223, con2224, con2225, con2226, con2227, con2228, con2229, con2230, con2231, con2232, con2233, con2234, con2235, con2236, con2237, con2238, con2239, con2240, con2241, con2242, con2243, con2244, con2245, con2246, con2247, con2248, con2249, con2250, con2251, con2252, con2253, con2254, con2255, con2256, con2257, con2258, con2259, con2260, con2261, con2262, con2263, con2264, con2265, con2266, con2267, con2268, con2269, con2270, con2271, con2272, con2273, con2274, con2275, con2276, con2277, con2278, con2279, con2280, con2281, con2282, con2283, con2284, con2285, con2286, con2287, con2288, con2289, con2290, con2291, con2292, con2293, con2294, con2295, con2296, con2297, con2298, con2299, con2300, con2301, con2302, con2303, con2304, con2305, con2306, con2307, con2308, con2309, con2310, con2311, con2312, con2313, con2314, con2315, con2316, con2317, con2318, con2319, con2320, con2321, con2322, con2323, con2324, con2325, con2326, con2327, con2328, con2329, con2330, con2331, con2332, con2333, con2334, con2335, con2336, con2337, con2338, con2339, con2340, con2341, con2342, con2343, con2344, con2345, con2346, con2347, con2348, con2349, con2350, con2351, con2352, con2353, con2354, con2355, con2356, con2357, con2358, con2359, con2360, con2361, con2362, con2363, con2364, con2365, con2366, con2367, con2368, con2369, con2370, con2371, con2372, con2373, con2374, con2375, con2376, con2377, con2378, con2379, con2380, con2381, con2382, con2383, con2384, con2385, con2386, con2387, con2388, con2389, con2390, con2391, con2392, con2393, con2394, con2395, con2396, con2397, con2398, con2399, con2400, con2401, con2402, con2403, con2404, con2405, con2406, con2407, con2408, con2409, con2410, con2411, con2412, con2413, con2414, con2415, con2416, con2417, con2418, con2419, con2420, con2421, con2422, con2423, con2424, con2425, con2426, con2427, con2428, con2429, con2430, con2431, con2432, con2433, con2434, con2435, con2436, con2437, con2438, con2439, con2440, con2441, con2442, con2443, con2444, con2445, con2446, con2447, con2448, con2449, con2450, con2451, con2452, con2453, con2454, con2455, con2456, con2457, con2458, con2459, con2460, con2461, con2462, con2463, con2464, con2465, con2466, con2467, con2468, con2469, con2470, con2471, con2472, con2473, con2474, con2475, con2476, con2477, con2478, con2479, con2480, con2481, con2482, con2483, con2484, con2485, con2486, con2487, con2488, con2489, con2490, con2491, con2492, con2493, con2494, con2495, con2496, con2497, con2498, con2499, con2500, con2501, con2502, con2503, con2504, con2505, con2506, con2507, con2508, con2509, con2510, con2511, con2512, con2513, con2514, con2515, con2516, con2517, con2518, con2519, con2520, con2521, con2522, con2523, con2524, con2525, con2526, con2527, con2528, con2529, con2530, con2531, con2532, con2533, con2534, con2535, con2536, con2537, con2538, con2539, con2540, con2541, con2542, con2543, con2544, con2545, con2546, con2547, con2548, con2549, con2550, con2551, con2552, con2553, con2554, con2555, con2556, con2557, con2558, con2559, con2560, con2561, con2562, con2563, con2564, con2565, con2566, con2567, con2568, con2569, con2570, con2571, con2572, con2573, con2574, con2575, con2576, con2577, con2578, con2579, con2580, con2581, con2582, con2583, con2584, con2585, con2586, con2587, con2588, con2589, con2590, con2591, con2592, con2593, con2594, con2595, con2596, con2597, con2598, con2599, con2600, con2601, con2602, con2603, con2604, con2605, con2606, con2607, con2608, con2609, con2610, con2611, con2612, con2613, con2614, con2615, con2616, con2617, con2618, con2619, con2620, con2621, con2622, con2623, con2624, con2625, con2626, con2627, con2628, con2629, con2630, con2631, con2632, con2633, con2634, con2635, con2636, con2637, con2638, con2639, con2640, con2641, con2642, con2643, con2644, con2645, con2646, con2647, con2648, con2649, con2650, con2651, con2652, con2653, con2654, con2655, con2656, con2657, con2658, con2659, con2660, con2661, con2662, con2663, con2664, con2665, con2666, con2667, con2668, con2669, con2670, con2671, con2672, con2673, con2674, con2675, con2676, con2677, con2678, con2679, con2680, con2681, con2682, con2683, con2684, con2685, con2686, con2687, con2688, con2689, con2690, con2691, con2692, con2693, con2694, con2695, con2696, con2697, con2698, con2699, con2700, con2701, con2702, con2703, con2704, con2705, con2706, con2707, con2708, con2709, con2710, con2711, con2712, con2713, con2714, con2715, con2716, con2717, con2718, con2719, con2720, con2721, con2722, con2723, con2724, con2725, con2726, con2727, con2728, con2729, con2730, con2731, con2732, con2733, con2734, con2735, con2736, con2737, con2738, con2739, con2740, con2741, con2742, con2743, con2744, con2745, con2746, con2747, con2748, con2749, con2750, con2751, con2752, con2753, con2754, con2755, con2756, con2757, con2758, con2759, con2760, con2761, con2762, con2763, con2764, con2765, con2766, con2767, con2768, con2769, con2770, con2771, con2772, con2773, con2774, con2775, con2776, con2777, con2778, con2779, con2780, con2781, con2782, con2783, con2784, con2785, con2786, con2787, con2788, con2789, con2790, con2791, con2792, con2793, con2794, con2795, con2796, con2797, con2798, con2799, con2800, con2801, con2802, con2803, con2804, con2805, con2806, con2807, con2808, con2809, con2810, con2811, con2812, con2813, con2814, con2815, con2816, con2817, con2818, con2819, con2820, con2821, con2822, con2823, con2824, con2825, con2826, con2827, con2828, con2829, con2830, con2831, con2832, con2833, con2834, con2835, con2836, con2837, con2838, con2839, con2840, con2841, con2842, con2843, con2844, con2845, con2846, con2847, con2848, con2849, con2850, con2851, con2852, con2853, con2854, con2855, con2856, con2857, con2858, con2859, con2860, con2861, con2862, con2863, con2864, con2865, con2866, con2867, con2868, con2869, con2870, con2871, con2872, con2873, con2874, con2875, con2876, con2877, con2878, con2879, con2880, con2881, con2882, con2883, con2884, con2885, con2886, con2887, con2888, con2889, con2890, con2891, con2892, con2893, con2894, con2895, con2896, con2897, con2898, con2899, con2900, con2901, con2902, con2903, con2904, con2905, con2906, con2907, con2908, con2909, con2910, con2911, con2912, con2913, con2914, con2915, con2916, con2917, con2918, con2919, con2920, con2921, con2922, con2923, con2924, con2925, con2926, con2927, con2928, con2929, con2930, con2931, con2932, con2933, con2934, con2935, con2936, con2937, con2938, con2939, con2940, con2941, con2942, con2943, con2944, con2945, con2946, con2947, con2948, con2949, con2950, con2951, con2952, con2953, con2954, con2955, con2956, con2957, con2958, con2959, con2960, con2961, con2962, con2963, con2964, con2965, con2966, con2967, con2968, con2969, con2970, con2971, con2972, con2973, con2974, con2975, con2976, con2977, con2978, con2979, con2980, con2981, con2982, con2983, con2984, con2985, con2986, con2987, con2988, con2989, con2990, con2991, con2992, con2993, con2994, con2995, con2996, con2997, con2998, con2999, con3000, con3001, con3002, con3003, con3004, con3005, con3006, con3007, con3008, con3009, con3010, con3011, con3012, con3013, con3014, con3015, con3016, con3017, con3018, con3019, con3020, con3021, con3022, con3023, con3024, con3025, con3026, con3027, con3028, con3029, con3030, con3031, con3032, con3033, con3034, con3035, con3036, con3037, con3038, con3039, con3040, con3041, con3042, con3043, con3044, con3045, con3046, con3047, con3048, con3049, con3050, con3051, con3052, con3053, con3054, con3055, con3056, con3057, con3058, con3059, con3060, con3061, con3062, con3063, con3064, con3065, con3066, con3067, con3068, con3069, con3070, con3071, con3072, con3073, con3074, con3075, con3076, con3077, con3078, con3079, con3080, con3081, con3082, con3083, con3084, con3085, con3086, con3087, con3088, con3089, con3090, con3091, con3092, con3093, con3094, con3095, con3096, con3097, con3098, con3099, con3100, con3101, con3102, con3103, con3104, con3105, con3106, con3107, con3108, con3109, con3110, con3111, con3112, con3113, con3114, con3115, con3116, con3117, con3118, con3119, con3120, con3121, con3122, con3123, con3124, con3125, con3126, con3127, con3128, con3129, con3130, con3131, con3132, con3133, con3134, con3135, con3136, con3137, con3138, con3139, con3140, con3141, con3142, con3143, con3144, con3145, con3146, con3147, con3148, con3149, con3150, con3151, con3152, con3153, con3154, con3155, con3156, con3157, con3158, con3159, con3160, con3161, con3162, con3163, con3164, con3165, con3166, con3167, con3168, con3169, con3170, con3171, con3172, con3173, con3174, con3175, con3176, con3177, con3178, con3179, con3180, con3181, con3182, con3183, con3184, con3185, con3186, con3187, con3188, con3189, con3190, con3191, con3192, con3193, con3194, con3195, con3196, con3197, con3198, con3199, con3200, con3201, con3202, con3203, con3204, con3205, con3206, con3207, con3208, con3209, con3210, con3211, con3212, con3213, con3214, con3215, con3216, con3217, con3218, con3219, con3220, con3221, con3222, con3223, con3224, con3225, con3226, con3227, con3228, con3229, con3230, con3231, con3232, con3233, con3234, con3235, con3236, con3237, con3238, con3239, con3240, con3241, con3242, con3243, con3244, con3245, con3246, con3247, con3248, con3249, con3250, con3251, con3252, con3253, con3254, con3255, con3256, con3257, con3258, con3259, con3260, con3261, con3262, con3263, con3264, con3265, con3266, con3267, con3268, con3269, con3270, con3271, con3272, con3273, con3274, con3275, con3276, con3277, con3278, con3279, con3280, con3281, con3282, con3283, con3284, con3285, con3286, con3287, con3288, con3289, con3290, con3291, con3292, con3293, con3294, con3295, con3296, con3297, con3298, con3299, con3300, con3301, con3302, con3303, con3304, con3305, con3306, con3307, con3308, con3309, con3310, con3311, con3312, con3313, con3314, con3315, con3316, con3317, con3318, con3319, con3320, con3321, con3322, con3323, con3324, con3325, con3326, con3327, con3328, con3329, con3330, con3331, con3332, con3333, con3334, con3335, con3336, con3337, con3338, con3339, con3340, con3341, con3342, con3343, con3344, con3345, con3346, con3347, con3348, con3349, con3350, con3351, con3352, con3353, con3354, con3355, con3356, con3357, con3358, con3359, con3360, con3361, con3362, con3363, con3364, con3365, con3366, con3367, con3368, con3369, con3370, con3371, con3372, con3373, con3374, con3375, con3376, con3377, con3378, con3379, con3380, con3381, con3382, con3383, con3384, con3385, con3386, con3387, con3388, con3389, con3390, con3391, con3392, con3393, con3394, con3395, con3396, con3397, con3398, con3399, con3400, con3401, con3402, con3403, con3404, con3405, con3406, con3407, con3408, con3409, con3410, con3411, con3412, con3413, con3414, con3415, con3416, con3417, con3418, con3419, con3420, con3421, con3422, con3423, con3424, con3425, con3426, con3427, con3428, con3429, con3430, con3431, con3432, con3433, con3434, con3435, con3436, con3437, con3438, con3439, con3440, con3441, con3442, con3443, con3444, con3445, con3446, con3447, con3448, con3449, con3450, con3451, con3452, con3453, con3454, con3455, con3456, con3457, con3458, con3459, con3460, con3461, con3462, con3463, con3464, con3465, con3466, con3467, con3468, con3469, con3470, con3471, con3472, con3473, con3474, con3475, con3476, con3477, con3478, con3479, con3480, con3481, con3482, con3483, con3484, con3485, con3486, con3487, con3488, con3489, con3490, con3491, con3492, con3493, con3494, con3495, con3496, con3497, con3498, con3499, con3500, con3501, con3502, con3503, con3504, con3505, con3506, con3507, con3508, con3509, con3510, con3511, con3512, con3513, con3514, con3515, con3516, con3517, con3518, con3519, con3520, con3521, con3522, con3523, con3524, con3525, con3526, con3527, con3528, con3529, con3530, con3531, con3532, con3533, con3534, con3535, con3536, con3537, con3538, con3539, con3540, con3541, con3542, con3543, con3544, con3545, con3546, con3547, con3548, con3549, con3550, con3551, con3552, con3553, con3554, con3555, con3556, con3557, con3558, con3559, con3560, con3561, con3562, con3563, con3564, con3565, con3566, con3567, con3568, con3569, con3570, con3571, con3572, con3573, con3574, con3575, con3576, con3577, con3578, con3579, con3580, con3581, con3582, con3583, con3584, con3585, con3586, con3587, con3588, con3589, con3590, con3591, con3592, con3593, con3594, con3595, con3596, con3597, con3598, con3599, con3600, con3601, con3602, con3603, con3604, con3605, con3606, con3607, con3608, con3609, con3610, con3611, con3612, con3613, con3614, con3615, con3616, con3617, con3618, con3619, con3620, con3621, con3622, con3623, con3624, con3625, con3626, con3627, con3628, con3629, con3630, con3631, con3632, con3633, con3634, con3635, con3636, con3637, con3638, con3639, con3640, con3641, con3642, con3643, con3644, con3645, con3646, con3647, con3648, con3649, con3650, con3651, con3652, con3653, con3654, con3655, con3656, con3657, con3658, con3659, con3660, con3661, con3662, con3663, con3664, con3665, con3666, con3667, con3668, con3669, con3670, con3671, con3672, con3673, con3674, con3675, con3676, con3677, con3678, con3679, con3680, con3681, con3682, con3683, con3684, con3685, con3686, con3687, con3688, con3689, con3690, con3691, con3692, con3693, con3694, con3695, con3696, con3697, con3698, con3699, con3700, con3701, con3702, con3703, con3704, con3705, con3706, con3707, con3708, con3709, con3710, con3711, con3712, con3713, con3714, con3715, con3716, con3717, con3718, con3719, con3720, con3721, con3722, con3723, con3724, con3725, con3726, con3727, con3728, con3729, con3730, con3731, con3732, con3733, con3734, con3735, con3736, con3737, con3738, con3739, con3740, con3741, con3742, con3743, con3744, con3745, con3746, con3747, con3748, con3749, con3750, con3751, con3752, con3753, con3754, con3755, con3756, con3757, con3758, con3759, con3760, con3761, con3762, con3763, con3764, con3765, con3766, con3767, con3768, con3769, con3770, con3771, con3772, con3773, con3774, con3775, con3776, con3777, con3778, con3779, con3780, con3781, con3782, con3783, con3784, con3785, con3786, con3787, con3788, con3789, con3790, con3791, con3792, con3793, con3794, con3795, con3796, con3797, con3798, con3799, con3800, con3801, con3802, con3803, con3804, con3805, con3806, con3807, con3808, con3809, con3810, con3811, con3812, con3813, con3814, con3815, con3816, con3817, con3818, con3819, con3820, con3821, con3822, con3823, con3824, con3825, con3826, con3827, con3828, con3829, con3830, con3831, con3832, con3833, con3834, con3835, con3836, con3837, con3838, con3839, con3840, con3841, con3842, con3843, con3844, con3845, con3846, con3847, con3848, con3849, con3850, con3851, con3852, con3853, con3854, con3855, con3856, con3857, con3858, con3859, con3860, con3861, con3862, con3863, con3864, con3865, con3866, con3867, con3868, con3869, con3870, con3871, con3872, con3873, con3874, con3875, con3876, con3877, con3878, con3879, con3880, con3881, con3882, con3883, con3884, con3885, con3886, con3887, con3888, con3889, con3890, con3891, con3892, con3893, con3894, con3895, con3896, con3897, con3898, con3899, con3900, con3901, con3902, con3903, con3904, con3905, con3906, con3907, con3908, con3909, con3910, con3911, con3912, con3913, con3914, con3915, con3916, con3917, con3918, con3919, con3920, con3921, con3922, con3923, con3924, con3925, con3926, con3927, con3928, con3929, con3930, con3931, con3932, con3933, con3934, con3935, con3936, con3937, con3938, con3939, con3940, con3941, con3942, con3943, con3944, con3945, con3946, con3947, con3948, con3949, con3950, con3951, con3952, con3953, con3954, con3955, con3956, con3957, con3958, con3959, con3960, con3961, con3962, con3963, con3964, con3965, con3966, con3967, con3968, con3969, con3970, con3971, con3972, con3973, con3974, con3975, con3976, con3977, con3978, con3979, con3980, con3981, con3982, con3983, con3984, con3985, con3986, con3987, con3988, con3989, con3990, con3991, con3992, con3993, con3994, con3995, con3996, con3997, con3998, con3999, con4000, con4001, con4002, con4003, con4004, con4005, con4006, con4007, con4008, con4009, con4010, con4011, con4012, con4013, con4014, con4015, con4016, con4017, con4018, con4019, con4020, con4021, con4022, con4023, con4024, con4025, con4026, con4027, con4028, con4029, con4030, con4031, con4032, con4033, con4034, con4035, con4036, con4037, con4038, con4039, con4040, con4041, con4042, con4043, con4044, con4045, con4046, con4047, con4048, con4049, con4050, con4051, con4052, con4053, con4054, con4055, con4056, con4057, con4058, con4059, con4060, con4061, con4062, con4063, con4064, con4065, con4066, con4067, con4068, con4069, con4070, con4071, con4072, con4073, con4074, con4075, con4076, con4077, con4078, con4079, con4080, con4081, con4082, con4083, con4084, con4085, con4086, con4087, con4088, con4089, con4090, con4091, con4092, con4093, con4094, con4095, con4096, con4097, con4098, con4099, con4100, con4101, con4102, con4103, con4104, con4105, con4106, con4107, con4108, con4109, con4110, con4111, con4112, con4113, con4114, con4115, con4116, con4117, con4118, con4119, con4120, con4121, con4122, con4123, con4124, con4125, con4126, con4127, con4128, con4129, con4130, con4131, con4132, con4133, con4134, con4135, con4136, con4137, con4138, con4139, con4140, con4141, con4142, con4143, con4144, con4145, con4146, con4147, con4148, con4149, con4150, con4151, con4152, con4153, con4154, con4155, con4156, con4157, con4158, con4159, con4160, con4161, con4162, con4163, con4164, con4165, con4166, con4167, con4168, con4169, con4170, con4171, con4172, con4173, con4174, con4175, con4176, con4177, con4178, con4179, con4180, con4181, con4182, con4183, con4184, con4185, con4186, con4187, con4188, con4189, con4190, con4191, con4192, con4193, con4194, con4195, con4196, con4197, con4198, con4199, con4200, con4201, con4202, con4203, con4204, con4205, con4206, con4207, con4208, con4209, con4210, con4211, con4212, con4213, con4214, con4215, con4216, con4217, con4218, con4219, con4220, con4221, con4222, con4223, con4224, con4225, con4226, con4227, con4228, con4229, con4230, con4231, con4232, con4233, con4234, con4235, con4236, con4237, con4238, con4239, con4240, con4241, con4242, con4243, con4244, con4245, con4246, con4247, con4248, con4249, con4250, con4251, con4252, con4253, con4254, con4255, con4256, con4257, con4258, con4259, con4260, con4261, con4262, con4263, con4264, con4265, con4266, con4267, con4268, con4269, con4270, con4271, con4272, con4273, con4274, con4275, con4276, con4277, con4278, con4279, con4280, con4281, con4282, con4283, con4284, con4285, con4286, con4287, con4288, con4289, con4290, con4291, con4292, con4293, con4294, con4295, con4296, con4297, con4298, con4299, con4300, con4301, con4302, con4303, con4304, con4305, con4306, con4307, con4308, con4309, con4310, con4311, con4312, con4313, con4314, con4315, con4316, con4317, con4318, con4319, con4320, con4321, con4322, con4323, con4324, con4325, con4326, con4327, con4328, con4329, con4330, con4331, con4332, con4333, con4334, con4335, con4336, con4337, con4338, con4339, con4340, con4341, con4342, con4343, con4344, con4345, con4346, con4347, con4348, con4349, con4350, con4351, con4352, con4353, con4354, con4355, con4356, con4357, con4358, con4359, con4360, con4361, con4362, con4363, con4364, con4365, con4366, con4367, con4368, con4369, con4370, con4371, con4372, con4373, con4374, con4375, con4376, con4377, con4378, con4379, con4380, con4381, con4382, con4383, con4384, con4385, con4386, con4387, con4388, con4389, con4390, con4391, con4392, con4393, con4394, con4395, con4396, con4397, con4398, con4399, con4400, con4401, con4402, con4403, con4404, con4405, con4406, con4407, con4408, con4409, con4410, con4411, con4412, con4413, con4414, con4415, con4416, con4417, con4418, con4419, con4420, con4421, con4422, con4423, con4424, con4425, con4426, con4427, con4428, con4429, con4430, con4431, con4432, con4433, con4434, con4435, con4436, con4437, con4438, con4439, con4440, con4441, con4442, con4443, con4444, con4445, con4446, con4447, con4448, con4449, con4450, con4451, con4452, con4453, con4454, con4455, con4456, con4457, con4458, con4459, con4460, con4461, con4462, con4463, con4464, con4465, con4466, con4467, con4468, con4469, con4470, con4471, con4472, con4473, con4474, con4475, con4476, con4477, con4478, con4479, con4480, con4481, con4482, con4483, con4484, con4485, con4486, con4487, con4488, con4489, con4490, con4491, con4492, con4493, con4494, con4495, con4496, con4497, con4498, con4499, con4500, con4501, con4502, con4503, con4504, con4505, con4506, con4507, con4508, con4509, con4510, con4511, con4512, con4513, con4514, con4515, con4516, con4517, con4518, con4519, con4520, con4521, con4522, con4523, con4524, con4525, con4526, con4527, con4528, con4529, con4530, con4531, con4532, con4533, con4534, con4535, con4536, con4537, con4538, con4539, con4540, con4541, con4542, con4543, con4544, con4545, con4546, con4547, con4548, con4549, con4550, con4551, con4552, con4553, con4554, con4555, con4556, con4557, con4558, con4559, con4560, con4561, con4562, con4563, con4564, con4565, con4566, con4567, con4568, con4569, con4570, con4571, con4572, con4573, con4574, con4575, con4576, con4577, con4578, con4579, con4580, con4581, con4582, con4583, con4584, con4585, con4586, con4587, con4588, con4589, con4590, con4591, con4592, con4593, con4594, con4595, con4596, con4597, con4598, con4599, con4600, con4601, con4602, con4603, con4604, con4605, con4606, con4607, con4608, con4609, con4610, con4611, con4612, con4613, con4614, con4615, con4616, con4617, con4618, con4619, con4620, con4621, con4622, con4623, con4624, con4625, con4626, con4627, con4628, con4629, con4630, con4631, con4632, con4633, con4634, con4635, con4636, con4637, con4638, con4639, con4640, con4641, con4642, con4643, con4644, con4645, con4646, con4647, con4648, con4649, con4650, con4651, con4652, con4653, con4654, con4655, con4656, con4657, con4658, con4659, con4660, con4661, con4662, con4663, con4664, con4665, con4666, con4667, con4668, con4669, con4670, con4671, con4672, con4673, con4674, con4675, con4676, con4677, con4678, con4679, con4680, con4681, con4682, con4683, con4684, con4685, con4686, con4687, con4688, con4689, con4690, con4691, con4692, con4693, con4694, con4695, con4696, con4697, con4698, con4699, con4700, con4701, con4702, con4703, con4704, con4705, con4706, con4707, con4708, con4709, con4710, con4711, con4712, con4713, con4714, con4715, con4716, con4717, con4718, con4719, con4720, con4721, con4722, con4723, con4724, con4725, con4726, con4727, con4728, con4729, con4730, con4731, con4732, con4733, con4734, con4735, con4736, con4737, con4738, con4739, con4740, con4741, con4742, con4743, con4744, con4745, con4746, con4747, con4748, con4749, con4750, con4751, con4752, con4753, con4754, con4755, con4756, con4757, con4758, con4759, con4760, con4761, con4762, con4763, con4764, con4765, con4766, con4767, con4768, con4769, con4770, con4771, con4772, con4773, con4774, con4775, con4776, con4777, con4778, con4779, con4780, con4781, con4782, con4783, con4784, con4785, con4786, con4787, con4788, con4789, con4790, con4791, con4792, con4793, con4794, con4795, con4796, con4797, con4798, con4799, con4800, con4801, con4802, con4803, con4804, con4805, con4806, con4807, con4808, con4809, con4810, con4811, con4812, con4813, con4814, con4815, con4816, con4817, con4818, con4819, con4820, con4821, con4822, con4823, con4824, con4825, con4826, con4827, con4828, con4829, con4830, con4831, con4832, con4833, con4834, con4835, con4836, con4837, con4838, con4839, con4840, con4841, con4842, con4843, con4844, con4845, con4846, con4847, con4848, con4849, con4850, con4851, con4852, con4853, con4854, con4855, con4856, con4857, con4858, con4859, con4860, con4861, con4862, con4863, con4864, con4865, con4866, con4867, con4868, con4869, con4870, con4871, con4872, con4873, con4874, con4875, con4876, con4877, con4878, con4879, con4880, con4881, con4882, con4883, con4884, con4885, con4886, con4887, con4888, con4889, con4890, con4891, con4892, con4893, con4894, con4895, con4896, con4897, con4898, con4899, con4900, con4901, con4902, con4903, con4904, con4905, con4906, con4907, con4908, con4909, con4910, con4911, con4912, con4913, con4914, con4915, con4916, con4917, con4918, con4919, con4920, con4921, con4922, con4923, con4924, con4925, con4926, con4927, con4928, con4929, con4930, con4931, con4932, con4933, con4934, con4935, con4936, con4937, con4938, con4939, con4940, con4941, con4942, con4943, con4944, con4945, con4946, con4947, con4948, con4949, con4950, con4951, con4952, con4953, con4954, con4955, con4956, con4957, con4958, con4959, con4960, con4961, con4962, con4963, con4964, con4965, con4966, con4967, con4968, con4969, con4970, con4971, con4972, con4973, con4974, con4975, con4976, con4977, con4978, con4979, con4980, con4981, con4982, con4983, con4984, con4985, con4986, con4987, con4988, con4989, con4990, con4991, con4992, con4993, con4994, con4995, con4996, con4997, con4998, con4999, con5000, con5001, con5002, con5003, con5004, con5005, con5006, con5007, con5008, con5009, con5010, con5011, con5012, con5013, con5014, con5015, con5016, con5017, con5018, con5019, con5020, con5021, con5022, con5023, con5024, con5025, con5026, con5027, con5028, con5029, con5030, con5031, con5032, con5033, con5034, con5035, con5036, con5037, con5038, con5039, con5040, con5041, con5042, con5043, con5044, con5045, con5046, con5047, con5048, con5049, con5050, con5051, con5052, con5053, con5054, con5055, con5056, con5057, con5058, con5059, con5060, con5061, con5062, con5063, con5064, con5065, con5066, con5067, con5068, con5069, con5070, con5071, con5072, con5073, con5074, con5075, con5076, con5077, con5078, con5079, con5080, con5081, con5082, con5083, con5084, con5085, con5086, con5087, con5088, con5089, con5090, con5091, con5092, con5093, con5094, con5095, con5096, con5097, con5098, con5099, con5100, con5101, con5102, con5103, con5104, con5105, con5106, con5107, con5108, con5109, con5110, con5111, con5112, con5113, con5114, con5115, con5116, con5117, con5118, con5119, con5120, con5121, con5122, con5123, con5124, con5125, con5126, con5127, con5128, con5129, con5130, con5131, con5132, con5133, con5134, con5135, con5136, con5137, con5138, con5139, con5140, con5141, con5142, con5143, con5144, con5145, con5146, con5147, con5148, con5149, con5150, con5151, con5152, con5153, con5154, con5155, con5156, con5157, con5158, con5159, con5160, con5161, con5162, con5163, con5164, con5165, con5166, con5167, con5168, con5169, con5170, con5171, con5172, con5173, con5174, con5175, con5176, con5177, con5178, con5179, con5180, con5181, con5182, con5183, con5184, con5185, con5186, con5187, con5188, con5189, con5190, con5191, con5192, con5193, con5194, con5195, con5196, con5197, con5198, con5199, con5200, con5201, con5202, con5203, con5204, con5205, con5206, con5207, con5208, con5209, con5210, con5211, con5212, con5213, con5214, con5215, con5216, con5217, con5218, con5219, con5220, con5221, con5222, con5223, con5224, con5225, con5226, con5227, con5228, con5229, con5230, con5231, con5232, con5233, con5234, con5235, con5236, con5237, con5238, con5239, con5240, con5241, con5242, con5243, con5244, con5245, con5246, con5247, con5248, con5249, con5250, con5251, con5252, con5253, con5254, con5255, con5256, con5257, con5258, con5259, con5260, con5261, con5262, con5263, con5264, con5265, con5266, con5267, con5268, con5269, con5270, con5271, con5272, con5273, con5274, con5275, con5276, con5277, con5278, con5279, con5280, con5281, con5282, con5283, con5284, con5285, con5286, con5287, con5288, con5289, con5290, con5291, con5292, con5293, con5294, con5295, con5296, con5297, con5298, con5299, con5300, con5301, con5302, con5303, con5304, con5305, con5306, con5307, con5308, con5309, con5310, con5311, con5312, con5313, con5314, con5315, con5316, con5317, con5318, con5319, con5320, con5321, con5322, con5323, con5324, con5325, con5326, con5327, con5328, con5329, con5330, con5331, con5332, con5333, con5334, con5335, con5336, con5337, con5338, con5339, con5340, con5341, con5342, con5343, con5344, con5345, con5346, con5347, con5348, con5349, con5350, con5351, con5352, con5353, con5354, con5355, con5356, con5357, con5358, con5359, con5360, con5361, con5362, con5363, con5364, con5365, con5366, con5367, con5368, con5369, con5370, con5371, con5372, con5373, con5374, con5375, con5376, con5377, con5378, con5379, con5380, con5381, con5382, con5383, con5384, con5385, con5386, con5387, con5388, con5389, con5390, con5391, con5392, con5393, con5394, con5395, con5396, con5397, con5398, con5399, con5400, con5401, con5402, con5403, con5404, con5405, con5406, con5407, con5408, con5409, con5410, con5411, con5412, con5413, con5414, con5415, con5416, con5417, con5418, con5419, con5420, con5421, con5422, con5423, con5424, con5425, con5426, con5427, con5428, con5429, con5430, con5431, con5432, con5433, con5434, con5435, con5436, con5437, con5438, con5439, con5440, con5441, con5442, con5443, con5444, con5445, con5446, con5447, con5448, con5449, con5450, con5451, con5452, con5453, con5454, con5455, con5456, con5457, con5458, con5459, con5460, con5461, con5462, con5463, con5464, con5465, con5466, con5467, con5468, con5469, con5470, con5471, con5472, con5473, con5474, con5475, con5476, con5477, con5478, con5479, con5480, con5481, con5482, con5483, con5484, con5485, con5486, con5487, con5488, con5489, con5490, con5491, con5492, con5493, con5494, con5495, con5496, con5497, con5498, con5499, con5500, con5501, con5502, con5503, con5504, con5505, con5506, con5507, con5508, con5509, con5510, con5511, con5512, con5513, con5514, con5515, con5516, con5517, con5518, con5519, con5520, con5521, con5522, con5523, con5524, con5525, con5526, con5527, con5528, con5529, con5530, con5531, con5532, con5533, con5534, con5535, con5536, con5537, con5538, con5539, con5540, con5541, con5542, con5543, con5544, con5545, con5546, con5547, con5548, con5549, con5550, con5551, con5552, con5553, con5554, con5555, con5556, con5557, con5558, con5559, con5560, con5561, con5562, con5563, con5564, con5565, con5566, con5567, con5568, con5569, con5570, con5571, con5572, con5573, con5574, con5575, con5576, con5577, con5578, con5579, con5580, con5581, con5582, con5583, con5584, con5585, con5586, con5587, con5588, con5589, con5590, con5591, con5592, con5593, con5594, con5595, con5596, con5597, con5598, con5599, con5600, con5601, con5602, con5603, con5604, con5605, con5606, con5607, con5608, con5609, con5610, con5611, con5612, con5613, con5614, con5615, con5616, con5617, con5618, con5619, con5620, con5621, con5622, con5623, con5624, con5625, con5626, con5627, con5628, con5629, con5630, con5631, con5632, con5633, con5634, con5635, con5636, con5637, con5638, con5639, con5640, con5641, con5642, con5643, con5644, con5645, con5646, con5647, con5648, con5649, con5650, con5651, con5652, con5653, con5654, con5655, con5656, con5657, con5658, con5659, con5660, con5661, con5662, con5663, con5664, con5665, con5666, con5667, con5668, con5669, con5670, con5671, con5672, con5673, con5674, con5675, con5676, con5677, con5678, con5679, con5680, con5681, con5682, con5683, con5684, con5685, con5686, con5687, con5688, con5689, con5690, con5691, con5692, con5693, con5694, con5695, con5696, con5697, con5698, con5699, con5700, con5701, con5702, con5703, con5704, con5705, con5706, con5707, con5708, con5709, con5710, con5711, con5712, con5713, con5714, con5715, con5716, con5717, con5718, con5719, con5720, con5721, con5722, con5723, con5724, con5725, con5726, con5727, con5728, con5729, con5730, con5731, con5732, con5733, con5734, con5735, con5736, con5737, con5738, con5739, con5740, con5741, con5742, con5743, con5744, con5745, con5746, con5747, con5748, con5749, con5750, con5751, con5752, con5753, con5754, con5755, con5756, con5757, con5758, con5759, con5760, con5761, con5762, con5763, con5764, con5765, con5766, con5767, con5768, con5769, con5770, con5771, con5772, con5773, con5774, con5775, con5776, con5777, con5778, con5779, con5780, con5781, con5782, con5783, con5784, con5785, con5786, con5787, con5788, con5789, con5790, con5791, con5792, con5793, con5794, con5795, con5796, con5797, con5798, con5799, con5800, con5801, con5802, con5803, con5804, con5805, con5806, con5807, con5808, con5809, con5810, con5811, con5812, con5813, con5814, con5815, con5816, con5817, con5818, con5819, con5820, con5821, con5822, con5823, con5824, con5825, con5826, con5827, con5828, con5829, con5830, con5831, con5832, con5833, con5834, con5835, con5836, con5837, con5838, con5839, con5840, con5841, con5842, con5843, con5844, con5845, con5846, con5847, con5848, con5849, con5850, con5851, con5852, con5853, con5854, con5855, con5856, con5857, con5858, con5859, con5860, con5861, con5862, con5863, con5864, con5865, con5866, con5867, con5868, con5869, con5870, con5871, con5872, con5873, con5874, con5875, con5876, con5877, con5878, con5879, con5880, con5881, con5882, con5883, con5884, con5885, con5886, con5887, con5888, con5889, con5890, con5891, con5892, con5893, con5894, con5895, con5896, con5897, con5898, con5899, con5900, con5901, con5902, con5903, con5904, con5905, con5906, con5907, con5908, con5909, con5910, con5911, con5912, con5913, con5914, con5915, con5916, con5917, con5918, con5919, con5920, con5921, con5922, con5923, con5924, con5925, con5926, con5927, con5928, con5929, con5930, con5931, con5932, con5933, con5934, con5935, con5936, con5937, con5938, con5939, con5940, con5941, con5942, con5943, con5944, con5945, con5946, con5947, con5948, con5949, con5950, con5951, con5952, con5953, con5954, con5955, con5956, con5957, con5958, con5959, con5960, con5961, con5962, con5963, con5964, con5965, con5966, con5967, con5968, con5969, con5970, con5971, con5972, con5973, con5974, con5975, con5976, con5977, con5978, con5979, con5980, con5981, con5982, con5983, con5984, con5985, con5986, con5987, con5988, con5989, con5990, con5991, con5992, con5993, con5994, con5995, con5996, con5997, con5998, con5999, con6000, con6001, con6002, con6003, con6004, con6005, con6006, con6007, con6008, con6009, con6010, con6011, con6012, con6013, con6014, con6015, con6016, con6017, con6018, con6019, con6020, con6021, con6022, con6023, con6024, con6025, con6026, con6027, con6028, con6029, con6030, con6031, con6032, con6033, con6034, con6035, con6036, con6037, con6038, con6039, con6040, con6041, con6042, con6043, con6044, con6045, con6046, con6047, con6048, con6049, con6050, con6051, con6052, con6053, con6054, con6055, con6056, con6057, con6058, con6059, con6060, con6061, con6062, con6063, con6064, con6065, con6066, con6067, con6068, con6069, con6070, con6071, con6072, con6073, con6074, con6075, con6076, con6077, con6078, con6079, con6080, con6081, con6082, con6083, con6084, con6085, con6086, con6087, con6088, con6089, con6090, con6091, con6092, con6093, con6094, con6095, con6096, con6097, con6098, con6099, con6100, con6101, con6102, con6103, con6104, con6105, con6106, con6107, con6108, con6109, con6110, con6111, con6112, con6113, con6114, con6115, con6116, con6117, con6118, con6119, con6120, con6121, con6122, con6123, con6124, con6125, con6126, con6127, con6128, con6129, con6130, con6131, con6132, con6133, con6134, con6135, con6136, con6137, con6138, con6139, con6140, con6141, con6142, con6143, con6144, con6145, con6146, con6147, con6148, con6149, con6150, con6151, con6152, con6153, con6154, con6155, con6156, con6157, con6158, con6159, con6160, con6161, con6162, con6163, con6164, con6165, con6166, con6167, con6168, con6169, con6170, con6171, con6172, con6173, con6174, con6175, con6176, con6177, con6178, con6179, con6180, con6181, con6182, con6183, con6184, con6185, con6186, con6187, con6188, con6189, con6190, con6191, con6192, con6193, con6194, con6195, con6196, con6197, con6198, con6199, con6200, con6201, con6202, con6203, con6204, con6205, con6206, con6207, con6208, con6209, con6210, con6211, con6212, con6213, con6214, con6215, con6216, con6217, con6218, con6219, con6220, con6221, con6222, con6223, con6224, con6225, con6226, con6227, con6228, con6229, con6230, con6231, con6232, con6233, con6234, con6235, con6236, con6237, con6238, con6239, con6240, con6241, con6242, con6243, con6244, con6245, con6246, con6247, con6248, con6249, con6250, con6251, con6252, con6253, con6254, con6255, con6256, con6257, con6258, con6259, con6260, con6261, con6262, con6263, con6264, con6265, con6266, con6267, con6268, con6269, con6270, con6271, con6272, con6273, con6274, con6275, con6276, con6277, con6278, con6279, con6280, con6281, con6282, con6283, con6284, con6285, con6286, con6287, con6288, con6289, con6290, con6291, con6292, con6293, con6294, con6295, con6296, con6297, con6298, con6299, con6300, con6301, con6302, con6303, con6304, con6305, con6306, con6307, con6308, con6309, con6310, con6311, con6312, con6313, con6314, con6315, con6316, con6317, con6318, con6319, con6320, con6321, con6322, con6323, con6324, con6325, con6326, con6327, con6328, con6329, con6330, con6331, con6332, con6333, con6334, con6335, con6336, con6337, con6338, con6339, con6340, con6341, con6342, con6343, con6344, con6345, con6346, con6347, con6348, con6349, con6350, con6351, con6352, con6353, con6354, con6355, con6356, con6357, con6358, con6359, con6360, con6361, con6362, con6363, con6364, con6365, con6366, con6367, con6368, con6369, con6370, con6371, con6372, con6373, con6374, con6375, con6376, con6377, con6378, con6379, con6380, con6381, con6382, con6383, con6384, con6385, con6386, con6387, con6388, con6389, con6390, con6391, con6392, con6393, con6394, con6395, con6396, con6397, con6398, con6399, con6400, con6401, con6402, con6403, con6404, con6405, con6406, con6407, con6408, con6409, con6410, con6411, con6412, con6413, con6414, con6415, con6416, con6417, con6418, con6419, con6420, con6421, con6422, con6423, con6424, con6425, con6426, con6427, con6428, con6429, con6430, con6431, con6432, con6433, con6434, con6435, con6436, con6437, con6438, con6439, con6440, con6441, con6442, con6443, con6444, con6445, con6446, con6447, con6448, con6449, con6450, con6451, con6452, con6453, con6454, con6455, con6456, con6457, con6458, con6459, con6460, con6461, con6462, con6463, con6464, con6465, con6466, con6467, con6468, con6469, con6470, con6471, con6472, con6473, con6474, con6475, con6476, con6477, con6478, con6479, con6480, con6481, con6482, con6483, con6484, con6485, con6486, con6487, con6488, con6489, con6490, con6491, con6492, con6493, con6494, con6495, con6496, con6497, con6498, con6499, con6500, con6501, con6502, con6503, con6504, con6505, con6506, con6507, con6508, con6509, con6510, con6511, con6512, con6513, con6514, con6515, con6516, con6517, con6518, con6519, con6520, con6521, con6522, con6523, con6524, con6525, con6526, con6527, con6528, con6529, con6530, con6531, con6532, con6533, con6534, con6535, con6536, con6537, con6538, con6539, con6540, con6541, con6542, con6543, con6544, con6545, con6546, con6547, con6548, con6549, con6550, con6551, con6552, con6553, con6554, con6555, con6556, con6557, con6558, con6559, con6560, con6561, con6562, con6563, con6564, con6565, con6566, con6567, con6568, con6569, con6570, con6571, con6572, con6573, con6574, con6575, con6576, con6577, con6578, con6579, con6580, con6581, con6582, con6583, con6584, con6585, con6586, con6587, con6588, con6589, con6590, con6591, con6592, con6593, con6594, con6595, con6596, con6597, con6598, con6599, con6600, con6601, con6602, con6603, con6604, con6605, con6606, con6607, con6608, con6609, con6610, con6611, con6612, con6613, con6614, con6615, con6616, con6617, con6618, con6619, con6620, con6621, con6622, con6623, con6624, con6625, con6626, con6627, con6628, con6629, con6630, con6631, con6632, con6633, con6634, con6635, con6636, con6637, con6638, con6639, con6640, con6641, con6642, con6643, con6644, con6645, con6646, con6647, con6648, con6649, con6650, con6651, con6652, con6653, con6654, con6655, con6656, con6657, con6658, con6659, con6660, con6661, con6662, con6663, con6664, con6665, con6666, con6667, con6668, con6669, con6670, con6671, con6672, con6673, con6674, con6675, con6676, con6677, con6678, con6679, con6680, con6681, con6682, con6683, con6684, con6685, con6686, con6687, con6688, con6689, con6690, con6691, con6692, con6693, con6694, con6695, con6696, con6697, con6698, con6699, con6700, con6701, con6702, con6703, con6704, con6705, con6706, con6707, con6708, con6709, con6710, con6711, con6712, con6713, con6714, con6715, con6716, con6717, con6718, con6719, con6720, con6721, con6722, con6723, con6724, con6725, con6726, con6727, con6728, con6729, con6730, con6731, con6732, con6733, con6734, con6735, con6736, con6737, con6738, con6739, con6740, con6741, con6742, con6743, con6744, con6745, con6746, con6747, con6748, con6749, con6750, con6751, con6752, con6753, con6754, con6755, con6756, con6757, con6758, con6759, con6760, con6761, con6762, con6763, con6764, con6765, con6766, con6767, con6768, con6769, con6770, con6771, con6772, con6773, con6774, con6775, con6776, con6777, con6778, con6779, con6780, con6781, con6782, con6783, con6784, con6785, con6786, con6787, con6788, con6789, con6790, con6791, con6792, con6793, con6794, con6795, con6796, con6797, con6798, con6799, con6800, con6801, con6802, con6803, con6804, con6805, con6806, con6807, con6808, con6809, con6810, con6811, con6812, con6813, con6814, con6815, con6816, con6817, con6818, con6819, con6820, con6821, con6822, con6823, con6824, con6825, con6826, con6827, con6828, con6829, con6830, con6831, con6832, con6833, con6834, con6835, con6836, con6837, con6838, con6839, con6840, con6841, con6842, con6843, con6844, con6845, con6846, con6847, con6848, con6849, con6850, con6851, con6852, con6853, con6854, con6855, con6856, con6857, con6858, con6859, con6860, con6861, con6862, con6863, con6864, con6865, con6866, con6867, con6868, con6869, con6870, con6871, con6872, con6873, con6874, con6875, con6876, con6877, con6878, con6879, con6880, con6881, con6882, con6883, con6884, con6885, con6886, con6887, con6888, con6889, con6890, con6891, con6892, con6893, con6894, con6895, con6896, con6897, con6898, con6899, con6900, con6901, con6902, con6903, con6904, con6905, con6906, con6907, con6908, con6909, con6910, con6911, con6912, con6913, con6914, con6915, con6916, con6917, con6918, con6919, con6920, con6921, con6922, con6923, con6924, con6925, con6926, con6927, con6928, con6929, con6930, con6931, con6932, con6933, con6934, con6935, con6936, con6937, con6938, con6939, con6940, con6941, con6942, con6943, con6944, con6945, con6946, con6947, con6948, con6949, con6950, con6951, con6952, con6953, con6954, con6955, con6956, con6957, con6958, con6959, con6960, con6961, con6962, con6963, con6964, con6965, con6966, con6967, con6968, con6969, con6970, con6971, con6972, con6973, con6974, con6975, con6976, con6977, con6978, con6979, con6980, con6981, con6982, con6983, con6984, con6985, con6986, con6987, con6988, con6989, con6990, con6991, con6992, con6993, con6994, con6995, con6996, con6997, con6998, con6999, con7000, con7001, con7002, con7003, con7004, con7005, con7006, con7007, con7008, con7009, con7010, con7011, con7012, con7013, con7014, con7015, con7016, con7017, con7018, con7019, con7020, con7021, con7022, con7023, con7024, con7025, con7026, con7027, con7028, con7029, con7030, con7031, con7032, con7033, con7034, con7035, con7036, con7037, con7038, con7039, con7040, con7041, con7042, con7043, con7044, con7045, con7046, con7047, con7048, con7049, con7050, con7051, con7052, con7053, con7054, con7055, con7056, con7057, con7058, con7059, con7060, con7061, con7062, con7063, con7064, con7065, con7066, con7067, con7068, con7069, con7070, con7071, con7072, con7073, con7074, con7075, con7076, con7077, con7078, con7079, con7080, con7081, con7082, con7083, con7084, con7085, con7086, con7087, con7088, con7089, con7090, con7091, con7092, con7093, con7094, con7095, con7096, con7097, con7098, con7099, con7100, con7101, con7102, con7103, con7104, con7105, con7106, con7107, con7108, con7109, con7110, con7111, con7112, con7113, con7114, con7115, con7116, con7117, con7118, con7119, con7120, con7121, con7122, con7123, con7124, con7125, con7126, con7127, con7128, con7129, con7130, con7131, con7132, con7133, con7134, con7135, con7136, con7137, con7138, con7139, con7140, con7141, con7142, con7143, con7144, con7145, con7146, con7147, con7148, con7149, con7150, con7151, con7152, con7153, con7154, con7155, con7156, con7157, con7158, con7159, con7160, con7161, con7162, con7163, con7164, con7165, con7166, con7167, con7168, con7169, con7170, con7171, con7172, con7173, con7174, con7175, con7176, con7177, con7178, con7179, con7180, con7181, con7182, con7183, con7184, con7185, con7186, con7187, con7188, con7189, con7190, con7191, con7192, con7193, con7194, con7195, con7196, con7197, con7198, con7199, con7200, con7201, con7202, con7203, con7204, con7205, con7206, con7207, con7208, con7209, con7210, con7211, con7212, con7213, con7214, con7215, con7216, con7217, con7218, con7219, con7220, con7221, con7222, con7223, con7224, con7225, con7226, con7227, con7228, con7229, con7230, con7231, con7232, con7233, con7234, con7235, con7236, con7237, con7238, con7239, con7240, con7241, con7242, con7243, con7244, con7245, con7246, con7247, con7248, con7249, con7250, con7251, con7252, con7253, con7254, con7255, con7256, con7257, con7258, con7259, con7260, con7261, con7262, con7263, con7264, con7265, con7266, con7267, con7268, con7269, con7270, con7271, con7272, con7273, con7274, con7275, con7276, con7277, con7278, con7279, con7280, con7281, con7282, con7283, con7284, con7285, con7286, con7287, con7288, con7289, con7290, con7291, con7292, con7293, con7294, con7295, con7296, con7297, con7298, con7299, con7300, con7301, con7302, con7303, con7304, con7305, con7306, con7307, con7308, con7309, con7310, con7311, con7312, con7313, con7314, con7315, con7316, con7317, con7318, con7319, con7320, con7321, con7322, con7323, con7324, con7325, con7326, con7327, con7328, con7329, con7330, con7331, con7332, con7333, con7334, con7335, con7336, con7337, con7338, con7339, con7340, con7341, con7342, con7343, con7344, con7345, con7346, con7347, con7348, con7349, con7350, con7351, con7352, con7353, con7354, con7355, con7356, con7357, con7358, con7359, con7360, con7361, con7362, con7363, con7364, con7365, con7366, con7367, con7368, con7369, con7370, con7371, con7372, con7373, con7374, con7375, con7376, con7377, con7378, con7379, con7380, con7381, con7382, con7383, con7384, con7385, con7386, con7387, con7388, con7389, con7390, con7391, con7392, con7393, con7394, con7395, con7396, con7397, con7398, con7399, con7400, con7401, con7402, con7403, con7404, con7405, con7406, con7407, con7408, con7409, con7410, con7411, con7412, con7413, con7414, con7415, con7416, con7417, con7418, con7419, con7420, con7421, con7422, con7423, con7424, con7425, con7426, con7427, con7428, con7429, con7430, con7431, con7432, con7433, con7434, con7435, con7436, con7437, con7438, con7439, con7440, con7441, con7442, con7443, con7444, con7445, con7446, con7447, con7448, con7449, con7450, con7451, con7452, con7453, con7454, con7455, con7456, con7457, con7458, con7459, con7460, con7461, con7462, con7463, con7464, con7465, con7466, con7467, con7468, con7469, con7470, con7471, con7472, con7473, con7474, con7475, con7476, con7477, con7478, con7479, con7480, con7481, con7482, con7483, con7484, con7485, con7486, con7487, con7488, con7489, con7490, con7491, con7492, con7493, con7494, con7495, con7496, con7497, con7498, con7499, con7500, con7501, con7502, con7503, con7504, con7505, con7506, con7507, con7508, con7509, con7510, con7511, con7512, con7513, con7514, con7515, con7516, con7517, con7518, con7519, con7520, con7521, con7522, con7523, con7524, con7525, con7526, con7527, con7528, con7529, con7530, con7531, con7532, con7533, con7534, con7535, con7536, con7537, con7538, con7539, con7540, con7541, con7542, con7543, con7544, con7545, con7546, con7547, con7548, con7549, con7550, con7551, con7552, con7553, con7554, con7555, con7556, con7557, con7558, con7559, con7560, con7561, con7562, con7563, con7564, con7565, con7566, con7567, con7568, con7569, con7570, con7571, con7572, con7573, con7574, con7575, con7576, con7577, con7578, con7579, con7580, con7581, con7582, con7583, con7584, con7585, con7586, con7587, con7588, con7589, con7590, con7591, con7592, con7593, con7594, con7595, con7596, con7597, con7598, con7599, con7600, con7601, con7602, con7603, con7604, con7605, con7606, con7607, con7608, con7609, con7610, con7611, con7612, con7613, con7614, con7615, con7616, con7617, con7618, con7619, con7620, con7621, con7622, con7623, con7624, con7625, con7626, con7627, con7628, con7629, con7630, con7631, con7632, con7633, con7634, con7635, con7636, con7637, con7638, con7639, con7640, con7641, con7642, con7643, con7644, con7645, con7646, con7647, con7648, con7649, con7650, con7651, con7652, con7653, con7654, con7655, con7656, con7657, con7658, con7659, con7660, con7661, con7662, con7663, con7664, con7665, con7666, con7667, con7668, con7669, con7670, con7671, con7672, con7673, con7674, con7675, con7676, con7677, con7678, con7679, con7680, con7681, con7682, con7683, con7684, con7685, con7686, con7687, con7688, con7689, con7690, con7691, con7692, con7693, con7694, con7695, con7696, con7697, con7698, con7699, con7700, con7701, con7702, con7703, con7704, con7705, con7706, con7707, con7708, con7709, con7710, con7711, con7712, con7713, con7714, con7715, con7716, con7717, con7718, con7719, con7720, con7721, con7722, con7723, con7724, con7725, con7726, con7727, con7728, con7729, con7730, con7731, con7732, con7733, con7734, con7735, con7736, con7737, con7738, con7739, con7740, con7741, con7742, con7743, con7744, con7745, con7746, con7747, con7748, con7749, con7750, con7751, con7752, con7753, con7754, con7755, con7756, con7757, con7758, con7759, con7760, con7761, con7762, con7763, con7764, con7765, con7766, con7767, con7768, con7769, con7770, con7771, con7772, con7773, con7774, con7775, con7776, con7777, con7778, con7779, con7780, con7781, con7782, con7783, con7784, con7785, con7786, con7787, con7788, con7789, con7790, con7791, con7792, con7793, con7794, con7795, con7796, con7797, con7798, con7799, con7800, con7801, con7802, con7803, con7804, con7805, con7806, con7807, con7808, con7809, con7810, con7811, con7812, con7813, con7814, con7815, con7816, con7817, con7818, con7819, con7820, con7821, con7822, con7823, con7824, con7825, con7826, con7827, con7828, con7829, con7830, con7831, con7832, con7833, con7834, con7835, con7836, con7837, con7838, con7839, con7840, con7841, con7842, con7843, con7844, con7845, con7846, con7847, con7848, con7849, con7850, con7851, con7852, con7853, con7854, con7855, con7856, con7857, con7858, con7859, con7860, con7861, con7862, con7863, con7864, con7865, con7866, con7867, con7868, con7869, con7870, con7871, con7872, con7873, con7874, con7875, con7876, con7877, con7878, con7879, con7880, con7881, con7882, con7883, con7884, con7885, con7886, con7887, con7888, con7889, con7890, con7891, con7892, con7893, con7894, con7895, con7896, con7897, con7898, con7899, con7900, con7901, con7902, con7903, con7904, con7905, con7906, con7907, con7908, con7909, con7910, con7911, con7912, con7913, con7914, con7915, con7916, con7917, con7918, con7919, con7920, con7921, con7922, con7923, con7924, con7925, con7926, con7927, con7928, con7929, con7930, con7931, con7932, con7933, con7934, con7935, con7936, con7937, con7938, con7939, con7940, con7941, con7942, con7943, con7944, con7945, con7946, con7947, con7948, con7949, con7950, con7951, con7952, con7953, con7954, con7955, con7956, con7957, con7958, con7959, con7960, con7961, con7962, con7963, con7964, con7965, con7966, con7967, con7968, con7969, con7970, con7971, con7972, con7973, con7974, con7975, con7976, con7977, con7978, con7979, con7980, con7981, con7982, con7983, con7984, con7985, con7986, con7987, con7988, con7989, con7990, con7991, con7992, con7993, con7994, con7995, con7996, con7997, con7998, con7999, con8000, con8001, con8002, con8003, con8004, con8005, con8006, con8007, con8008, con8009, con8010, con8011, con8012, con8013, con8014, con8015, con8016, con8017, con8018, con8019, con8020, con8021, con8022, con8023, con8024, con8025, con8026, con8027, con8028, con8029, con8030, con8031, con8032, con8033, con8034, con8035, con8036, con8037, con8038, con8039, con8040, con8041, con8042, con8043, con8044, con8045, con8046, con8047, con8048, con8049, con8050, con8051, con8052, con8053, con8054, con8055, con8056, con8057, con8058, con8059, con8060, con8061, con8062, con8063, con8064, con8065, con8066, con8067, con8068, con8069, con8070, con8071, con8072, con8073, con8074, con8075, con8076, con8077, con8078, con8079, con8080, con8081, con8082, con8083, con8084, con8085, con8086, con8087, con8088, con8089, con8090, con8091, con8092, con8093, con8094, con8095, con8096, con8097, con8098, con8099, con8100, con8101, con8102, con8103, con8104, con8105, con8106, con8107, con8108, con8109, con8110, con8111, con8112, con8113, con8114, con8115, con8116, con8117, con8118, con8119, con8120, con8121, con8122, con8123, con8124, con8125, con8126, con8127, con8128, con8129, con8130, con8131, con8132, con8133, con8134, con8135, con8136, con8137, con8138, con8139, con8140, con8141, con8142, con8143, con8144, con8145, con8146, con8147, con8148, con8149, con8150, con8151, con8152, con8153, con8154, con8155, con8156, con8157, con8158, con8159, con8160, con8161, con8162, con8163, con8164, con8165, con8166, con8167, con8168, con8169, con8170, con8171, con8172, con8173, con8174, con8175, con8176, con8177, con8178, con8179, con8180, con8181, con8182, con8183, con8184, con8185, con8186, con8187, con8188, con8189, con8190, con8191, con8192, con8193, con8194, con8195, con8196, con8197, con8198, con8199, con8200, con8201, con8202, con8203, con8204, con8205, con8206, con8207, con8208, con8209, con8210, con8211, con8212, con8213, con8214, con8215, con8216, con8217, con8218, con8219, con8220, con8221, con8222, con8223, con8224, con8225, con8226, con8227, con8228, con8229, con8230, con8231, con8232, con8233, con8234, con8235, con8236, con8237, con8238, con8239, con8240, con8241, con8242, con8243, con8244, con8245, con8246, con8247, con8248, con8249, con8250, con8251, con8252, con8253, con8254, con8255, con8256, con8257, con8258, con8259, con8260, con8261, con8262, con8263, con8264, con8265, con8266, con8267, con8268, con8269, con8270, con8271, con8272, con8273, con8274, con8275, con8276, con8277, con8278, con8279, con8280, con8281, con8282, con8283, con8284, con8285, con8286, con8287, con8288, con8289, con8290, con8291, con8292, con8293, con8294, con8295, con8296, con8297, con8298, con8299, con8300, con8301, con8302, con8303, con8304, con8305, con8306, con8307, con8308, con8309, con8310, con8311, con8312, con8313, con8314, con8315, con8316, con8317, con8318, con8319, con8320, con8321, con8322, con8323, con8324, con8325, con8326, con8327, con8328, con8329, con8330, con8331, con8332, con8333, con8334, con8335, con8336, con8337, con8338, con8339, con8340, con8341, con8342, con8343, con8344, con8345, con8346, con8347, con8348, con8349, con8350, con8351, con8352, con8353, con8354, con8355, con8356, con8357, con8358, con8359, con8360, con8361, con8362, con8363, con8364, con8365, con8366, con8367, con8368, con8369, con8370, con8371, con8372, con8373, con8374, con8375, con8376, con8377, con8378, con8379, con8380, con8381, con8382, con8383, con8384, con8385, con8386, con8387, con8388, con8389, con8390, con8391, con8392, con8393, con8394, con8395, con8396, con8397, con8398, con8399, con8400, con8401, con8402, con8403, con8404, con8405, con8406, con8407, con8408, con8409, con8410, con8411, con8412, con8413, con8414, con8415, con8416, con8417, con8418, con8419, con8420, con8421, con8422, con8423, con8424, con8425, con8426, con8427, con8428, con8429, con8430, con8431, con8432, con8433, con8434, con8435, con8436, con8437, con8438, con8439, con8440, con8441, con8442, con8443, con8444, con8445, con8446, con8447, con8448, con8449, con8450, con8451, con8452, con8453, con8454, con8455, con8456, con8457, con8458, con8459, con8460, con8461, con8462, con8463, con8464, con8465, con8466, con8467, con8468, con8469, con8470, con8471, con8472, con8473, con8474, con8475, con8476, con8477, con8478, con8479, con8480, con8481, con8482, con8483, con8484, con8485, con8486, con8487, con8488, con8489, con8490, con8491, con8492, con8493, con8494, con8495, con8496, con8497, con8498, con8499, con8500, con8501, con8502, con8503, con8504, con8505, con8506, con8507, con8508, con8509, con8510, con8511, con8512, con8513, con8514, con8515, con8516, con8517, con8518, con8519, con8520, con8521, con8522, con8523, con8524, con8525, con8526, con8527, con8528, con8529, con8530, con8531, con8532, con8533, con8534, con8535, con8536, con8537, con8538, con8539, con8540, con8541, con8542, con8543, con8544, con8545, con8546, con8547, con8548, con8549, con8550, con8551, con8552, con8553, con8554, con8555, con8556, con8557, con8558, con8559, con8560, con8561, con8562, con8563, con8564, con8565, con8566, con8567, con8568, con8569, con8570, con8571, con8572, con8573, con8574, con8575, con8576, con8577, con8578, con8579, con8580, con8581, con8582, con8583, con8584, con8585, con8586, con8587, con8588, con8589, con8590, con8591, con8592, con8593, con8594, con8595, con8596, con8597, con8598, con8599, con8600, con8601, con8602, con8603, con8604, con8605, con8606, con8607, con8608, con8609, con8610, con8611, con8612, con8613, con8614, con8615, con8616, con8617, con8618, con8619, con8620, con8621, con8622, con8623, con8624, con8625, con8626, con8627, con8628, con8629, con8630, con8631, con8632, con8633, con8634, con8635, con8636, con8637, con8638, con8639, con8640, con8641, con8642, con8643, con8644, con8645, con8646, con8647, con8648, con8649, con8650, con8651, con8652, con8653, con8654, con8655, con8656, con8657, con8658, con8659, con8660, con8661, con8662, con8663, con8664, con8665, con8666, con8667, con8668, con8669, con8670, con8671, con8672, con8673, con8674, con8675, con8676, con8677, con8678, con8679, con8680, con8681, con8682, con8683, con8684, con8685, con8686, con8687, con8688, con8689, con8690, con8691, con8692, con8693, con8694, con8695, con8696, con8697, con8698, con8699, con8700, con8701, con8702, con8703, con8704, con8705, con8706, con8707, con8708, con8709, con8710, con8711, con8712, con8713, con8714, con8715, con8716, con8717, con8718, con8719, con8720, con8721, con8722, con8723, con8724, con8725, con8726, con8727, con8728, con8729, con8730, con8731, con8732, con8733, con8734, con8735, con8736, con8737, con8738, con8739, con8740, con8741, con8742, con8743, con8744, con8745, con8746, con8747, con8748, con8749, con8750, con8751, con8752, con8753, con8754, con8755, con8756, con8757, con8758, con8759, con8760 were not assigned to the network.\n"
     ]
    },
    {
     "data": {
      "text/plain": [
       "('ok', 'optimal')"
      ]
     },
     "execution_count": 49,
     "metadata": {},
     "output_type": "execute_result"
    }
   ],
   "source": [
    "def custom_constraints(network, snapshots):\n",
    "    model = network.model\n",
    "    variables_bm = model.variables\n",
    "    charge_threshold = 128  # Threshold for charging\n",
    "    discharge_threshold = 93  # Threshold for discharging\n",
    "    battery_max_hours = network.storage_units.at[\"battery\", \"max_hours\"]\n",
    "\n",
    "    for t in snapshots:\n",
    "        imbalance_volume = BM_prices_data['net imbalance volume'].loc[t]\n",
    "        bm_sell_price = BM_prices_data['sell prices'].loc[t]\n",
    "        bm_buy_price = BM_prices_data['buy prices'].loc[t]\n",
    "\n",
    "        # Access the variables\n",
    "        p_dispatch = variables_bm[\"StorageUnit-p_dispatch\"].sel({\"snapshot\": t, \"StorageUnit\": \"battery\"})\n",
    "        state_of_charge = variables_bm[\"StorageUnit-state_of_charge\"].sel({\"snapshot\": t, \"StorageUnit\": \"battery\"})\n",
    "        p_store = variables_bm[\"StorageUnit-p_store\"].sel({\"snapshot\": t, \"StorageUnit\": \"battery\"})\n",
    "\n",
    "        efficiency_dispatch = network.storage_units.at[\"battery\", \"efficiency_dispatch\"]\n",
    "        efficiency_store = network.storage_units.at[\"battery\", \"efficiency_store\"]\n",
    "\n",
    "        # Binary variables for conditions\n",
    "        discharge_condition = (bm_sell_price >= discharge_threshold).astype(int)\n",
    "        charge_condition = (bm_buy_price < charge_threshold).astype(int)\n",
    "\n",
    "        if imbalance_volume > 0:\n",
    "            # If NIV is positive, the battery should discharge only if sell price is above discharge threshold\n",
    "            model.add_constraints((p_dispatch * battery_max_hours) <= (state_of_charge * efficiency_dispatch) * discharge_condition)\n",
    "        \n",
    "        elif imbalance_volume < 0:\n",
    "            # If NIV is negative, the battery should charge only if buy price is below charge threshold\n",
    "            model.add_constraints((p_store * battery_max_hours) <= (state_of_charge * efficiency_store) * charge_condition)\n",
    "\n",
    "# Capture the state of charge from the first optimization\n",
    "soc_initial = network.storage_units_t.state_of_charge[\"battery\"].copy()\n",
    "\n",
    "# Set the initial state of charge from the first optimization\n",
    "soc_initial_value = soc_initial.iloc[0]\n",
    "\n",
    "# Add the initial state of charge constraint\n",
    "model_bm.add_constraints(model_bm.variables[\"StorageUnit-state_of_charge\"].loc[:, \"battery\"].isel(snapshot=0) == soc_initial_value)\n",
    "\n",
    "# Run the second stage optimization with custom constraints\n",
    "network.optimize.solve_model(extra_functionality=custom_constraints, solver_name=\"gurobi\")"
   ]
  },
  {
   "cell_type": "code",
   "execution_count": 51,
   "id": "8a311482-899c-49a5-9260-5804b86b445e",
   "metadata": {},
   "outputs": [],
   "source": [
    "# Flows\n",
    "solar_grid_flow2 = network.links_t.p0[\"solar_grid\"]\n",
    "solar_battery_flow2 = network.links_t.p0[\"solar_battery\"]\n",
    "battery_grid_flow2 = network.links_t.p0[\"battery_grid\"]\n",
    "grid_battery_flow2 = network.links_t.p0[\"grid_battery\"]\n",
    "soc2 = network.storage_units_t.state_of_charge[\"battery\"]\n",
    "soc_percentage2 = (soc2 / battery_capacity) * 100\n",
    "\n",
    "# Total energy flow\n",
    "total_solar_grid2 = solar_grid_flow2.sum()\n",
    "total_solar_battery2 = solar_battery_flow2.sum()\n",
    "total_battery_grid2 = battery_grid_flow2.sum()\n",
    "total_grid_battery2 = grid_battery_flow2.sum()\n",
    "\n",
    "# Total energy generated by PV\n",
    "energy_generated_pv2 = network.generators_t.p[\"solar\"]\n",
    "total_energy_generated_pv2 = network.generators_t.p[\"solar\"].sum()\n",
    "# Total energy discharged by the battery over the year (in MWh)\n",
    "total_energy_discharged_battery2 = network.storage_units_t.p_dispatch[\"battery\"].sum()\n",
    "# Total energy charged by the battery over the year (in MWh)\n",
    "total_energy_charged_battery2 = network.storage_units_t.p_store[\"battery\"].sum()\n",
    "\n",
    "BM_state_of_charge = network.storage_units_t.state_of_charge[\"battery\"].copy()\n",
    "BM_p_dispatch = network.storage_units_t.p_dispatch[\"battery\"].copy()\n",
    "BM_p_store = network.storage_units_t.p_store[\"battery\"].copy()\n",
    "\n",
    "# Create a DataFrame to save the results\n",
    "results = {\n",
    "    \"Total Solar to Grid (MWh)\": [total_solar_grid2],\n",
    "    \"Total Solar to Battery (MWh)\": [total_solar_battery2],\n",
    "    \"Total Battery to Grid (MWh)\": [total_battery_grid2],\n",
    "    \"Total Grid to Battery (MWh)\": [total_grid_battery2],\n",
    "    \"Total Energy Generated by PV (MWh)\": [total_energy_generated_pv2],\n",
    "    \"Total Energy Discharged by Battery (MWh)\": [BM_p_store.sum()],\n",
    "    \"Total Energy Charged by Battery (MWh)\": [total_energy_charged_battery2]\n",
    "}\n",
    "\n",
    "results_df = pd.DataFrame(results)\n",
    "\n",
    "# Save the state of charge, dispatch, and store data to separate sheets\n",
    "with pd.ExcelWriter(\"3busesBM2023BM.xlsx\") as writer:\n",
    "    results_df.to_excel(writer, sheet_name=\"Summary\", index=False)\n",
    "    energy_generated_pv2.to_frame(name=\"Solar generated\").to_excel(writer, sheet_name=\"Solar generated\")\n",
    "    solar_grid_flow2.to_frame(name=\"Solar to Grid (MW)\").to_excel(writer, sheet_name=\"Solar to Grid\")\n",
    "    solar_battery_flow2.to_frame(name=\"Solar to Battery (MW)\").to_excel(writer, sheet_name=\"Solar to Battery\")\n",
    "    battery_grid_flow2.to_frame(name=\"Battery to Grid (MW)\").to_excel(writer, sheet_name=\"Battery to Grid\")\n",
    "    grid_battery_flow2.to_frame(name=\"Grid to Battery (MW)\").to_excel(writer, sheet_name=\"Grid to Battery\")\n",
    "    soc2.to_frame(name=\"State of Charge (MWh)\").to_excel(writer, sheet_name=\"State of Charge\")\n",
    "    soc_percentage2.to_frame(name=\"State of Charge (%)\").to_excel(writer, sheet_name=\"State of Charge %\")\n",
    "    BM_p_dispatch.to_frame(name=\"Battery Dispatch (MW)\").to_excel(writer, sheet_name=\"Battery Dispatch\")\n",
    "    BM_p_store.to_frame(name=\"Battery Store (MW)\").to_excel(writer, sheet_name=\"Battery Store\")"
   ]
  },
  {
   "cell_type": "code",
   "execution_count": 69,
   "id": "ac4e3958-d683-4be7-89c0-46e70879a358",
   "metadata": {},
   "outputs": [
    {
     "name": "stdout",
     "output_type": "stream",
     "text": [
      "Solar Revenue BM: £ 780223.3042215311\n",
      "BM Dispatch Revenue: £ 4092483.01120296\n",
      "BM Store Link Cost: £ -1562091.9119486928\n",
      "BM Revenue Fix: £ 2530391.0992542673\n",
      "BM Revenue Fix 30%: £ 759117.3297762802\n"
     ]
    }
   ],
   "source": [
    "solar_revenue_BM = total_solar_grid2 * strike_price\n",
    "bm_sell_prices = BM_prices_data['sell prices']\n",
    "bm_buy_prices = BM_prices_data['buy prices']\n",
    "\n",
    "discharge_bm = (BM_p_dispatch * bm_buy_prices).sum()\n",
    "grid_battery_flow = network.links_t.p1[\"grid_battery\"]\n",
    "bm_link_store_cost = (grid_battery_flow * bm_buy_prices).sum()\n",
    "\n",
    "bm_revenue_fix = discharge_bm - -bm_link_store_cost \n",
    "bm_revenue_fix_30 = bm_revenue_fix * 0.3\n",
    "\n",
    "print(\"Solar Revenue BM: £\", solar_revenue_BM)\n",
    "print(\"BM Dispatch Revenue: £\", discharge_bm)\n",
    "print(\"BM Store Link Cost: £\", bm_link_store_cost)\n",
    "print(\"BM Revenue Fix: £\", bm_revenue_fix)\n",
    "print(\"BM Revenue Fix 30%: £\", bm_revenue_fix_30)"
   ]
  },
  {
   "cell_type": "code",
   "execution_count": 71,
   "id": "9d3491e3-5a80-4f65-8469-cc7b52cd7541",
   "metadata": {},
   "outputs": [
    {
     "data": {
      "image/png": "[encoded data removed]",
      "text/plain": [
       "<Figure size 1200x600 with 2 Axes>"
      ]
     },
     "metadata": {},
     "output_type": "display_data"
    }
   ],
   "source": [
    "soc = BM_state_of_charge\n",
    "NIV = BM_prices_data.loc[network.snapshots, \"net imbalance volume\"]\n",
    "\n",
    "# Calculate the maximum capacity of the battery\n",
    "max_capacity = network.storage_units.at['battery', 'p_nom_opt'] * network.storage_units.at['battery', 'max_hours']\n",
    "\n",
    "# Convert SoC to percentage\n",
    "soc_percentage = (soc / max_capacity) * 100\n",
    "\n",
    "start_date = \"2022-05-05\"\n",
    "end_date = \"2022-05-06\"\n",
    "    \n",
    "# Filter the data for the specific time range\n",
    "soc_filtered = soc_percentage.loc[start_date:end_date]\n",
    "prices_filtered = NIV.loc[start_date:end_date]\n",
    "\n",
    "# Create a figure and axis objects\n",
    "fig, ax1 = plt.subplots(figsize=(12, 6))\n",
    "\n",
    "# Plot State of Charge (SoC) percentage with the first y-axis\n",
    "ax1.step(soc_filtered.index, soc_filtered.values, label='State of Charge (SoC) %', color='blue', where='mid', linestyle=\"-\")\n",
    "ax1.set_xlabel('Time')\n",
    "ax1.set_ylabel('State of Charge (%)', color='blue')\n",
    "ax1.tick_params(axis='y', labelcolor='blue')\n",
    "\n",
    "# Create a second y-axis to plot prices\n",
    "ax2 = ax1.twinx()\n",
    "ax2.plot(prices_filtered.index, prices_filtered.values, label='Electricity Prices (GBP/MWh)', color='red', linestyle=\"--\")\n",
    "ax2.set_ylabel('(NIV)', color='red')\n",
    "ax2.tick_params(axis='y', labelcolor='red')\n",
    "\n",
    "# Add a title and legend\n",
    "plt.title(f'State of Charge (%) and Net Imbalance Volume')\n",
    "fig.tight_layout()\n",
    "\n",
    "# Show the plot\n",
    "plt.show()"
   ]
  },
  {
   "cell_type": "code",
   "execution_count": 73,
   "id": "6573687c-8349-40a9-b04b-bf1510b42b33",
   "metadata": {},
   "outputs": [
    {
     "data": {
      "image/png": "[encoded data removed]",
      "text/plain": [
       "<Figure size 1200x600 with 1 Axes>"
      ]
     },
     "metadata": {},
     "output_type": "display_data"
    }
   ],
   "source": [
    "# Arbitrage and BM revenues\n",
    "arbitrage_revenue = net_arbitrage_revenue\n",
    "bm_net_revenue = bm_revenue_fix_30 \n",
    "solar_revenue = solar_revenue_BM\n",
    "Total = arbitrage_revenue + bm_net_revenue + solar_revenue\n",
    "\n",
    "# Data for the waterfall chart\n",
    "categories = ['Solar', 'Arbitrage', 'BM','Total']\n",
    "values = [solar_revenue, arbitrage_revenue, bm_net_revenue, Total]\n",
    "\n",
    "# Calculate cumulative values\n",
    "cumulative_values = np.cumsum([0] + values[:-1]).tolist()\n",
    "cumulative_values.append(cumulative_values[-1] + values[-1])\n",
    "\n",
    "# Waterfall chart\n",
    "fig, ax = plt.subplots(figsize=(12, 6))\n",
    "\n",
    "# Plot bars\n",
    "for i, (category, value, cumulative_value) in enumerate(zip(categories, values, cumulative_values)):\n",
    "    if i == len(categories) - 1:\n",
    "        ax.bar(category, value, color='crimson', edgecolor='black', label=category)\n",
    "    else:\n",
    "        ax.bar(category, value, bottom=cumulative_value, edgecolor='black', label=category)\n",
    "\n",
    "# Plot cumulative values\n",
    "for i, (category, cumulative_value) in enumerate(zip(categories, cumulative_values)):\n",
    "    if i < len(categories) - 1:\n",
    "        ax.text(i, cumulative_value + values[i] / 2, f'£{values[i]:,.0f}', ha='center', va='bottom', color='black', fontsize=13)\n",
    "\n",
    "# Formatting\n",
    "ax.set_title('Revenue Breakdown: Arbitrage, BM, and Solar')\n",
    "ax.set_ylabel('Revenue (£)')\n",
    "ax.grid(True, axis='y', linestyle='--', alpha=0.7)\n",
    "plt.xticks(rotation=45)\n",
    "plt.legend()\n",
    "plt.tight_layout()\n",
    "\n",
    "# Show the plot\n",
    "plt.show()\n"
   ]
  },
  {
   "cell_type": "code",
   "execution_count": 75,
   "id": "9c0c074c-2825-4a53-94d7-e6816bf81a86",
   "metadata": {},
   "outputs": [],
   "source": [
    "# Assumptions\n",
    "battery_capex_per_mw = 700000 # $/MW for battery storage\n",
    "battery_replacement = 580000\n",
    "# Operational Expenditure (OPEX)\n",
    "battery_opex_per_mw_per_year = 15000 # $/MW/year for battery storage\n",
    "# System Sizes\n",
    "battery_capacity_mw = network.storage_units.at['battery', 'p_nom_opt']\n",
    "battery_capacity_mwh = battery_capacity_mw * network.storage_units.at['battery', 'max_hours']\n",
    "\n",
    "# Capital Expenditure (CAPEX)\n",
    "battery_capex = (battery_capacity_mw * battery_capex_per_mw)\n",
    "total_replacement = battery_replacement * battery_capacity_mw\n",
    "\n",
    "# Operational Expenditure (OPEX)\n",
    "battery_opex = battery_capacity_mw * battery_opex_per_mw_per_year"
   ]
  },
  {
   "cell_type": "code",
   "execution_count": 77,
   "id": "09f1e931-74ff-4169-ae84-d3f629d35710",
   "metadata": {},
   "outputs": [
    {
     "name": "stdout",
     "output_type": "stream",
     "text": [
      "Net Present Value (NPV): GBP9290331.38\n",
      "Internal Rate of Return (IRR): 11.21%\n",
      "Payback Period: 8 years\n"
     ]
    },
    {
     "data": {
      "image/png": "[encoded data removed]",
      "text/plain": [
       "<Figure size 1200x600 with 1 Axes>"
      ]
     },
     "metadata": {},
     "output_type": "display_data"
    }
   ],
   "source": [
    "C_battery = battery_capex # Initial cost of battery in GBP\n",
    "R_battery = total_replacement # Replacement cost of battery in GBP\n",
    "O_battery = battery_opex # Annual O&M cost of battery in GBP\n",
    "discount_rate = 0.05 # Discount rate\n",
    "battery_lifetime = 10  # Battery lifetime in years\n",
    "project_lifetime = 20  # Project lifetime in years\n",
    "construction_phase_years = 2\n",
    "price_escalation_rate = 0.02  # Annual price escalation rate\n",
    "\n",
    "# Provided annual revenues\n",
    "initial_arbitrage_revenue = net_arbitrage_revenue  # Initial arbitrage revenue in GBP\n",
    "initial_BM_revenue = bm_revenue_fix * 0.3\n",
    "\n",
    "# Calculate escalated revenues\n",
    "escalated_arbitrage_revenue = [initial_arbitrage_revenue * ((1 + price_escalation_rate) ** t) for t in range(project_lifetime + construction_phase_years)]\n",
    "escalated_BM_revenue = [initial_BM_revenue * ((1 + price_escalation_rate) ** t) for t in range(project_lifetime + construction_phase_years)]\n",
    "annual_revenue = [escalated_BM_revenue[t] + escalated_arbitrage_revenue[t] for t in range(project_lifetime + construction_phase_years)]\n",
    "\n",
    "# Initialize cash flows list\n",
    "cash_flows = []\n",
    "\n",
    "# Construction phase (Years 0 and 1)\n",
    "C_battery_annual = C_battery / construction_phase_years\n",
    "cash_flows.append(-(C_battery_annual))  # Year 0\n",
    "cash_flows.append(-C_battery_annual)  # Year 1\n",
    "\n",
    "# Operational phase (Years 2 to 16)\n",
    "for t in range(2, battery_lifetime + construction_phase_years):\n",
    "    cash_flow = annual_revenue[t-1] - O_battery\n",
    "    cash_flows.append(cash_flow)\n",
    "\n",
    "# Year 17 (Battery replacement, year 17 corresponds to year 16 of operation)\n",
    "cash_flow = annual_revenue[battery_lifetime + construction_phase_years - 1] - (R_battery + O_battery)\n",
    "cash_flows.append(cash_flow)\n",
    "\n",
    "# Operational phase continued (Years 18 to 32)\n",
    "for t in range(battery_lifetime + construction_phase_years + 1, project_lifetime + construction_phase_years + 1):\n",
    "    cash_flow = annual_revenue[t-1] - O_battery\n",
    "    cash_flows.append(cash_flow)\n",
    "\n",
    "# Calculate NPV\n",
    "npv = npf.npv(discount_rate, cash_flows)\n",
    "print(f\"Net Present Value (NPV): GBP{npv:.2f}\")\n",
    "\n",
    "# Calculate IRR\n",
    "irr = npf.irr(cash_flows)\n",
    "print(f\"Internal Rate of Return (IRR): {irr * 100:.2f}%\")\n",
    "\n",
    "# Calculate Payback Period\n",
    "cumulative_cash_flows = np.cumsum(cash_flows)\n",
    "payback_period = np.argmax(cumulative_cash_flows >= 0)\n",
    "\n",
    "# If the project never pays back, set payback period to None\n",
    "if cumulative_cash_flows[payback_period] < 0:\n",
    "    payback_period = None\n",
    "\n",
    "print(f\"Payback Period: {payback_period if payback_period is not None else 'Project does not pay back within the project lifetime'} years\")\n",
    "\n",
    "# Create a DataFrame for visualization\n",
    "years = list(range(project_lifetime + construction_phase_years + 1))\n",
    "df = pd.DataFrame({'Year': years, 'Cash Flow': cash_flows, 'Cumulative Cash Flow': cumulative_cash_flows})\n",
    "\n",
    "# Plotting\n",
    "plt.figure(figsize=(12, 6))\n",
    "plt.bar(df['Year'], df['Cash Flow'], color='blue', label='Annual Cash Flow')\n",
    "#plt.plot(df['Year'], df['Cumulative Cash Flow'], color='red', marker='o', linestyle='-', label='Cumulative Cash Flow')\n",
    "plt.axhline(0, color='black', linewidth=0.8)\n",
    "plt.axvline(payback_period, color='green', linestyle='--', label='Payback Period' if payback_period is not None else '')\n",
    "plt.title('Annual Cash Flows of the PV-Battery Colocated Project Stage 2')\n",
    "plt.xlabel('Year')\n",
    "plt.ylabel('Cash Flow (GBP)')\n",
    "plt.legend()\n",
    "plt.grid(True)\n",
    "plt.show()"
   ]
  },
  {
   "cell_type": "code",
   "execution_count": 79,
   "id": "ed82d648-4807-4598-95c4-aaf3c4b0a5b1",
   "metadata": {},
   "outputs": [
    {
     "data": {
      "text/html": [
       "<div>\n",
       "<style scoped>\n",
       "    .dataframe tbody tr th:only-of-type {\n",
       "        vertical-align: middle;\n",
       "    }\n",
       "\n",
       "    .dataframe tbody tr th {\n",
       "        vertical-align: top;\n",
       "    }\n",
       "\n",
       "    .dataframe thead th {\n",
       "        text-align: right;\n",
       "    }\n",
       "</style>\n",
       "<table border=\"1\" class=\"dataframe\">\n",
       "  <thead>\n",
       "    <tr style=\"text-align: right;\">\n",
       "      <th></th>\n",
       "      <th>Base Case Value</th>\n",
       "      <th>-10%</th>\n",
       "      <th>+10%</th>\n",
       "      <th>NPV -10%</th>\n",
       "      <th>NPV +10%</th>\n",
       "      <th>NPV Change -10%</th>\n",
       "      <th>NPV Change +10%</th>\n",
       "      <th>NPV Change % -10%</th>\n",
       "      <th>NPV Change % +10%</th>\n",
       "      <th>Range</th>\n",
       "    </tr>\n",
       "  </thead>\n",
       "  <tbody>\n",
       "    <tr>\n",
       "      <th>price_escalation_rate</th>\n",
       "      <td>0.020</td>\n",
       "      <td>0.0180</td>\n",
       "      <td>0.0220</td>\n",
       "      <td>1.766347e+06</td>\n",
       "      <td>2.689682e+06</td>\n",
       "      <td>-4.563041e+05</td>\n",
       "      <td>4.670315e+05</td>\n",
       "      <td>-20.529724</td>\n",
       "      <td>21.012365</td>\n",
       "      <td>41.542090</td>\n",
       "    </tr>\n",
       "    <tr>\n",
       "      <th>battery_opex_per_mw_per_year</th>\n",
       "      <td>15000.000</td>\n",
       "      <td>13500.0000</td>\n",
       "      <td>16500.0000</td>\n",
       "      <td>2.588970e+06</td>\n",
       "      <td>1.856332e+06</td>\n",
       "      <td>3.663186e+05</td>\n",
       "      <td>-3.663186e+05</td>\n",
       "      <td>16.481160</td>\n",
       "      <td>-16.481160</td>\n",
       "      <td>32.962319</td>\n",
       "    </tr>\n",
       "    <tr>\n",
       "      <th>battery_degradation_rate</th>\n",
       "      <td>0.025</td>\n",
       "      <td>0.0225</td>\n",
       "      <td>0.0275</td>\n",
       "      <td>2.835586e+06</td>\n",
       "      <td>1.628061e+06</td>\n",
       "      <td>6.129353e+05</td>\n",
       "      <td>-5.945900e+05</td>\n",
       "      <td>27.576769</td>\n",
       "      <td>-26.751390</td>\n",
       "      <td>54.328160</td>\n",
       "    </tr>\n",
       "    <tr>\n",
       "      <th>discount_rate</th>\n",
       "      <td>0.050</td>\n",
       "      <td>0.0450</td>\n",
       "      <td>0.0550</td>\n",
       "      <td>2.913979e+06</td>\n",
       "      <td>1.581555e+06</td>\n",
       "      <td>6.913282e+05</td>\n",
       "      <td>-6.410961e+05</td>\n",
       "      <td>31.103770</td>\n",
       "      <td>-28.843762</td>\n",
       "      <td>59.947531</td>\n",
       "    </tr>\n",
       "    <tr>\n",
       "      <th>battery_capex_per_mw</th>\n",
       "      <td>700000.000</td>\n",
       "      <td>630000.0000</td>\n",
       "      <td>770000.0000</td>\n",
       "      <td>3.589318e+06</td>\n",
       "      <td>8.559843e+05</td>\n",
       "      <td>1.366667e+06</td>\n",
       "      <td>-1.366667e+06</td>\n",
       "      <td>61.488137</td>\n",
       "      <td>-61.488137</td>\n",
       "      <td>122.976275</td>\n",
       "    </tr>\n",
       "    <tr>\n",
       "      <th>battery_capacity_mw</th>\n",
       "      <td>20.000</td>\n",
       "      <td>18.0000</td>\n",
       "      <td>22.0000</td>\n",
       "      <td>4.601568e+06</td>\n",
       "      <td>-1.562658e+05</td>\n",
       "      <td>2.378917e+06</td>\n",
       "      <td>-2.378917e+06</td>\n",
       "      <td>107.030603</td>\n",
       "      <td>-107.030603</td>\n",
       "      <td>214.061207</td>\n",
       "    </tr>\n",
       "  </tbody>\n",
       "</table>\n",
       "</div>"
      ],
      "text/plain": [
       "                              Base Case Value         -10%         +10%  \\\n",
       "price_escalation_rate                   0.020       0.0180       0.0220   \n",
       "battery_opex_per_mw_per_year        15000.000   13500.0000   16500.0000   \n",
       "battery_degradation_rate                0.025       0.0225       0.0275   \n",
       "discount_rate                           0.050       0.0450       0.0550   \n",
       "battery_capex_per_mw               700000.000  630000.0000  770000.0000   \n",
       "battery_capacity_mw                    20.000      18.0000      22.0000   \n",
       "\n",
       "                                  NPV -10%      NPV +10%  NPV Change -10%  \\\n",
       "price_escalation_rate         1.766347e+06  2.689682e+06    -4.563041e+05   \n",
       "battery_opex_per_mw_per_year  2.588970e+06  1.856332e+06     3.663186e+05   \n",
       "battery_degradation_rate      2.835586e+06  1.628061e+06     6.129353e+05   \n",
       "discount_rate                 2.913979e+06  1.581555e+06     6.913282e+05   \n",
       "battery_capex_per_mw          3.589318e+06  8.559843e+05     1.366667e+06   \n",
       "battery_capacity_mw           4.601568e+06 -1.562658e+05     2.378917e+06   \n",
       "\n",
       "                              NPV Change +10%  NPV Change % -10%  \\\n",
       "price_escalation_rate            4.670315e+05         -20.529724   \n",
       "battery_opex_per_mw_per_year    -3.663186e+05          16.481160   \n",
       "battery_degradation_rate        -5.945900e+05          27.576769   \n",
       "discount_rate                   -6.410961e+05          31.103770   \n",
       "battery_capex_per_mw            -1.366667e+06          61.488137   \n",
       "battery_capacity_mw             -2.378917e+06         107.030603   \n",
       "\n",
       "                              NPV Change % +10%       Range  \n",
       "price_escalation_rate                 21.012365   41.542090  \n",
       "battery_opex_per_mw_per_year         -16.481160   32.962319  \n",
       "battery_degradation_rate             -26.751390   54.328160  \n",
       "discount_rate                        -28.843762   59.947531  \n",
       "battery_capex_per_mw                 -61.488137  122.976275  \n",
       "battery_capacity_mw                 -107.030603  214.061207  "
      ]
     },
     "metadata": {},
     "output_type": "display_data"
    },
    {
     "data": {
      "image/png": "[encoded data removed]",
      "text/plain": [
       "<Figure size 1200x800 with 1 Axes>"
      ]
     },
     "metadata": {},
     "output_type": "display_data"
    }
   ],
   "source": [
    "# Define the base case parameters\n",
    "base_params = {\n",
    "    'discount_rate': 0.05,\n",
    "    'battery_capex_per_mw': 700000, \n",
    "    'battery_capacity_mw': 20,  # Example value, replace with actual value\n",
    "    'battery_opex_per_mw_per_year': 15000,\n",
    "    'battery_efficiency': 0.85,  # Initial efficiency\n",
    "    'battery_degradation_rate': 0.025,  # 2.5% per year\n",
    "    'price_escalation_rate': 0.02,\n",
    "}\n",
    "\n",
    "# Define the necessary project variables\n",
    "battery_replacement = 580000  # Example value, replace with actual value\n",
    "initial_arbitrage_revenue = net_arbitrage_revenue # Example value, replace with actual value\n",
    "initial_BM_revenue = bm_revenue_fix * 0.3  # Example value, replace with actual value\n",
    "project_lifetime = 20\n",
    "construction_phase_years = 2\n",
    "battery_lifetime = 10\n",
    "\n",
    "def calculate_npv(params):\n",
    "    battery_capex = params['battery_capacity_mw'] * params['battery_capex_per_mw']\n",
    "    total_capex = battery_capex\n",
    "    total_replacement = battery_replacement * params['battery_capacity_mw']\n",
    "\n",
    "    battery_opex = params['battery_capacity_mw'] * params['battery_opex_per_mw_per_year']\n",
    "    total_opex = battery_opex\n",
    "\n",
    "    #escalated_solar_revenue_cfd = [initial_solar_revenue_cfd * ((1 + params['price_escalation_rate']) ** t) for t in range(project_lifetime + construction_phase_years)]\n",
    "    escalated_arbitrage_revenue = [initial_arbitrage_revenue * ((1 + params['price_escalation_rate']) ** t) for t in range(project_lifetime + construction_phase_years)]\n",
    "    escalated_BM_revenue = [initial_BM_revenue * ((1 + params['price_escalation_rate']) ** t) for t in range(project_lifetime + construction_phase_years)]\n",
    "    \n",
    "    # Adjust revenues for degradation\n",
    "    annual_revenue = []\n",
    "    for t in range(project_lifetime + construction_phase_years):\n",
    "        battery_degradation = (1 - params['battery_degradation_rate']) ** t\n",
    "        adjusted_arbitrage_revenue = escalated_arbitrage_revenue[t] * battery_degradation\n",
    "        adjusted_BM_revenue = escalated_BM_revenue[t] * battery_degradation\n",
    "        annual_revenue.append(adjusted_BM_revenue + adjusted_arbitrage_revenue)\n",
    "\n",
    "    cash_flows = []\n",
    "    C_battery_annual = battery_capex / construction_phase_years\n",
    "    cash_flows.append(-(C_battery_annual))  # Year 0\n",
    "    cash_flows.append(-C_battery_annual)  # Year 1\n",
    "\n",
    "    for t in range(2, battery_lifetime + construction_phase_years):\n",
    "        cash_flow = annual_revenue[t-1] - battery_opex\n",
    "        cash_flows.append(cash_flow)\n",
    "\n",
    "    cash_flow = annual_revenue[battery_lifetime + construction_phase_years - 1] - (total_replacement + battery_opex)\n",
    "    cash_flows.append(cash_flow)\n",
    "\n",
    "    for t in range(battery_lifetime + construction_phase_years + 1, project_lifetime + construction_phase_years + 1):\n",
    "        cash_flow = annual_revenue[t-1] - battery_opex\n",
    "        cash_flows.append(cash_flow)\n",
    "\n",
    "    npv = npf.npv(params['discount_rate'], cash_flows)\n",
    "    return npv\n",
    "\n",
    "# Calculate the base case NPV\n",
    "base_npv = calculate_npv(base_params)\n",
    "\n",
    "# Define the parameters for sensitivity analysis\n",
    "parameters = [\n",
    "    #'battery_efficiency',\n",
    "    'price_escalation_rate',\n",
    "    'battery_opex_per_mw_per_year',\n",
    "    'battery_degradation_rate',\n",
    "    'discount_rate',\n",
    "    'battery_capex_per_mw',\n",
    "    'battery_capacity_mw'\n",
    "]\n",
    "\n",
    "# Calculate NPVs for +10% and -10% changes\n",
    "sensitivity_data = []\n",
    "\n",
    "for param in parameters:\n",
    "    low_params = base_params.copy()\n",
    "    high_params = base_params.copy()\n",
    "    low_params[param] *= 0.9\n",
    "    high_params[param] *= 1.1\n",
    "    low_npv = calculate_npv(low_params)\n",
    "    high_npv = calculate_npv(high_params)\n",
    "    low_change = low_npv - base_npv\n",
    "    high_change = high_npv - base_npv\n",
    "    low_change_percent = (low_change / base_npv) * 100\n",
    "    high_change_percent = (high_change / base_npv) * 100\n",
    "    sensitivity_data.append([\n",
    "        base_params[param],  # Base value\n",
    "        low_params[param],  # -10%\n",
    "        high_params[param],  # +10%\n",
    "        low_npv,  # NPV at -10%\n",
    "        high_npv,  # NPV at +10%\n",
    "        low_change,  # NPV change at -10%\n",
    "        high_change,  # NPV change at +10%\n",
    "        low_change_percent,  # NPV change % at -10%\n",
    "        high_change_percent  # NPV change % at +10%\n",
    "    ])\n",
    "\n",
    "# Create DataFrame for the sensitivity analysis results\n",
    "sensitivity_df = pd.DataFrame(sensitivity_data, columns=[\n",
    "    'Base Case Value', '-10%', '+10%', 'NPV -10%', 'NPV +10%', 'NPV Change -10%', 'NPV Change +10%', 'NPV Change % -10%', 'NPV Change % +10%'\n",
    "], index=parameters)\n",
    "\n",
    "# Calculate the range of changes\n",
    "sensitivity_df['Range'] = sensitivity_df[['NPV Change % -10%', 'NPV Change % +10%']].max(axis=1) - sensitivity_df[['NPV Change % -10%', 'NPV Change % +10%']].min(axis=1)\n",
    "\n",
    "\n",
    "# Save the DataFrame to an Excel file\n",
    "sensitivity_df.to_excel('npv_sensitivity_analysis_ranked.xlsx', sheet_name='Sensitivity Analysis')\n",
    "\n",
    "# Display DataFrame to user\n",
    "from IPython.display import display\n",
    "display(sensitivity_df)\n",
    "\n",
    "# Plot the tornado graph\n",
    "plt.figure(figsize=(12, 8))\n",
    "\n",
    "# Plot negative changes\n",
    "plt.barh(sensitivity_df.index, sensitivity_df['NPV Change % -10%'], color='midnightblue', alpha=0.9, label='NPV Changes % (-10%)')\n",
    "\n",
    "# Plot positive changes\n",
    "plt.barh(sensitivity_df.index, sensitivity_df['NPV Change % +10%'], color='crimson', alpha=1, label='NPV Changes % (+10%)')\n",
    "\n",
    "# Add a vertical line at x=0\n",
    "plt.axvline(x=0, color='black', linestyle='--')\n",
    "\n",
    "# Add labels and title\n",
    "plt.xlabel('NPV Change (%)')\n",
    "plt.title('Tornado Graph of NPV Sensitivity Analysis (Ranked)')\n",
    "plt.legend()\n",
    "plt.grid(True)\n",
    "\n",
    "# Show the plot\n",
    "plt.show()\n"
   ]
  },
  {
   "cell_type": "code",
   "execution_count": null,
   "id": "0a061a58-00e8-4c56-ad81-4350e59f42d5",
   "metadata": {},
   "outputs": [],
   "source": []
  }
 ],
 "metadata": {
  "kernelspec": {
   "display_name": "Python 3 (ipykernel)",
   "language": "python",
   "name": "python3"
  },
  "language_info": {
   "codemirror_mode": {
    "name": "ipython",
    "version": 3
   },
   "file_extension": ".py",
   "mimetype": "text/x-python",
   "name": "python",
   "nbconvert_exporter": "python",
   "pygments_lexer": "ipython3",
   "version": "3.11.7"
  }
 },
 "nbformat": 4,
 "nbformat_minor": 5
}
